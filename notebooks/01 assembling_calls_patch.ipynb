{
 "cells": [
  {
   "cell_type": "code",
   "execution_count": null,
   "id": "cdfba6dc",
   "metadata": {},
   "outputs": [],
   "source": [
    "import polars as pl\n",
    "from tqdm import tqdm"
   ]
  },
  {
   "cell_type": "markdown",
   "id": "d2a5a48f",
   "metadata": {},
   "source": [
    "## Paths"
   ]
  },
  {
   "cell_type": "code",
   "execution_count": null,
   "id": "894a9405",
   "metadata": {},
   "outputs": [],
   "source": [
    "base = \"../game-dump/\""
   ]
  },
  {
   "cell_type": "code",
   "execution_count": null,
   "id": "98798598",
   "metadata": {},
   "outputs": [],
   "source": [
    "# paths to input CSVs\n",
    "fn0 = base + \"broken-byte-calls.csv\"\n",
    "fn1 = base + \"broken-analyzed-calls.csv\"\n",
    "old_iat_csv = base + \"old-iat.csv\"\n",
    "fn_calls = base + \"game.exe.export.csv\""
   ]
  },
  {
   "cell_type": "code",
   "execution_count": null,
   "id": "b547f95e",
   "metadata": {},
   "outputs": [],
   "source": [
    "# path to exe with prefilled IAT\n",
    "out_path = r\"G:\\Games\\FA\\FA-EMU\\Shipping\\GAME_dump_mod.exe\""
   ]
  },
  {
   "cell_type": "code",
   "execution_count": null,
   "id": "ccedc8bd",
   "metadata": {},
   "outputs": [],
   "source": [
    "# path to output CSVs\n",
    "fn_thunks = base + \"thunks.csv\"\n",
    "calls_patch_path = base + \"calls_patch.csv\"\n",
    "thunks_patch_path = base + \"thunks_patch.csv\"\n",
    "old_iat_patch_path = base + \"old_iat_patch.csv\"\n",
    "new_idt_path = base + \"new_idt.csv\""
   ]
  },
  {
   "cell_type": "markdown",
   "id": "6c01d2c2",
   "metadata": {},
   "source": [
    "# Import data"
   ]
  },
  {
   "cell_type": "code",
   "execution_count": null,
   "id": "03ca129e",
   "metadata": {},
   "outputs": [],
   "source": [
    "# load both CSVs\n",
    "df0 = pl.read_csv(fn0)\n",
    "df1 = pl.read_csv(fn1)\n",
    "\n",
    "# Keep only rows from df1 whose Call address is not present in df0\n",
    "df1_filtered = df1.join(\n",
    "    df0.select(\"Call address\"),\n",
    "    on=\"Call address\",\n",
    "    how=\"anti\",  # keeps only rows NOT matching df0\n",
    ")\n",
    "\n",
    "# join (concatenate) them\n",
    "df = pl.concat([df0, df1_filtered])\n",
    "calls_table = df\n",
    "\n",
    "df.head(3)"
   ]
  },
  {
   "cell_type": "markdown",
   "id": "434a55db",
   "metadata": {},
   "source": [
    "# Count calls"
   ]
  },
  {
   "cell_type": "code",
   "execution_count": null,
   "id": "800cb5e5",
   "metadata": {},
   "outputs": [],
   "source": [
    "# count top 5 \"Destination\" entries\n",
    "top5 = df.group_by(\"Destination\").len().sort(\"len\", descending=True)\n",
    "\n",
    "total_calls = df.shape[0]\n",
    "total_unique = len(df.select(\"Destination\").unique())\n",
    "top5_unique = top5.select(\"len\").head(5).sum().to_series()[0]\n",
    "\n",
    "print(total_calls, total_unique, top5_unique)\n",
    "top5.head()"
   ]
  },
  {
   "cell_type": "code",
   "execution_count": null,
   "id": "af9a9aae",
   "metadata": {},
   "outputs": [],
   "source": [
    "target = \"0x60bcccc9\"\n",
    "# target = '0x7584eb00'\n",
    "target = \"0x7584ea80\"\n",
    "target = \"0x60c17149\"\n",
    "target = \"0x6a409442\"\n",
    "\n",
    "s = df.filter(pl.col(\"Destination\") == target)\n",
    "s.head()"
   ]
  },
  {
   "cell_type": "markdown",
   "id": "96a49214",
   "metadata": {},
   "source": [
    "# Map to calls"
   ]
  },
  {
   "cell_type": "code",
   "execution_count": null,
   "id": "c26fdbcd",
   "metadata": {},
   "outputs": [],
   "source": [
    "functions_table = pl.read_csv(fn_calls)\n",
    "functions_table.shape, functions_table.columns"
   ]
  },
  {
   "cell_type": "code",
   "execution_count": null,
   "id": "4ac20388",
   "metadata": {},
   "outputs": [],
   "source": [
    "# --- Convert addresses to integers ---\n",
    "calls_table = calls_table.with_columns(\n",
    "    pl.col(\"Destination\")\n",
    "    .str.strip_prefix(\"0x\")\n",
    "    .map_elements(lambda x: int(x, 16), pl.Int64)\n",
    "    .alias(\"Dest_int\")\n",
    ")\n",
    "\n",
    "functions_table = functions_table.with_columns(\n",
    "    pl.col(\"Address\").map_elements(lambda x: int(x, 16), pl.Int64).alias(\"Addr_int\")\n",
    ")"
   ]
  },
  {
   "cell_type": "code",
   "execution_count": null,
   "id": "7aa8d134",
   "metadata": {},
   "outputs": [],
   "source": [
    "functions_table.filter(pl.col(\"Function\").str.contains(\"Umbra::MatrixFormat\"))[\n",
    "    \"Function\"\n",
    "][1]"
   ]
  },
  {
   "cell_type": "code",
   "execution_count": null,
   "id": "e60bd94a",
   "metadata": {},
   "outputs": [],
   "source": [
    "functions_table = functions_table.filter(pl.col(\"Module\") != \"game.exe\")\n",
    "functions_table"
   ]
  },
  {
   "cell_type": "code",
   "execution_count": null,
   "id": "199b9a93",
   "metadata": {},
   "outputs": [],
   "source": [
    "def remove_dupes(df: pl.DataFrame, expr: pl.Expr) -> pl.DataFrame:\n",
    "    return df.unique(subset=expr, keep=\"first\")"
   ]
  },
  {
   "cell_type": "code",
   "execution_count": null,
   "id": "681229bd",
   "metadata": {},
   "outputs": [],
   "source": [
    "print(functions_table.shape)\n",
    "functions_table = remove_dupes(functions_table, pl.col(\"Address\"))\n",
    "functions_table.shape"
   ]
  },
  {
   "cell_type": "code",
   "execution_count": null,
   "id": "9ddc8810",
   "metadata": {},
   "outputs": [],
   "source": [
    "# --- fix names to decorated ---\n",
    "dec_undec = pl.read_csv(\"../anti-debug-dump/names-map.csv\")\n",
    "print(dec_undec.shape)\n",
    "dec_undec = remove_dupes(dec_undec, pl.col(\"undecorated\"))\n",
    "dec_undec.shape"
   ]
  },
  {
   "cell_type": "code",
   "execution_count": null,
   "id": "d135300e",
   "metadata": {},
   "outputs": [],
   "source": [
    "right = dec_undec.with_columns(\n",
    "    pl.col(\"undecorated\").str.replace_all(\" \", \"\").str.slice(0, 200)\n",
    ")\n",
    "left = functions_table.with_columns(\n",
    "    pl.col(\"Function\").str.replace_all(\" \", \"\").str.slice(0, 200)\n",
    ")"
   ]
  },
  {
   "cell_type": "code",
   "execution_count": null,
   "id": "b466ddd4",
   "metadata": {},
   "outputs": [],
   "source": [
    "a1 = left.filter(pl.col(\"Function\").str.contains(\"Umbra::MatrixFormat\"))\n",
    "a2 = right.filter(pl.col(\"undecorated\").str.contains(\"Umbra::MatrixFormat\"))"
   ]
  },
  {
   "cell_type": "code",
   "execution_count": null,
   "id": "5a1c8fbb",
   "metadata": {},
   "outputs": [],
   "source": [
    "left = left.join(right, left_on=\"Function\", right_on=\"undecorated\", how=\"left\")\n",
    "functions_table = (\n",
    "    left.with_columns(pl.coalesce(pl.col(\"decorated\", \"Function\")))\n",
    "    .drop(\"Function\")\n",
    "    .rename({\"decorated\": \"Function\"})\n",
    ")"
   ]
  },
  {
   "cell_type": "code",
   "execution_count": null,
   "id": "b243e976",
   "metadata": {},
   "outputs": [],
   "source": [
    "# --- Sort for searching ---\n",
    "functions_table = functions_table.sort(\"Addr_int\")\n",
    "calls_table = calls_table.sort(\"Dest_int\")"
   ]
  },
  {
   "cell_type": "code",
   "execution_count": null,
   "id": "22169d0e",
   "metadata": {},
   "outputs": [],
   "source": [
    "functions_table = functions_table.unique(subset=[\"Addr_int\"], keep=\"first\")"
   ]
  },
  {
   "cell_type": "code",
   "execution_count": null,
   "id": "54db8c3b",
   "metadata": {},
   "outputs": [],
   "source": [
    "# --- Resolve function names ---\n",
    "def resolve_func(addr, func_addrs, func_names):\n",
    "    # find all functions with address <= addr\n",
    "    lesser = func_addrs[func_addrs <= addr]\n",
    "    if len(lesser) == 0:\n",
    "        return None, False\n",
    "    closest_addr = lesser.max()\n",
    "    func_name = func_names[func_addrs == closest_addr][0]\n",
    "    precise = addr == closest_addr\n",
    "    return func_name, precise"
   ]
  },
  {
   "cell_type": "code",
   "execution_count": null,
   "id": "663b2e63",
   "metadata": {},
   "outputs": [],
   "source": [
    "# --- Perform an asof join (find closest smaller or equal function address) ---\n",
    "joined = calls_table.join_asof(\n",
    "    functions_table,\n",
    "    left_on=\"Dest_int\",\n",
    "    right_on=\"Addr_int\",\n",
    "    strategy=\"backward\",  # means <= (closest smaller or equal)\n",
    ")\n",
    "\n",
    "joined.head(2)"
   ]
  },
  {
   "cell_type": "code",
   "execution_count": null,
   "id": "8d6a8491",
   "metadata": {},
   "outputs": [],
   "source": [
    "# --- Add Precise flag ---\n",
    "joined = joined.with_columns(\n",
    "    (pl.col(\"Dest_int\") == pl.col(\"Addr_int\")).alias(\"Precise\")\n",
    ")\n",
    "\n",
    "# manual check that we lost nothing important\n",
    "# print(joined.filter(pl.col(\"Precise\") == False).shape)\n",
    "# for caddr, dest in joined.filter(pl.col(\"Precise\") == False).select('Call address', 'Destination').to_numpy():\n",
    "#     print(caddr, dest)\n",
    "# Checked: we didn't\n",
    "# UPD: i don't know anymore\n",
    "\n",
    "joined = joined.filter(\"Precise\")"
   ]
  },
  {
   "cell_type": "code",
   "execution_count": null,
   "id": "8a70420b",
   "metadata": {},
   "outputs": [],
   "source": [
    "# --- Clean up ---\n",
    "result = joined.select(\n",
    "    [\n",
    "        \"function\",\n",
    "        \"Call address\",\n",
    "        \"Instruction\",\n",
    "        \"Destination\",\n",
    "        \"Module\",\n",
    "        pl.col(\"Function\").alias(\"Resolved name\"),\n",
    "    ]\n",
    ")\n",
    "\n",
    "result"
   ]
  },
  {
   "cell_type": "markdown",
   "id": "3b0f27d2",
   "metadata": {},
   "source": [
    "# Gather modules"
   ]
  },
  {
   "cell_type": "code",
   "execution_count": null,
   "id": "4eb65064",
   "metadata": {},
   "outputs": [],
   "source": [
    "pl.Config(tbl_rows=10)"
   ]
  },
  {
   "cell_type": "code",
   "execution_count": null,
   "id": "b8d5bdd2",
   "metadata": {},
   "outputs": [],
   "source": [
    "modules = (\n",
    "    result.group_by(\"Module\")\n",
    "    .agg(pl.col(\"Resolved name\").n_unique().alias(\"Unique\"))\n",
    "    .sort(\"Module\")\n",
    ")\n",
    "# print(modules['Module'].to_numpy())\n",
    "modules.sort(\"Unique\")"
   ]
  },
  {
   "cell_type": "code",
   "execution_count": null,
   "id": "730b8be6",
   "metadata": {},
   "outputs": [],
   "source": [
    "pl.Config(tbl_rows=10)"
   ]
  },
  {
   "cell_type": "code",
   "execution_count": null,
   "id": "ba87c57a",
   "metadata": {},
   "outputs": [],
   "source": [
    "selected = \"dsound.dll\"\n",
    "res_mod = result.filter(pl.col(\"Module\") == selected).sort(\"Call address\")\n",
    "\n",
    "jmp_n = res_mod.filter(pl.col(\"Instruction\") == \"jmp\").unique(\"Destination\").shape[0]\n",
    "call_n = res_mod.filter(pl.col(\"Instruction\") != \"jmp\").unique(\"Destination\").shape[0]\n",
    "if jmp_n >= call_n:\n",
    "    print(f\"All({call_n}) imports resolved({jmp_n})\")\n",
    "elif jmp_n < call_n:\n",
    "    print(f\"WARNING! {call_n - jmp_n} imports not resolved\")\n",
    "\n",
    "(res_mod.filter(pl.col(\"Instruction\") == \"jmp\").unique(\"Destination\")).with_row_index()"
   ]
  },
  {
   "cell_type": "code",
   "execution_count": null,
   "id": "0a6572b6",
   "metadata": {},
   "outputs": [],
   "source": [
    "modules = modules.with_columns(\n",
    "    pl.lit(\"null\").alias(\"Name_begin\"),\n",
    "    pl.lit(\"null\").alias(\"ILT_begin\"),\n",
    "    pl.lit(\"null\").alias(\"ILT_length\"),\n",
    "    pl.lit(\"null\").alias(\"IAT_begin\"),\n",
    "    pl.lit(\"null\").alias(\"IAT_length\"),\n",
    ")"
   ]
  },
  {
   "cell_type": "code",
   "execution_count": null,
   "id": "3ae944bc",
   "metadata": {},
   "outputs": [],
   "source": [
    "# fn_m = r\"..\\anti-debug-dump\\modules_metadata.csv\"\n",
    "# modules.write_csv(fn_m)"
   ]
  },
  {
   "cell_type": "markdown",
   "id": "7e271dde",
   "metadata": {},
   "source": [
    "# Find jump thunks"
   ]
  },
  {
   "cell_type": "code",
   "execution_count": null,
   "id": "1ca1cd2d",
   "metadata": {},
   "outputs": [],
   "source": [
    "result.filter(pl.col(\"Call address\") == \"0x14ad107\")[\"Instruction\"][0]"
   ]
  },
  {
   "cell_type": "code",
   "execution_count": null,
   "id": "b08685c9",
   "metadata": {},
   "outputs": [],
   "source": [
    "# Helper function to get a row by address\n",
    "def get_row_by_address(addr: int):\n",
    "    return result.filter(pl.col(\"Call address\") == hex(addr))\n",
    "\n",
    "\n",
    "# a thunk is any `nop, e9 ? ? ? ?`, which is surrounded by at least 2 thunks (or two behind / two in front)\n",
    "def is_thunk(call_address: str) -> bool:\n",
    "    # Convert call address to integer for arithmetic operations\n",
    "    try:\n",
    "        base_addr = int(call_address, 16)\n",
    "    except ValueError:\n",
    "        print(\"val err\")\n",
    "        return False\n",
    "\n",
    "    if len(get_row_by_address(base_addr)) == 0:\n",
    "        print(\"no command\")\n",
    "        return False\n",
    "\n",
    "    # Check condition 1: Two neighbors at +6 and -6, both with Instruction=\"jmp\"\n",
    "    addr_plus6 = base_addr + 6\n",
    "    addr_minus6 = base_addr - 6\n",
    "\n",
    "    row_plus6 = get_row_by_address(addr_plus6)\n",
    "    row_minus6 = get_row_by_address(addr_minus6)\n",
    "\n",
    "    condition1 = (\n",
    "        len(row_plus6) > 0\n",
    "        and len(row_minus6) > 0\n",
    "        and row_plus6.select(pl.col(\"Instruction\") == \"jmp\").item()\n",
    "        and row_minus6.select(pl.col(\"Instruction\") == \"jmp\").item()\n",
    "    )\n",
    "\n",
    "    # Check condition 2: One neighbor at -6 which also has a neighbor at -12, both \"jmp\"\n",
    "    addr_minus12 = base_addr - 12\n",
    "    row_minus12 = get_row_by_address(addr_minus12)\n",
    "\n",
    "    condition2 = (\n",
    "        len(row_minus6) > 0\n",
    "        and len(row_minus12) > 0\n",
    "        and row_minus6.select(pl.col(\"Instruction\") == \"jmp\").item()\n",
    "        and row_minus12.select(pl.col(\"Instruction\") == \"jmp\").item()\n",
    "    )\n",
    "\n",
    "    # Check condition 3: Neighbors at +6 and +12, both with Instruction=\"jmp\"\n",
    "    addr_plus12 = base_addr + 12\n",
    "    row_plus12 = get_row_by_address(addr_plus12)\n",
    "\n",
    "    condition3 = (\n",
    "        len(row_plus6) > 0\n",
    "        and len(row_plus12) > 0\n",
    "        and row_plus6.select(pl.col(\"Instruction\") == \"jmp\").item()\n",
    "        and row_plus12.select(pl.col(\"Instruction\") == \"jmp\").item()\n",
    "    )\n",
    "\n",
    "    # If none of the conditions are met\n",
    "    return condition1 | condition2 | condition3"
   ]
  },
  {
   "cell_type": "code",
   "execution_count": null,
   "id": "082e9c1a",
   "metadata": {},
   "outputs": [],
   "source": [
    "df = calls_table.filter(pl.col(\"Instruction\") == \"jmp\")\n",
    "df = df.with_columns(\n",
    "    pl.col(\"Call address\").str.slice(2).str.to_integer(base=16).alias(\"call int\")\n",
    ")\n",
    "df = df.sort(\"call int\")\n",
    "df = df.with_columns(\n",
    "    (pl.col(\"call int\").shift(-1) - pl.col(\"call int\")).alias(\"to next\")\n",
    ")\n",
    "df = df.with_columns(\n",
    "    (pl.col(\"call int\") - pl.col(\"call int\").shift(1)).alias(\"to prev\")\n",
    ")\n",
    "df = df.with_columns(\n",
    "    pl.Expr.and_(pl.col(\"to prev\") == 6, pl.col(\"to next\") == 6).alias(\"is_thunk\")\n",
    ")\n",
    "df = df.with_columns(pl.Expr.or_(pl.col(\"is_thunk\"), pl.col(\"is_thunk\").shift(1)))\n",
    "df = df.with_columns(pl.Expr.or_(pl.col(\"is_thunk\"), pl.col(\"is_thunk\").shift(-1)))\n",
    "\n",
    "\n",
    "# exceptions\n",
    "df = df.with_columns(\n",
    "    pl.Expr.or_(pl.col(\"is_thunk\"), pl.col(\"Call address\") == \"0x14aaadb\")\n",
    ")\n",
    "df = df.with_columns(\n",
    "    pl.Expr.or_(pl.col(\"is_thunk\"), pl.col(\"Call address\") == \"0x14aaad5\")\n",
    ")\n",
    "\n",
    "df = df.with_columns(\n",
    "    pl.Expr.or_(pl.col(\"is_thunk\"), pl.col(\"Call address\") == \"0x14aa9f5\")\n",
    ")\n",
    "df = df.with_columns(\n",
    "    pl.Expr.or_(pl.col(\"is_thunk\"), pl.col(\"Call address\") == \"0x14aa9fb\")\n",
    ")\n",
    "\n",
    "df = df.with_columns(\n",
    "    pl.Expr.or_(pl.col(\"is_thunk\"), pl.col(\"Call address\") == \"0x14aab3d\")\n",
    ")\n",
    "\n",
    "df = df.with_columns(\n",
    "    pl.Expr.or_(pl.col(\"is_thunk\"), pl.col(\"Call address\") == \"0x14ab35d\")\n",
    ")\n",
    "df = df.with_columns(\n",
    "    pl.Expr.or_(pl.col(\"is_thunk\"), pl.col(\"Call address\") == \"0x14ab363\")\n",
    ")\n",
    "\n",
    "df = df.with_columns(\n",
    "    pl.Expr.or_(pl.col(\"is_thunk\"), pl.col(\"Call address\") == \"0x14ab405\")\n",
    ")\n",
    "df = df.with_columns(\n",
    "    pl.Expr.or_(pl.col(\"is_thunk\"), pl.col(\"Call address\") == \"0x14ab40b\")\n",
    ")\n",
    "\n",
    "df = df.with_columns(\n",
    "    pl.Expr.or_(pl.col(\"is_thunk\"), pl.col(\"Call address\") == \"0x14ab767\")\n",
    ")\n",
    "df = df.with_columns(\n",
    "    pl.Expr.or_(pl.col(\"is_thunk\"), pl.col(\"Call address\") == \"0x14ab76d\")\n",
    ")\n",
    "\n",
    "df = df.with_columns(\n",
    "    pl.Expr.or_(pl.col(\"is_thunk\"), pl.col(\"Call address\") == \"0x14abc33\")\n",
    ")\n",
    "df = df.with_columns(\n",
    "    pl.Expr.or_(pl.col(\"is_thunk\"), pl.col(\"Call address\") == \"0x14abc39\")\n",
    ")\n",
    "\n",
    "df = df.with_columns(\n",
    "    pl.Expr.or_(pl.col(\"is_thunk\"), pl.col(\"Call address\") == \"0x14abe61\")\n",
    ")\n",
    "\n",
    "df = df.with_columns(\n",
    "    pl.Expr.or_(pl.col(\"is_thunk\"), pl.col(\"Call address\") == \"0xcedcb1\")\n",
    ")\n",
    "\n",
    "df = df.with_columns(\n",
    "    pl.Expr.or_(pl.col(\"is_thunk\"), pl.col(\"Call address\") == \"0xcedcf1\")\n",
    ")\n",
    "# end of exceptions\n",
    "\n",
    "thunks = df.filter(\"is_thunk\")\n",
    "thunks.shape"
   ]
  },
  {
   "cell_type": "code",
   "execution_count": null,
   "id": "52390e3b",
   "metadata": {},
   "outputs": [],
   "source": [
    "thunks = thunks.with_columns(\n",
    "    pl.col(\"Destination\").str.slice(2).str.to_integer(base=16).alias(\"Addr_int\")\n",
    ")\n",
    "thunks = thunks.join(\n",
    "    functions_table.select(\"Module\", \"Function\", \"Addr_int\"), on=\"Addr_int\", how=\"left\"\n",
    ")\n",
    "thunks = thunks.drop(\n",
    "    \"Resolved name\",\n",
    "    \"Dest_int\",\n",
    "    \"call int\",\n",
    "    \"to next\",\n",
    "    \"to prev\",\n",
    "    \"Addr_int\",\n",
    "    \"is_thunk\",\n",
    "    \"function\",\n",
    "    \"Instruction\",\n",
    ")\n",
    "\n",
    "print(thunks.shape)\n",
    "thunks.head(5)"
   ]
  },
  {
   "cell_type": "code",
   "execution_count": null,
   "id": "0b68a5ad",
   "metadata": {},
   "outputs": [],
   "source": [
    "thunks.filter(pl.col(\"Module\").is_null())"
   ]
  },
  {
   "cell_type": "markdown",
   "id": "98cf0f46",
   "metadata": {},
   "source": [
    "### Not enough thunks (adding a few from old IAT)"
   ]
  },
  {
   "cell_type": "code",
   "execution_count": null,
   "id": "24f31a6c",
   "metadata": {},
   "outputs": [],
   "source": [
    "iat_entries = pl.read_csv(old_iat_csv)\n",
    "iat_entries = iat_entries.filter(pl.col(\"Destination\") != \"00000000\")\n",
    "iat_entries = iat_entries.filter(pl.col(\"Address\") != \"0x01588AB0\")  # broken entry\n",
    "\n",
    "no_thunks: list[str] = []\n",
    "\n",
    "for addr, dest in iat_entries.rows():\n",
    "    thunk = thunks.filter(pl.col(\"Destination\") == hex(int(dest, 16)))\n",
    "    if thunk.shape[0] == 0:\n",
    "        dup = \"Duplicated e\"\n",
    "        if dest not in no_thunks:\n",
    "            dup = \"E\"\n",
    "            no_thunks.append(dest)\n",
    "        print(f\"{dup}ntry {dest} from old iat at {addr} is not found among thunks\")"
   ]
  },
  {
   "cell_type": "code",
   "execution_count": null,
   "id": "3f35a7ee",
   "metadata": {},
   "outputs": [],
   "source": [
    "available_thunk_places = [\n",
    "    [\"0x014AB2A4\", 12],\n",
    "    [\"0x014AB368\", 8],\n",
    "    [\"0x014AB3C2\", 14],\n",
    "    [\"0x014AB5B6\", 10],\n",
    "    [\"0x014AB602\", 14],\n",
    "]\n",
    "\n",
    "\n",
    "def find_next_addr(size: int = 6) -> str | None:\n",
    "    global available_thunk_places\n",
    "    for i in range(len(available_thunk_places)):\n",
    "        e = available_thunk_places[i]\n",
    "        if e[1] >= size:\n",
    "            e[1] -= size\n",
    "            retval = int(e[0], 16)\n",
    "            e[0] = hex(retval + size)\n",
    "            return hex(retval)\n",
    "    return None\n",
    "\n",
    "\n",
    "thunks = thunks.with_columns(pl.lit(False).alias(\"new\"))\n",
    "for dest in no_thunks:\n",
    "    addr = find_next_addr()\n",
    "    print(f\"Using {addr} to place a new thunk\")\n",
    "    if addr is None:\n",
    "        raise RuntimeError(\"Can't place new thunk: no available space\")\n",
    "\n",
    "    func = functions_table.filter(pl.col(\"Address\") == dest)\n",
    "    thunks = thunks.vstack(\n",
    "        pl.DataFrame(\n",
    "            {\n",
    "                \"Call address\": hex(int(addr, 16)),\n",
    "                \"Destination\": hex(int(dest, 16)),\n",
    "                \"Module\": func[\"Module\"][0],\n",
    "                \"Function\": func[\"Function\"][0],\n",
    "                \"new\": True,\n",
    "            }\n",
    "        )\n",
    "    )\n",
    "\n",
    "no_thunks = []\n",
    "print(thunks.shape)"
   ]
  },
  {
   "cell_type": "markdown",
   "id": "8184c37d",
   "metadata": {},
   "source": [
    "### Check and save"
   ]
  },
  {
   "cell_type": "code",
   "execution_count": null,
   "id": "6d92d8ec",
   "metadata": {},
   "outputs": [],
   "source": [
    "dests = set(thunks[\"Destination\"])\n",
    "len(dests), list(dests)[:10]"
   ]
  },
  {
   "cell_type": "code",
   "execution_count": null,
   "id": "341b9c9c",
   "metadata": {},
   "outputs": [],
   "source": [
    "# check all the functions have thunks\n",
    "df = result.filter(~pl.col(\"Destination\").is_in(dests))\n",
    "# filter(pl.col(\"Instruction\") == \"jmp\")\n",
    "n_unthunked = df.sort(\"Call address\").shape[0]\n",
    "assert 0 == n_unthunked, f\"Some({n_unthunked}) calls are not thunked!\""
   ]
  },
  {
   "cell_type": "code",
   "execution_count": null,
   "id": "876378a8",
   "metadata": {},
   "outputs": [],
   "source": [
    "thunks.write_csv(fn_thunks)"
   ]
  },
  {
   "cell_type": "markdown",
   "id": "fa68a0b3",
   "metadata": {},
   "source": [
    "# Building new IDT for the old IAT"
   ]
  },
  {
   "cell_type": "code",
   "execution_count": null,
   "id": "cca80664",
   "metadata": {},
   "outputs": [],
   "source": [
    "old_iat = iat_entries.with_columns(\n",
    "    pl.col(\"Destination\").str.to_integer(base=16).alias(\"Addr_int\")\n",
    ")\n",
    "old_iat = old_iat.join(functions_table.drop(\"Address\"), on=\"Addr_int\", how=\"left\")\n",
    "old_iat = old_iat.sort(\"Address\").drop(\"Destination\").drop(\"Addr_int\")\n",
    "\n",
    "print(old_iat.shape)\n",
    "old_iat.head()"
   ]
  },
  {
   "cell_type": "code",
   "execution_count": null,
   "id": "1618a82d",
   "metadata": {},
   "outputs": [],
   "source": [
    "old_iat.write_csv(new_idt_path)"
   ]
  },
  {
   "cell_type": "markdown",
   "id": "45ce7dfc",
   "metadata": {},
   "source": [
    "# Stop here and run patch_iat.ipynb"
   ]
  },
  {
   "cell_type": "markdown",
   "id": "895b18e6",
   "metadata": {},
   "source": [
    "Or patch_idt.ipynb (if you're restoring the original idt)"
   ]
  },
  {
   "cell_type": "code",
   "execution_count": null,
   "id": "686c1bec",
   "metadata": {},
   "outputs": [],
   "source": [
    "raise RuntimeError(\"Pause here!\")"
   ]
  },
  {
   "cell_type": "code",
   "execution_count": null,
   "id": "783da52f",
   "metadata": {},
   "outputs": [],
   "source": [
    "pass"
   ]
  },
  {
   "cell_type": "markdown",
   "id": "a39eab52",
   "metadata": {},
   "source": [
    "# Constructing patch"
   ]
  },
  {
   "cell_type": "markdown",
   "id": "a66130d6",
   "metadata": {},
   "source": [
    "## Patching calls and jmps"
   ]
  },
  {
   "cell_type": "markdown",
   "id": "05bac5f0",
   "metadata": {},
   "source": [
    "Sets their new address to thunks"
   ]
  },
  {
   "cell_type": "code",
   "execution_count": null,
   "id": "a165d2d8",
   "metadata": {},
   "outputs": [],
   "source": [
    "def hex_to_BE(num: int) -> bytearray:\n",
    "    # Convert to 32-bit two's complement\n",
    "    num_32bit = num & 0xFFFFFFFF\n",
    "    # Format as 8-character hex string without '0x' prefix\n",
    "    hex_str = format(num_32bit, \"08x\")\n",
    "    return bytearray.fromhex(hex_str)\n",
    "\n",
    "\n",
    "def hex_to_LE(num: int) -> bytearray:\n",
    "    BE = hex_to_BE(num)\n",
    "    BE.reverse()\n",
    "    return BE"
   ]
  },
  {
   "cell_type": "code",
   "execution_count": null,
   "id": "4f91b2d7",
   "metadata": {},
   "outputs": [],
   "source": [
    "def rel_call(src: str, dst: str) -> bytearray:\n",
    "    src_str = hex(int(src, base=16) + 5)\n",
    "    rel = int(dst[2:], base=16) - int(src_str[2:], base=16)\n",
    "    return hex_to_LE(rel)\n",
    "\n",
    "\n",
    "def create_jumpcall(src: str, dst: str) -> bytearray:\n",
    "    thunk_search = thunks.filter(pl.col(\"Destination\") == dst)[\"Call address\"]\n",
    "    if thunk_search.shape[0] < 1:\n",
    "        raise RuntimeError(f\"Failed to find thunk for src:{src}, dst:{dst}\")\n",
    "\n",
    "    thunk_addr = int(thunk_search[0][2:], 16) - 1\n",
    "    return rel_call(src, hex(thunk_addr))\n",
    "\n",
    "\n",
    "def to_bin(bt: bytearray) -> str:\n",
    "    LE = b\"\\x00\" * (4 - len(bt)) + bt\n",
    "    s = \"\"\n",
    "    for c in LE:\n",
    "        c = hex(c)[2:]\n",
    "        c = \"0\" * (2 - len(c)) + c\n",
    "        s += c\n",
    "    return s.upper()\n",
    "\n",
    "\n",
    "def from_bin(binary: str) -> int:\n",
    "    return int.from_bytes(bytes.fromhex(binary)[::-1])"
   ]
  },
  {
   "cell_type": "code",
   "execution_count": null,
   "id": "8583d03f",
   "metadata": {},
   "outputs": [],
   "source": [
    "src = \"0x14abeb6\"\n",
    "dest = result.filter(pl.col(\"Call address\") == src)[\"Destination\"][0]\n",
    "thunk = thunks.filter(pl.col(\"Destination\") == dest)[\"Call address\"][0]\n",
    "thunk = hex(int(thunk[2:], 16) - 1)\n",
    "src, dest, thunk"
   ]
  },
  {
   "cell_type": "code",
   "execution_count": null,
   "id": "92c2ec94",
   "metadata": {},
   "outputs": [],
   "source": [
    "binary = to_bin(rel_call(src, thunk))\n",
    "delta = from_bin(binary)\n",
    "hex(int(src, 16) + delta + 5)"
   ]
  },
  {
   "cell_type": "code",
   "execution_count": null,
   "id": "ea732115",
   "metadata": {},
   "outputs": [],
   "source": [
    "(\n",
    "    to_bin(create_jumpcall(\"0x40fcb1\", \"0x10009940\")),\n",
    "    create_jumpcall(\"0x40fcb1\", \"0x10009940\"),\n",
    "    hex(0xF610CF - 0x40FCB1),\n",
    ")"
   ]
  },
  {
   "cell_type": "code",
   "execution_count": null,
   "id": "59dee4d2",
   "metadata": {},
   "outputs": [],
   "source": [
    "schema = {\n",
    "    \"patch_addr\": pl.String,\n",
    "    \"mem_old\": pl.String,\n",
    "    \"patch\": pl.String,\n",
    "}\n",
    "\n",
    "\n",
    "def optimize_patch_generation(result, thunks):\n",
    "    # Precompute thunk addresses as a set for O(1) lookups\n",
    "    thunk_addresses = set(thunks[\"Call address\"])\n",
    "\n",
    "    # Use list comprehensions to collect data\n",
    "    patch_data = []\n",
    "\n",
    "    for call in tqdm(result.rows()):\n",
    "        func, src, inst, dest, mod, res_name = call\n",
    "\n",
    "        # Fast set lookup instead of DataFrame filter\n",
    "        if src in thunk_addresses:\n",
    "            continue\n",
    "\n",
    "        # Determine opcode based on instruction\n",
    "        opcode = \"E8\" if inst == \"call\" else \"E9\"\n",
    "\n",
    "        rel_call_bin = to_bin(rel_call(src, dest))\n",
    "        jumpcall_bin = to_bin(create_jumpcall(src, dest))\n",
    "\n",
    "        patch_data.append(\n",
    "            {\n",
    "                \"patch_addr\": src,\n",
    "                \"mem_old\": opcode + rel_call_bin,\n",
    "                \"patch\": opcode + jumpcall_bin,\n",
    "            }\n",
    "        )\n",
    "\n",
    "    # Create DataFrame in one operation\n",
    "    return pl.DataFrame(patch_data, schema=schema)\n",
    "\n",
    "\n",
    "patch = optimize_patch_generation(result, thunks)"
   ]
  },
  {
   "cell_type": "code",
   "execution_count": null,
   "id": "13195280",
   "metadata": {},
   "outputs": [],
   "source": [
    "patch.write_csv(calls_patch_path)"
   ]
  },
  {
   "cell_type": "markdown",
   "id": "4927e3ba",
   "metadata": {},
   "source": [
    "## Patching thunks"
   ]
  },
  {
   "cell_type": "markdown",
   "id": "db4eb335",
   "metadata": {},
   "source": [
    "Finds the IAT in the target executable and binds thunks to it"
   ]
  },
  {
   "cell_type": "code",
   "execution_count": null,
   "id": "772c6f99",
   "metadata": {},
   "outputs": [],
   "source": [
    "import lief\n",
    "\n",
    "pe = lief.PE.parse(out_path)"
   ]
  },
  {
   "cell_type": "code",
   "execution_count": null,
   "id": "8c663c81",
   "metadata": {},
   "outputs": [],
   "source": [
    "def get_addr(entry: lief.PE.ImportEntry, imports: pl.DataFrame) -> str:\n",
    "    name = entry.name\n",
    "    if entry.is_ordinal:\n",
    "        name = f\"Ordinal#{entry.ordinal}\"\n",
    "    return imports.filter(pl.col(\"Function\") == name)[\"Call address\"][0]\n",
    "\n",
    "\n",
    "def get_import(name: str, pe: lief.PE.Binary) -> lief.PE.ImportEntry | None:\n",
    "    for mod in pe.imports:\n",
    "        for entry in mod.entries:\n",
    "            if entry.name == name:\n",
    "                return entry\n",
    "    return None\n",
    "\n",
    "\n",
    "def get_import_by_ordinal(module: str, ordinal: int) -> lief.PE.ImportEntry | None:\n",
    "    for mod in pe.imports:\n",
    "        if mod.name != module:\n",
    "            continue\n",
    "        for entry in mod.entries:\n",
    "            if entry.ordinal == ordinal:\n",
    "                return entry\n",
    "    return None"
   ]
  },
  {
   "cell_type": "code",
   "execution_count": null,
   "id": "d9342a25",
   "metadata": {},
   "outputs": [],
   "source": [
    "# thunk_loc = '0x14ab2a4'\n",
    "# dll = \"msvcp90.dll\"\n",
    "# imports = thunks.filter(pl.col(\"Module\") == dll)\n",
    "\n",
    "# fun1 = thunks.filter(pl.col(\"Call address\") == thunk_loc)['Function'][0]\n",
    "# fun2 = thunks.filter(pl.col(\"Call address\") == hex(int(thunk_loc, 16) + 6))['Function'][0]\n",
    "\n",
    "# fun1 == fun2"
   ]
  },
  {
   "cell_type": "code",
   "execution_count": null,
   "id": "1ae1398d",
   "metadata": {},
   "outputs": [],
   "source": [
    "\"\"\"\n",
    "For each module in IDT, for each entry in that module\n",
    "finds the referring thunk, and creates a patch for that thunk.\n",
    "\"\"\"\n",
    "\n",
    "thunks_patch = pl.DataFrame(schema=schema)\n",
    "\n",
    "dlls = thunks[\"Module\"].unique()\n",
    "for mod in pe.imports:\n",
    "    dll = mod.name\n",
    "\n",
    "    imports = thunks.filter(pl.col(\"Module\") == dll)\n",
    "    for ientry in mod.entries:\n",
    "        try:\n",
    "            addr = get_addr(ientry, imports)\n",
    "        except IndexError:\n",
    "            print(f\"Not found thunk to {dll}!{ientry.name}\")\n",
    "            continue\n",
    "\n",
    "        thentry = thunks.filter(pl.col(\"Call address\") == addr)\n",
    "        dest = thentry[\"Destination\"][0]\n",
    "        new = thentry[\"new\"][0]\n",
    "        iat_entry_rva = ientry.iat_address + pe.imagebase\n",
    "\n",
    "        if new:\n",
    "            thunks_patch = thunks_patch.vstack(\n",
    "                pl.DataFrame(\n",
    "                    {\n",
    "                        \"patch_addr\": hex(int(addr, base=16)),\n",
    "                        \"mem_old\": \"CC\" * 6,\n",
    "                        \"patch\": \"FF25\" + to_bin(hex_to_LE(iat_entry_rva)),\n",
    "                    },\n",
    "                    schema=schema,\n",
    "                )\n",
    "            )\n",
    "        else:\n",
    "            thunks_patch = thunks_patch.vstack(\n",
    "                pl.DataFrame(\n",
    "                    {\n",
    "                        \"patch_addr\": hex(int(addr, base=16) - 1),  # nop before jmp\n",
    "                        \"mem_old\": \"90E9\" + to_bin(rel_call(addr, dest)),\n",
    "                        \"patch\": \"FF25\" + to_bin(hex_to_LE(iat_entry_rva)),\n",
    "                    },\n",
    "                    schema=schema,\n",
    "                )\n",
    "            )\n",
    "\n",
    "thunks_patch.shape"
   ]
  },
  {
   "cell_type": "code",
   "execution_count": null,
   "id": "4f290a10",
   "metadata": {},
   "outputs": [],
   "source": [
    "thunks_patch.write_csv(thunks_patch_path)"
   ]
  },
  {
   "cell_type": "markdown",
   "id": "edb7a976",
   "metadata": {},
   "source": [
    "## Patching old IAT (better put it to use)"
   ]
  },
  {
   "cell_type": "markdown",
   "id": "16df77ba",
   "metadata": {},
   "source": [
    "Skip this if you restored original IAT"
   ]
  },
  {
   "cell_type": "code",
   "execution_count": null,
   "id": "f1aedc48",
   "metadata": {},
   "outputs": [],
   "source": [
    "skip: bool = True"
   ]
  },
  {
   "cell_type": "code",
   "execution_count": null,
   "id": "846a122a",
   "metadata": {},
   "outputs": [],
   "source": [
    "old_iat_patch = pl.DataFrame(schema=schema)\n",
    "\n",
    "if not skip:\n",
    "    for addr, dest in iat_entries.rows():\n",
    "        thunk = thunks.filter(pl.col(\"Destination\") == hex(int(dest, 16)))\n",
    "        if thunk.shape[0] == 0:\n",
    "            print(f\"Entry {dest} from old iat at {addr} is not found among thunks\")\n",
    "            continue\n",
    "\n",
    "        funcname = thunk[\"Function\"][0]\n",
    "        if \"Ordinal#\" in funcname:\n",
    "            entry = get_import_by_ordinal(\n",
    "                thunk[\"Module\"][0], int(funcname.removeprefix(\"Ordinal#\"))\n",
    "            )\n",
    "        else:\n",
    "            entry = get_import(funcname, pe)\n",
    "\n",
    "        if entry is None:\n",
    "            raise RuntimeError(\n",
    "                f\"ImportEntry {thunk['Function'][0]} from module {thunk['Module'][0]} is not found in PE IDT\"\n",
    "            )\n",
    "        iat_entry_rva = entry.iat_address + pe.imagebase\n",
    "\n",
    "        mem_old = to_bin(hex_to_LE(int(dest, 16)))\n",
    "        mem_new = to_bin(hex_to_LE(iat_entry_rva))\n",
    "\n",
    "        old_iat_patch = old_iat_patch.vstack(\n",
    "            pl.DataFrame(\n",
    "                {\n",
    "                    \"patch_addr\": hex(int(addr, base=16)),\n",
    "                    \"mem_old\": mem_old,\n",
    "                    \"patch\": mem_new,\n",
    "                }\n",
    "            )\n",
    "        )\n",
    "\n",
    "old_iat_patch.write_csv(old_iat_patch_path)"
   ]
  },
  {
   "cell_type": "markdown",
   "id": "03d54f5b",
   "metadata": {},
   "source": [
    "# Troubleshooting"
   ]
  },
  {
   "cell_type": "code",
   "execution_count": null,
   "id": "eac5a92b",
   "metadata": {},
   "outputs": [],
   "source": [
    "new_imports = pl.DataFrame(schema={\"Module\": pl.String, \"Function\": pl.String})\n",
    "\n",
    "for dll in pe.imports:\n",
    "    for impo in dll.entries:\n",
    "        name = impo.name if not impo.is_ordinal else str(impo.ordinal)\n",
    "        new_imports = new_imports.vstack(\n",
    "            pl.DataFrame(\n",
    "                {\n",
    "                    \"Module\": dll.name,\n",
    "                    \"Function\": name,\n",
    "                }\n",
    "            )\n",
    "        )\n",
    "new_imports.shape, iat_entries.shape"
   ]
  },
  {
   "cell_type": "code",
   "execution_count": null,
   "id": "7eeb389a",
   "metadata": {},
   "outputs": [],
   "source": [
    "old_iat = iat_entries.with_columns(\n",
    "    pl.col(\"Destination\").str.to_integer(base=16).alias(\"Addr_int\")\n",
    ")\n",
    "old_iat = old_iat.join(functions_table.drop(\"Address\"), on=\"Addr_int\", how=\"left\").drop(\n",
    "    \"Addr_int\"\n",
    ")\n",
    "\n",
    "old_iat.shape"
   ]
  },
  {
   "cell_type": "code",
   "execution_count": null,
   "id": "22ecbfff",
   "metadata": {},
   "outputs": [],
   "source": [
    "pl.Config(tbl_rows=10)"
   ]
  },
  {
   "cell_type": "code",
   "execution_count": null,
   "id": "15f06dc5",
   "metadata": {},
   "outputs": [],
   "source": [
    "old_iat = old_iat.with_columns(\n",
    "    (pl.col(\"Module\").shift(1) != pl.col(\"Module\")).alias(\"skip\")\n",
    ")\n",
    "old_iat.filter(pl.col(\"skip\")).shape, old_iat.select(\"Module\").unique().shape"
   ]
  },
  {
   "cell_type": "code",
   "execution_count": null,
   "id": "1a0c1828",
   "metadata": {},
   "outputs": [],
   "source": [
    "for skip in old_iat.filter(pl.col(\"skip\")).select(\"Module\").to_series():\n",
    "    print(skip)"
   ]
  },
  {
   "cell_type": "code",
   "execution_count": null,
   "id": "6e28776f",
   "metadata": {},
   "outputs": [],
   "source": [
    "for mod in old_iat.select(\"Module\").unique().to_series():\n",
    "    print(mod)"
   ]
  }
 ],
 "metadata": {
  "kernelspec": {
   "display_name": ".venv",
   "language": "python",
   "name": "python3"
  },
  "language_info": {
   "codemirror_mode": {
    "name": "ipython",
    "version": 3
   },
   "file_extension": ".py",
   "mimetype": "text/x-python",
   "name": "python",
   "nbconvert_exporter": "python",
   "pygments_lexer": "ipython3",
   "version": "3.12.10"
  }
 },
 "nbformat": 4,
 "nbformat_minor": 5
}
