{
 "cells": [
  {
   "cell_type": "code",
   "execution_count": null,
   "id": "481f0a04",
   "metadata": {},
   "outputs": [],
   "source": [
    "import shutil\n",
    "from pathlib import Path\n",
    "from typing import cast\n",
    "\n",
    "import lief\n",
    "import pefile\n",
    "import polars as pl\n",
    "from tqdm import tqdm"
   ]
  },
  {
   "cell_type": "markdown",
   "id": "a8821527",
   "metadata": {},
   "source": [
    "# Paths"
   ]
  },
  {
   "cell_type": "markdown",
   "id": "986c4fc2",
   "metadata": {},
   "source": [
    "Everything here is done on a simple dllhost exe `fake_neomon_host/host-bind.exe`"
   ]
  },
  {
   "cell_type": "markdown",
   "id": "90ff0e69",
   "metadata": {},
   "source": [
    "Dumps are made once the _DllEntryPoint is reached (0x13903)"
   ]
  },
  {
   "cell_type": "code",
   "execution_count": null,
   "id": "59316e4e",
   "metadata": {},
   "outputs": [],
   "source": [
    "base = Path(\"../neomon-dump/dumps\")\n",
    "base_patch = Path(\"../neomon-dump/patches\")"
   ]
  },
  {
   "cell_type": "code",
   "execution_count": null,
   "id": "25958747",
   "metadata": {},
   "outputs": [],
   "source": [
    "# imports csv\n",
    "\n",
    "dump_imports_p = base / \"dump-imports.csv\"\n",
    "old_iat_p = base / \"old-iat.csv\"\n",
    "byte_calls_p = base / \"broken-byte-calls.csv\"\n",
    "module_imports_p = base / \"../NeoMon.dll.export.full.csv\""
   ]
  },
  {
   "cell_type": "code",
   "execution_count": null,
   "id": "13955441",
   "metadata": {},
   "outputs": [],
   "source": [
    "# exports csv\n",
    "patch_thunks_p = base_patch / \"thunks_patch.csv\"\n",
    "patch_calls_p = base_patch / \"calls_patch.csv\"\n",
    "patch_iat_p = base_patch / \"iat_patch.csv\""
   ]
  },
  {
   "cell_type": "code",
   "execution_count": null,
   "id": "ba0b2cba",
   "metadata": {},
   "outputs": [],
   "source": [
    "base_to_exe = Path('../fake_neomon_host')\n",
    "original_dump_path = base_to_exe / \"NeoMon_dump.dll\"\n",
    "patched_path = base_to_exe / \"NeoMon_patched.dll\""
   ]
  },
  {
   "cell_type": "code",
   "execution_count": null,
   "id": "d5617a8f",
   "metadata": {},
   "outputs": [],
   "source": [
    "fake_sections = range(213, 217)"
   ]
  },
  {
   "cell_type": "code",
   "execution_count": null,
   "id": "1f8c16b4",
   "metadata": {},
   "outputs": [],
   "source": [
    "from addr_helpers import hex_to_LE, rel_call, to_bin\n",
    "\n",
    "patch_schema = {\n",
    "    \"patch_addr\": pl.String,\n",
    "    \"mem_old\": pl.String,\n",
    "    \"patch\": pl.String,\n",
    "}"
   ]
  },
  {
   "cell_type": "markdown",
   "id": "528a06d9",
   "metadata": {},
   "source": [
    "# Parsing import table"
   ]
  },
  {
   "cell_type": "code",
   "execution_count": null,
   "id": "1b0322cf",
   "metadata": {},
   "outputs": [],
   "source": [
    "dump_imports = pl.read_csv(dump_imports_p)\n",
    "dump_imports.columns = [\n",
    "    \"Address\",\n",
    "    \"Type\",\n",
    "    \"Ordinal\",\n",
    "    \"Symbol\",\n",
    "    \"undecorated\",\n",
    "]\n",
    "dump_imports = dump_imports.with_columns(pl.when(pl.col(\"Type\") == \"Экспорт\").then(pl.lit(\"Export\").alias(\"Type\")).otherwise(pl.lit(\"Import\").alias(\"Type\")))\n",
    "dump_imports = dump_imports.filter(pl.col(\"Type\") == \"Export\").drop(\"Type\", \"undecorated\").rename({\"Symbol\": \"Function\"})\n",
    "\n",
    "module_imports = pl.read_csv(module_imports_p).drop(\"Function\")\n",
    "dump_imports = dump_imports.join(module_imports, on='Address')\n",
    "dump_imports = dump_imports.filter(~pl.col(\"Module\").is_in([\"game.exe\", \"host-bind.exe\"]))\n",
    "\n",
    "assert dump_imports.filter(pl.col(\"Module\").is_null()).shape[0] == 0\n",
    "\n",
    "print(dump_imports.shape)"
   ]
  },
  {
   "cell_type": "code",
   "execution_count": null,
   "id": "8832c31b",
   "metadata": {},
   "outputs": [],
   "source": [
    "dump_imports = dump_imports.with_columns((\"0x\" + pl.col(\"Address\").str.to_lowercase()).alias(\"Address\"))\n",
    "dump_imports = dump_imports.unique(\"Address\", keep='first').sort(\"Address\")"
   ]
  },
  {
   "cell_type": "code",
   "execution_count": null,
   "id": "764ca097",
   "metadata": {},
   "outputs": [],
   "source": [
    "dump_imports.head()"
   ]
  },
  {
   "cell_type": "markdown",
   "id": "61babda1",
   "metadata": {},
   "source": [
    "# Gathering imports from old IAT"
   ]
  },
  {
   "cell_type": "code",
   "execution_count": null,
   "id": "16db17a1",
   "metadata": {},
   "outputs": [],
   "source": [
    "iat = pl.read_csv(old_iat_p)\n",
    "\n",
    "iat = iat.rename({\"Address\": \"Calladdr\", \"Destination\": \"Address\"})\n",
    "iat = iat.with_columns((\"0x\" + pl.col(\"Address\").str.to_lowercase()).alias(\"Address\"))\n",
    "\n",
    "iat = iat.join(dump_imports, on='Address', how='left')"
   ]
  },
  {
   "cell_type": "code",
   "execution_count": null,
   "id": "8039cedf",
   "metadata": {},
   "outputs": [],
   "source": [
    "for i in fake_sections:\n",
    "    modname = f\"section_{i}\"\n",
    "    iat = iat.with_columns(pl.when(pl.col(\"Address\").str.starts_with(f'0x0{i}')).then(pl.lit(modname)).otherwise(\"Module\").alias(\"Module\"))"
   ]
  },
  {
   "cell_type": "markdown",
   "id": "7e271cda",
   "metadata": {},
   "source": [
    "Make sure iat2 is empty, i.e. no unknown calls present"
   ]
  },
  {
   "cell_type": "code",
   "execution_count": null,
   "id": "46bb8731",
   "metadata": {},
   "outputs": [],
   "source": [
    "iat2 = iat.filter(pl.col(\"Module\").is_null())\n",
    "iat2 = iat2.filter(pl.col(\"Address\").str.slice(2).str.to_integer(base=16) != 0)\n",
    "iat2"
   ]
  },
  {
   "cell_type": "markdown",
   "id": "02395501",
   "metadata": {},
   "source": [
    "Cancel forwarding imports (e.g. kernel32.dll,AllocateHeap -> ntdll.dll,RtlReAllocateHeap)"
   ]
  },
  {
   "cell_type": "code",
   "execution_count": null,
   "id": "8b7e9e02",
   "metadata": {},
   "outputs": [],
   "source": [
    "systemroot = \"C:/Windows/System32/\"\n",
    "forwarding_modules = [\"kernel32.dll\", \"user32.dll\"]\n",
    "\n",
    "unforward_map: dict[str, tuple[str, str]] = dict()\n",
    "\n",
    "forwarded = iat.filter(pl.col(\"Module\") == \"ntdll.dll\")\n",
    "\n",
    "for modname in forwarding_modules:\n",
    "    modpath = systemroot + modname\n",
    "    number = 0\n",
    "\n",
    "    dll = pefile.PE(modpath)\n",
    "    dll.full_load()\n",
    "    for exp in dll.DIRECTORY_ENTRY_EXPORT.symbols:\n",
    "        name = exp.name.decode() if exp.name else f\"Ordinal#{exp.ordinal}\"\n",
    "        forward_to = ''\n",
    "        if exp.forwarder:\n",
    "            forward_to = exp.forwarder.decode().removeprefix(\"NTDLL.\")\n",
    "        if forwarded.filter(pl.col(\"Function\") == forward_to).shape[0] > 0:\n",
    "            number += 1\n",
    "            unforward_map[forward_to] = (modname, name)\n",
    "    \n",
    "    print(f'For {modname} there are {number} forwards')"
   ]
  },
  {
   "cell_type": "code",
   "execution_count": null,
   "id": "c55f549d",
   "metadata": {},
   "outputs": [],
   "source": [
    "for func in iat.filter(pl.col(\"Module\") == \"ntdll.dll\")[\"Function\"]:\n",
    "    if func not in unforward_map:\n",
    "        print(f\"Func {func} from ntdll.dll is not found in forward map\")\n",
    "        continue\n",
    "\n",
    "    origmod, origfunc = unforward_map[func]\n",
    "\n",
    "    if \"InitializeCrit\" in func:\n",
    "        print(func, origmod, origfunc)\n",
    "\n",
    "    condition = (pl.col(\"Module\") == \"ntdll.dll\") & (pl.col(\"Function\") == func)\n",
    "    iat = iat.with_columns(\n",
    "        [\n",
    "            pl.when(condition)\n",
    "            .then(pl.lit(origmod))\n",
    "            .otherwise(\"Module\")\n",
    "            .alias(\"Module\"),\n",
    "            pl.when(condition)\n",
    "            .then(pl.lit(origfunc))\n",
    "            .otherwise(\"Function\")\n",
    "            .alias(\"Function\"),\n",
    "        ]\n",
    "    )"
   ]
  },
  {
   "cell_type": "code",
   "execution_count": null,
   "id": "a1be213f",
   "metadata": {},
   "outputs": [],
   "source": [
    "iat.write_csv(str(old_iat_p) + '2.csv')"
   ]
  },
  {
   "cell_type": "code",
   "execution_count": null,
   "id": "370dc843",
   "metadata": {},
   "outputs": [],
   "source": [
    "iat_seg = (\n",
    "    iat.sort(\"Calladdr\").fill_null(\"\")\n",
    "    .with_columns(\n",
    "        (pl.col(\"Module\") != pl.col(\"Module\").shift(1)).cum_sum().alias(\"segment_id\")\n",
    "    )\n",
    "    .fill_null(0)\n",
    "    .filter(pl.col(\"Address\").str.slice(2).str.to_integer(base=16) != 0)\n",
    "    .filter(pl.col(\"Module\") != '')\n",
    "    .filter(~pl.col(\"Module\").str.starts_with(\"section_\"))\n",
    ")\n",
    "segments = [group.drop(\"segment_id\") for _, group in iat_seg.group_by(\"segment_id\", maintain_order=True)]"
   ]
  },
  {
   "cell_type": "code",
   "execution_count": null,
   "id": "d3533e7d",
   "metadata": {},
   "outputs": [],
   "source": [
    "# extract obfuscated imports for later\n",
    "obfuscated = iat.filter(pl.col(\"Module\").str.starts_with('section_')).filter(pl.col(\"Address\").str.slice(2).str.to_integer(base=16) != 0)\n",
    "obfuscated.head(3)"
   ]
  },
  {
   "cell_type": "code",
   "execution_count": null,
   "id": "460ae6b0",
   "metadata": {},
   "outputs": [],
   "source": [
    "# remove gaps and one obfuscated import\n",
    "w = iat.shape[0]\n",
    "iat = iat.filter(pl.col(\"Module\").is_not_null())\n",
    "print(f\"Filtered out {iat.shape[0]}/{w} iat entries\")"
   ]
  },
  {
   "cell_type": "code",
   "execution_count": null,
   "id": "8b5753e0",
   "metadata": {},
   "outputs": [],
   "source": [
    "# confirm all names are decorated\n",
    "assert iat.filter(pl.col(\"Function\").str.contains(\"public\")).shape[0] == 0"
   ]
  },
  {
   "cell_type": "markdown",
   "id": "01e84fa3",
   "metadata": {},
   "source": [
    "# Move fake sections to the end"
   ]
  },
  {
   "cell_type": "code",
   "execution_count": null,
   "id": "5fb81531",
   "metadata": {},
   "outputs": [],
   "source": [
    "shutil.copy(original_dump_path, patched_path)\n",
    "\n",
    "pe_lief = cast(lief.PE.Binary, lief.PE.parse(patched_path))\n",
    "pe_lief.remove_all_imports()"
   ]
  },
  {
   "cell_type": "code",
   "execution_count": null,
   "id": "ab6d26a0",
   "metadata": {},
   "outputs": [],
   "source": [
    "def get_data(sec_i: int) -> bytes:\n",
    "    return open(base_to_exe / f'neomon{sec_i}.bin', 'rb').read()"
   ]
  },
  {
   "cell_type": "code",
   "execution_count": null,
   "id": "60975ec2",
   "metadata": {},
   "outputs": [],
   "source": [
    "for sec_i in fake_sections:\n",
    "    sec = lief.PE.Section(f'.fake{sec_i}')\n",
    "    data = get_data(sec_i)\n",
    "    sec.content = memoryview(data)\n",
    "\n",
    "    sec.virtual_size = len(data)\n",
    "\n",
    "    CH = lief.PE.Section.CHARACTERISTICS\n",
    "    # sec.characteristics = int(CH.MEM_READ | CH.MEM_WRITE | CH.MEM_EXECUTE | CH.CNT_INITIALIZED_DATA)\n",
    "    sec.characteristics = int(CH.MEM_EXECUTE | CH.CNT_INITIALIZED_DATA)\n",
    "\n",
    "    pe_lief.add_section(sec)\n",
    "    \n",
    "    sec = pe_lief.get_section(f'.fake{sec_i}')\n",
    "    if sec is None:\n",
    "        print(\"Error: failed to add section\")"
   ]
  },
  {
   "cell_type": "code",
   "execution_count": null,
   "id": "98bcee8b",
   "metadata": {},
   "outputs": [],
   "source": [
    "config = lief.PE.Builder.config_t()\n",
    "config.imports = True\n",
    "\n",
    "bb = lief.PE.Builder(pe_lief, config)\n",
    "bb.build()\n",
    "bb.write(str(patched_path))"
   ]
  },
  {
   "cell_type": "markdown",
   "id": "6cf1067b",
   "metadata": {},
   "source": [
    "# Constructing new IDT"
   ]
  },
  {
   "cell_type": "code",
   "execution_count": null,
   "id": "f4df9fcc",
   "metadata": {},
   "outputs": [],
   "source": [
    "def create_32bit_ordinal_import(ordinal_number: int) -> lief.PE.ImportEntry:\n",
    "    \"\"\"\n",
    "    Create a 32-bit import by ordinal\n",
    "\n",
    "    Args:\n",
    "        ordinal_number: The ordinal number (0-65535)\n",
    "    \"\"\"\n",
    "    # Validate ordinal range\n",
    "    if ordinal_number < 0 or ordinal_number > 0xFFFF:\n",
    "        raise ValueError(\"Ordinal number must be between 0 and 65535\")\n",
    "\n",
    "    # For 32-bit PE:\n",
    "    # - Set bit 31 to 1 (0x80000000)\n",
    "    # - Bits 30-16 must be 0\n",
    "    # - Bits 15-0 contain the ordinal\n",
    "    ORDINAL_MASK_32 = 0x80000000\n",
    "    data_value = ORDINAL_MASK_32 | ordinal_number\n",
    "\n",
    "    # Create the import entry\n",
    "    entry = lief.PE.ImportEntry(data_value, lief.PE.PE_TYPE.PE32)\n",
    "\n",
    "    return entry"
   ]
  },
  {
   "cell_type": "code",
   "execution_count": null,
   "id": "02a08da0",
   "metadata": {},
   "outputs": [],
   "source": [
    "from pydantic import BaseModel\n",
    "\n",
    "\n",
    "class Sect(BaseModel):\n",
    "    name: str\n",
    "    raw_addr: int\n",
    "    raw_size: int\n",
    "    virt_addr: int\n",
    "    virt_size: int\n",
    "    chars: int\n",
    "\n",
    "    @staticmethod\n",
    "    def from_section(section: lief.PE.Section) -> \"Sect\":\n",
    "        return Sect(\n",
    "            name=section.name,\n",
    "            raw_addr=section.offset,\n",
    "            raw_size=section.size,\n",
    "            virt_addr=section.virtual_address,\n",
    "            virt_size=section.virtual_size,\n",
    "            chars=section.characteristics,\n",
    "        )\n",
    "\n",
    "    def to_section(self) -> lief.PE.Section:\n",
    "        sect = lief.PE.Section(self.name)\n",
    "        sect.name = self.name\n",
    "        sect.offset = self.raw_addr\n",
    "        sect.size = self.raw_size\n",
    "        sect.virtual_address = self.virt_addr\n",
    "        sect.virtual_size = self.virt_size\n",
    "        sect.characteristics = self.chars\n",
    "        return sect"
   ]
  },
  {
   "cell_type": "code",
   "execution_count": null,
   "id": "16dc2f24",
   "metadata": {},
   "outputs": [],
   "source": [
    "# adding proper .idata\n",
    "# new_idata = lief.PE.Section(\".idata\")\n",
    "# new_idata.offset = idata_offset\n",
    "# new_idata.size = idata_size\n",
    "# new_idata.virtual_address = idata_virtual_address - pe_lief.imagebase\n",
    "# new_idata.virtual_size = idata_virtual_size\n",
    "# new_idata.characteristics = pe_lief.sections[0].characteristics\n",
    "# pe_lief.add_section(new_idata)\n",
    "\n",
    "# sections = [Sect.from_section(sec) for sec in pe_lief.sections]\n",
    "# sections = [sections[0], Sect.from_section(new_idata)] + sections[1:]\n",
    "\n",
    "# N = len(pe_lief.sections)\n",
    "# for i in range(N):\n",
    "#     pe_lief.sections[i].name = f'{i}'\n",
    "\n",
    "# for i in range(N):\n",
    "#     pe_lief.remove_section(f'{i}')\n",
    "\n",
    "# for sec in sections:\n",
    "#     pe_lief.add_section(sec.to_section())"
   ]
  },
  {
   "cell_type": "code",
   "execution_count": null,
   "id": "5c887aa3",
   "metadata": {},
   "outputs": [],
   "source": [
    "pe_lief = cast(lief.PE.Binary, lief.PE.parse(patched_path))"
   ]
  },
  {
   "cell_type": "code",
   "execution_count": null,
   "id": "8ec7d98e",
   "metadata": {},
   "outputs": [],
   "source": [
    "for s in pe_lief.sections:\n",
    "    print(s.name, hex(s.virtual_address), hex(s.virtual_address + s.virtual_size))"
   ]
  },
  {
   "cell_type": "markdown",
   "id": "92430325",
   "metadata": {},
   "source": [
    "### Adding imports"
   ]
  },
  {
   "cell_type": "markdown",
   "id": "189b9d6f",
   "metadata": {},
   "source": [
    "Creates brand new IDT with new IAT and ILT"
   ]
  },
  {
   "cell_type": "code",
   "execution_count": null,
   "id": "e11d7936",
   "metadata": {},
   "outputs": [],
   "source": [
    "for seg in segments:\n",
    "    dll = seg['Module'][0]\n",
    "    if dll is None or dll == '':\n",
    "        continue\n",
    "\n",
    "    mod = pe_lief.add_import(dll)\n",
    "    for calladdr, addr, ordinal, func, mname in seg.rows():\n",
    "        if func.startswith('Ordinal#'):\n",
    "            # ordinal = int(func.removeprefix(\"Ordinal#\"))\n",
    "            entry = create_32bit_ordinal_import(ordinal)\n",
    "        else:\n",
    "            entry = lief.PE.ImportEntry(func)\n",
    "        mod.add_entry(entry)"
   ]
  },
  {
   "cell_type": "code",
   "execution_count": null,
   "id": "60798d4a",
   "metadata": {},
   "outputs": [],
   "source": [
    "config = lief.PE.Builder.config_t()\n",
    "config.imports = True\n",
    "\n",
    "bb = lief.PE.Builder(pe_lief, config)\n",
    "bb.build()\n",
    "bb.write(str(patched_path))"
   ]
  },
  {
   "cell_type": "markdown",
   "id": "b58b181f",
   "metadata": {},
   "source": [
    "Reset IAT to the old IAT address"
   ]
  },
  {
   "cell_type": "code",
   "execution_count": null,
   "id": "1be5ba63",
   "metadata": {},
   "outputs": [],
   "source": [
    "pe = pefile.PE(patched_path)\n",
    "pe.full_load()"
   ]
  },
  {
   "cell_type": "code",
   "execution_count": null,
   "id": "65856e00",
   "metadata": {},
   "outputs": [],
   "source": [
    "assert len(pe.DIRECTORY_ENTRY_IMPORT) == len(segments), \"Change the MAX_REPEATED_ADDRESSES to >20\" # type: ignore"
   ]
  },
  {
   "cell_type": "code",
   "execution_count": null,
   "id": "89263bd0",
   "metadata": {},
   "outputs": [],
   "source": [
    "for i, seg in enumerate(segments):\n",
    "    first_thunk = int(seg[\"Calladdr\"][0], 16)\n",
    "\n",
    "    pe.DIRECTORY_ENTRY_IMPORT[i].struct.FirstThunk = ( # type: ignore\n",
    "        first_thunk - pe.OPTIONAL_HEADER.ImageBase # type: ignore\n",
    "    )"
   ]
  },
  {
   "cell_type": "markdown",
   "id": "6b345916",
   "metadata": {},
   "source": [
    "### Fixing IAT to the fake sections"
   ]
  },
  {
   "cell_type": "code",
   "execution_count": null,
   "id": "31bd84b7",
   "metadata": {},
   "outputs": [],
   "source": [
    "new_fake_sections = pl.DataFrame(\n",
    "    [\n",
    "        {\n",
    "            \"Module\": s.Name.decode().replace(\".fake\", \"section_\"),\n",
    "            \"NAddress\": hex(s.VirtualAddress + pe.OPTIONAL_HEADER.ImageBase),  # type: ignore\n",
    "            \"OAddress\": f\"0x0{s.Name.decode().replace('.fake', '')}0000\",\n",
    "        }\n",
    "        for s in pe.sections\n",
    "        if s.Name.decode().startswith(\".fake\")\n",
    "    ]\n",
    ")"
   ]
  },
  {
   "cell_type": "code",
   "execution_count": null,
   "id": "cbced182",
   "metadata": {},
   "outputs": [],
   "source": [
    "obfuscated_iat = obfuscated.join(new_fake_sections, on='Module').drop(\"Ordinal\", \"Function\")\n",
    "obfuscated_iat.head(3)"
   ]
  },
  {
   "cell_type": "code",
   "execution_count": null,
   "id": "0a3701fa",
   "metadata": {},
   "outputs": [],
   "source": [
    "iat_patch = pl.DataFrame(schema=patch_schema)\n",
    "for calladdr, addr, module, new_addr, old_addr in obfuscated_iat.rows():\n",
    "    offset = int(new_addr, 16) - int(old_addr, 16)\n",
    "    naddr = int(addr, 16) + offset\n",
    "    iat_patch = iat_patch.vstack(pl.DataFrame({\n",
    "        'patch_addr': calladdr,\n",
    "        'mem_old': to_bin(hex_to_LE(int(addr, 16))),\n",
    "        'patch': to_bin(hex_to_LE(naddr))\n",
    "    }))\n",
    "\n",
    "print(iat_patch.shape)\n",
    "iat_patch.head(3)"
   ]
  },
  {
   "cell_type": "code",
   "execution_count": null,
   "id": "dde40fb9",
   "metadata": {},
   "outputs": [],
   "source": [
    "iat_patch.write_csv(patch_iat_p)"
   ]
  },
  {
   "cell_type": "markdown",
   "id": "4964efbb",
   "metadata": {},
   "source": [
    "### Saving stuff"
   ]
  },
  {
   "cell_type": "code",
   "execution_count": null,
   "id": "37ac88ff",
   "metadata": {},
   "outputs": [],
   "source": [
    "temp = \"tmp\"\n",
    "pe.write(filename=temp)\n",
    "pe.close()\n",
    "shutil.move(temp, patched_path)"
   ]
  },
  {
   "cell_type": "markdown",
   "id": "e5c29dc3",
   "metadata": {},
   "source": [
    "# Fix thunks"
   ]
  },
  {
   "cell_type": "markdown",
   "id": "5200d894",
   "metadata": {},
   "source": [
    "Suspect thunks are searched via <90 e9 ? ? ? ?> wildcard"
   ]
  },
  {
   "cell_type": "code",
   "execution_count": null,
   "id": "c3017ff0",
   "metadata": {},
   "outputs": [],
   "source": [
    "thunks = pl.read_csv(byte_calls_p)\n",
    "thunks = thunks.filter(pl.col(\"Instruction\").is_in([\"jmp\"]))\n",
    "thunks = thunks.with_columns(pl.col(\"Call address\").str.slice(2).str.to_integer(base=16).alias(\"Int_addr\"))\n",
    "thunks = thunks.filter(pl.col(\"Int_addr\") < 0x01588000)  # this is where the old IAT begins\n",
    "thunks = thunks.drop('subroutine', 'Instruction', 'Resolved name')\n",
    "thunks.shape"
   ]
  },
  {
   "cell_type": "code",
   "execution_count": null,
   "id": "842ae605",
   "metadata": {},
   "outputs": [],
   "source": [
    "valid_addresses = set(dump_imports[\"Address\"].to_list())\n",
    "thunks = thunks.filter(pl.col(\"Destination\").is_in(valid_addresses))\n",
    "print(thunks.shape)"
   ]
  },
  {
   "cell_type": "markdown",
   "id": "74452d93",
   "metadata": {},
   "source": [
    "jmp is considered a thunk as long as it has at least two neighbouring jmps. Both neighbours would be counted as thunks as well."
   ]
  },
  {
   "cell_type": "code",
   "execution_count": null,
   "id": "1132f919",
   "metadata": {},
   "outputs": [],
   "source": [
    "get_addr = pl.col(\"Call address\").str.slice(2).str.to_integer(base=16)\n",
    "is_prev = pl.col(\"Int_addr\").shift(1) + 6 == pl.col(\"Int_addr\")\n",
    "is_next = pl.col(\"Int_addr\").shift(-1) - 6 == pl.col(\"Int_addr\")\n",
    "\n",
    "# thunks = thunks.with_columns([is_prev.alias('is_prev'), is_next.alias('is_next')])\n",
    "\n",
    "thunks = thunks.with_columns(get_addr.alias(\"Int_addr\"))\n",
    "thunks = thunks.with_columns((is_next | is_prev).alias(\"is_thunk\"))\n",
    "thunks = thunks.with_columns(pl.col(\"is_thunk\") | pl.col(\"is_thunk\").shift(1) | pl.col(\"is_thunk\").shift(-1))\n",
    "thunks.filter(\"is_thunk\").shape[0]"
   ]
  },
  {
   "cell_type": "code",
   "execution_count": null,
   "id": "aa6c75a2",
   "metadata": {},
   "outputs": [],
   "source": [
    "thunks.filter(abs(pl.col(\"Int_addr\") - 0x14ab766) < 48)"
   ]
  },
  {
   "cell_type": "code",
   "execution_count": null,
   "id": "191ea511",
   "metadata": {},
   "outputs": [],
   "source": [
    "# additional thunks\n",
    "thunks = thunks.with_columns(pl.col(\"is_thunk\") | (pl.col(\"Call address\") == \"0x14aaadb\"))\n",
    "thunks = thunks.with_columns(pl.col(\"is_thunk\") | (pl.col(\"Call address\") == \"0x14aaad5\"))\n",
    "\n",
    "thunks = thunks.with_columns(pl.col(\"is_thunk\") | (pl.col(\"Call address\") == \"0x14aa9f5\"))\n",
    "thunks = thunks.with_columns(pl.col(\"is_thunk\") | (pl.col(\"Call address\") == \"0x14aa9fb\"))\n",
    "\n",
    "thunks = thunks.with_columns(pl.col(\"is_thunk\") | (pl.col(\"Call address\") == \"0x14aab3d\"))\n",
    "\n",
    "thunks = thunks.with_columns(pl.col(\"is_thunk\") | (pl.col(\"Call address\") == \"0x14ab35d\"))\n",
    "thunks = thunks.with_columns(pl.col(\"is_thunk\") | (pl.col(\"Call address\") == \"0x14ab363\"))\n",
    "\n",
    "thunks = thunks.with_columns(pl.col(\"is_thunk\") | (pl.col(\"Call address\") == \"0x14ab405\"))\n",
    "thunks = thunks.with_columns(pl.col(\"is_thunk\") | (pl.col(\"Call address\") == \"0x14ab40b\"))\n",
    "\n",
    "thunks = thunks.with_columns(pl.col(\"is_thunk\") | (pl.col(\"Call address\") == \"0x14ab767\"))\n",
    "thunks = thunks.with_columns(pl.col(\"is_thunk\") | (pl.col(\"Call address\") == \"0x14ab76d\"))\n",
    "\n",
    "thunks = thunks.with_columns(pl.col(\"is_thunk\") | (pl.col(\"Call address\") == \"0x14abc33\"))\n",
    "thunks = thunks.with_columns(pl.col(\"is_thunk\") | (pl.col(\"Call address\") == \"0x14abc39\"))\n",
    "\n",
    "thunks = thunks.with_columns(pl.col(\"is_thunk\") | (pl.col(\"Call address\") == \"0x14abe61\"))\n",
    "\n",
    "thunks = thunks.with_columns(pl.col(\"is_thunk\") | (pl.col(\"Call address\") == \"0xcedcb1\"))\n",
    "\n",
    "thunks = thunks.with_columns(pl.col(\"is_thunk\") | (pl.col(\"Call address\") == \"0xcedcf1\"))"
   ]
  },
  {
   "cell_type": "code",
   "execution_count": null,
   "id": "982b773a",
   "metadata": {},
   "outputs": [],
   "source": [
    "thunks.filter(pl.col(\"Call address\").str.slice(2).str.to_integer(base=16) == 0x14ab766)"
   ]
  },
  {
   "cell_type": "code",
   "execution_count": null,
   "id": "febf2ef4",
   "metadata": {},
   "outputs": [],
   "source": [
    "thunks = thunks.filter(\"is_thunk\").drop(\"Int_addr\")\n",
    "print(f\"Found {thunks.filter(\"is_thunk\").unique(\"Destination\").shape[0]} thunks and {iat.unique(\"Address\").shape[0]} imports\")"
   ]
  },
  {
   "cell_type": "code",
   "execution_count": null,
   "id": "0a3b5cb8",
   "metadata": {},
   "outputs": [],
   "source": [
    "thunks = thunks.join(iat.select(\"Module\", \"Function\", \"Address\"), left_on=\"Destination\", right_on=\"Address\", how='left')\n",
    "print(thunks.shape)\n",
    "thunks.filter(pl.col(\"Module\").is_null())"
   ]
  },
  {
   "cell_type": "code",
   "execution_count": null,
   "id": "c2701b49",
   "metadata": {},
   "outputs": [],
   "source": [
    "# For the rest, we'll create new thunks\n",
    "available_thunk_places = [\n",
    "    [\"0x014AB2A4\", 12],\n",
    "    [\"0x014AB368\", 8],\n",
    "    [\"0x014AB3C2\", 14],\n",
    "    [\"0x014AB5B6\", 10],\n",
    "    [\"0x014AB602\", 14],\n",
    "]\n",
    "\n",
    "def find_next_addr(size: int = 6) -> str | None:\n",
    "    global available_thunk_places\n",
    "    for i in range(len(available_thunk_places)):\n",
    "        e = available_thunk_places[i]\n",
    "        if e[1] > size:\n",
    "            e[1] -= size\n",
    "            retval = int(e[0], 16)\n",
    "            e[0] = hex(retval + size)\n",
    "            return hex(retval)\n",
    "    return None"
   ]
  },
  {
   "cell_type": "code",
   "execution_count": null,
   "id": "7f7bca6f",
   "metadata": {},
   "outputs": [],
   "source": [
    "# Trying least intervention: no thunks = they aren't needed\n",
    "skip = True\n",
    "\n",
    "to_thunk = iat.vstack(obfuscated)\n",
    "unfound = to_thunk.filter(\n",
    "    ~pl.col(\"Address\").is_in(thunks.filter(\"is_thunk\")[\"Destination\"].to_list())\n",
    ").unique(\"Address\")\n",
    "print(unfound.shape)\n",
    "\n",
    "if skip:\n",
    "    unfound = unfound.clear()"
   ]
  },
  {
   "cell_type": "code",
   "execution_count": null,
   "id": "6cb21d46",
   "metadata": {},
   "outputs": [],
   "source": [
    "thunks = thunks.with_columns(pl.lit(False).alias(\"new\"))\n",
    "for dest in unfound[\"Address\"]:\n",
    "    addr = find_next_addr()\n",
    "    print(f\"Using {addr} to place a new thunk to {dest}\")\n",
    "    if addr is None:\n",
    "        raise RuntimeError(\"Can't place new thunk: no available space\")\n",
    "\n",
    "    func = iat.filter(pl.col(\"Address\") == dest)\n",
    "    if func.shape[0] > 0:\n",
    "        modname = func[\"Module\"][0]\n",
    "        funname = func[\"Function\"][0]\n",
    "    else:\n",
    "        modname, funname = None, None\n",
    "\n",
    "    thunks = thunks.vstack(\n",
    "        pl.DataFrame(\n",
    "            {\n",
    "                \"Call address\": hex(int(addr, 16)),\n",
    "                \"Destination\": hex(int(dest, 16)),\n",
    "                \"is_thunk\": True,\n",
    "                \"Module\": modname,\n",
    "                \"Function\": funname,\n",
    "                \"new\": True,\n",
    "            }\n",
    "        )\n",
    "    )\n",
    "\n",
    "unfound = unfound.clear()\n",
    "print(thunks.shape)"
   ]
  },
  {
   "cell_type": "code",
   "execution_count": null,
   "id": "18f0474f",
   "metadata": {},
   "outputs": [],
   "source": [
    "# setting thunks to renewed iat\n",
    "thunks = thunks.join(to_thunk.select(\"Calladdr\", \"Address\").rename({\"Calladdr\": \"iat_addr\"}).unique(\"Address\"), left_on=\"Destination\", right_on=\"Address\", how='left')\n",
    "thunks.shape"
   ]
  },
  {
   "cell_type": "code",
   "execution_count": null,
   "id": "dd35333d",
   "metadata": {},
   "outputs": [],
   "source": [
    "thunks.filter(pl.col(\"Call address\").str.slice(2).str.to_integer(base=16) == 0x14ab766)"
   ]
  },
  {
   "cell_type": "code",
   "execution_count": null,
   "id": "75f8591c",
   "metadata": {},
   "outputs": [],
   "source": [
    "thunks.tail(6)"
   ]
  },
  {
   "cell_type": "markdown",
   "id": "a48264a4",
   "metadata": {},
   "source": [
    "# Fix calls"
   ]
  },
  {
   "cell_type": "markdown",
   "id": "99080ea7",
   "metadata": {},
   "source": [
    "Suspect calls are <90 e8 ? ? ? ?> and <e8 ? ? ? ? 90>. The only concerning calls are \"optimized\". The rest point to thunks (restored) or iat (restored)."
   ]
  },
  {
   "cell_type": "markdown",
   "id": "cecd94d3",
   "metadata": {},
   "source": [
    "Broken jmp on 0xbd0394 (LeaveCriticalSection) made me to include nop-jumps to the list: <90 e9 ? ? ? ?>"
   ]
  },
  {
   "cell_type": "code",
   "execution_count": null,
   "id": "a26d8a2b",
   "metadata": {},
   "outputs": [],
   "source": [
    "calls = pl.read_csv(byte_calls_p).filter(pl.col(\"Instruction\").is_in([\"call\", \"call2\", \"jmp\"]))\n",
    "\n",
    "# remove nop-jmps that are thunks:\n",
    "thunk_addrs = set(thunks[\"Call address\"].to_list())\n",
    "calls = calls.filter(~pl.col(\"Call address\").is_in(thunk_addrs))\n",
    "\n",
    "# calls_inst = pl.read_csv(inst_calls_p).clear() # deprecated\n",
    "# calls = calls.vstack(calls_inst).unique(\"Call address\")\n",
    "calls = calls.drop(\"Resolved name\")\n",
    "calls = calls.with_columns(pl.col(\"Call address\").str.slice(2).str.to_integer(base=16).alias(\"Int_addr\"))\n",
    "calls = calls.filter(pl.col(\"Int_addr\") < 0x01588000)  # this is where the old IAT begins\n",
    "\n",
    "print(calls.shape)\n",
    "calls.head(3)"
   ]
  },
  {
   "cell_type": "code",
   "execution_count": null,
   "id": "b39f7601",
   "metadata": {},
   "outputs": [],
   "source": [
    "# remove dupes (when both patterns hit)\n",
    "addrs = set(calls['Int_addr'].to_list())\n",
    "calls = calls.filter(~(pl.col(\"Int_addr\") - 1).is_in(addrs)).drop(\"Int_addr\")\n",
    "\n",
    "print(calls.shape)"
   ]
  },
  {
   "cell_type": "code",
   "execution_count": null,
   "id": "3608e946",
   "metadata": {},
   "outputs": [],
   "source": [
    "# filter only calls that point to api calls directly (still rel32 though)\n",
    "valid_addresses = set(dump_imports[\"Address\"].to_list())\n",
    "calls = calls.filter(pl.col(\"Destination\").is_in(valid_addresses))\n",
    "\n",
    "calls.shape"
   ]
  },
  {
   "cell_type": "code",
   "execution_count": null,
   "id": "6ebf5ec8",
   "metadata": {},
   "outputs": [],
   "source": [
    "iat.head(1)"
   ]
  },
  {
   "cell_type": "code",
   "execution_count": null,
   "id": "099cfda7",
   "metadata": {},
   "outputs": [],
   "source": [
    "# map with thunk addresses\n",
    "thunks_to_join = thunks.select(pl.col(\"Destination\"), pl.col(\"Call address\").alias(\"thunk address\")).unique(\"Destination\")\n",
    "calls = calls.join(thunks_to_join, on=\"Destination\", how='left')\n",
    "\n",
    "iats_to_join = iat.select(pl.col(\"Address\").alias(\"Destination\"), pl.col(\"Calladdr\").alias(\"iat address\")).unique(\"Destination\")\n",
    "calls = calls.join(iats_to_join, on=\"Destination\", how='left')\n",
    "\n",
    "calls.shape"
   ]
  },
  {
   "cell_type": "code",
   "execution_count": null,
   "id": "282c93df",
   "metadata": {},
   "outputs": [],
   "source": [
    "# all calls have their thunk and iat\n",
    "unthunked = calls.filter(pl.col(\"thunk address\").is_null()).shape[0]\n",
    "print('Unthunked:', unthunked)\n",
    "# disabled, since we're binding to IAT now\n",
    "# assert unthunked == 0, unthunked\n",
    "\n",
    "uniated = calls.filter(pl.col(\"iat address\").is_null()).shape[0]\n",
    "print('Uniated:', uniated)\n",
    "assert uniated == 0, uniated"
   ]
  },
  {
   "cell_type": "markdown",
   "id": "f0eb8311",
   "metadata": {},
   "source": [
    "# Patch PE"
   ]
  },
  {
   "cell_type": "code",
   "execution_count": null,
   "id": "b2b37222",
   "metadata": {},
   "outputs": [],
   "source": [
    "def patch_thunk(addr: str, dest: str, iat: str, new: bool, real: bool = True) -> pl.DataFrame:\n",
    "    patch_addr = hex(int(addr, 16) + int(new))\n",
    "    naddr = hex(int(addr, 16) + 6) # nop, jmp is 6 bytes\n",
    "    mem_old = 'CC' * 6\n",
    "    if not new:\n",
    "        mem_old = '90E9' + to_bin(rel_call(naddr, dest))\n",
    "    \n",
    "    if real:\n",
    "        patch = 'FF25' + to_bin(hex_to_LE(int(iat, 16)))\n",
    "    else:\n",
    "        patch = '90E9' + to_bin(rel_call(naddr, dest))\n",
    "    \n",
    "    return pl.DataFrame({\n",
    "        \"patch_addr\": patch_addr,\n",
    "        \"mem_old\": mem_old,\n",
    "        \"patch\": patch,\n",
    "    })"
   ]
  },
  {
   "cell_type": "code",
   "execution_count": null,
   "id": "d780b497",
   "metadata": {},
   "outputs": [],
   "source": [
    "thunks_patch = pl.DataFrame(schema=patch_schema)\n",
    "\n",
    "for addr, dest, mod, new, iat_addr in thunks.drop(\"is_thunk\", \"Function\").rows():\n",
    "    real = mod is not None\n",
    "    thunks_patch = thunks_patch.vstack(patch_thunk(addr, dest, iat_addr, new, real))\n",
    "print(thunks_patch.shape)"
   ]
  },
  {
   "cell_type": "code",
   "execution_count": null,
   "id": "76864a80",
   "metadata": {},
   "outputs": [],
   "source": [
    "calls.head(5)"
   ]
  },
  {
   "cell_type": "code",
   "execution_count": null,
   "id": "8f114114",
   "metadata": {},
   "outputs": [],
   "source": [
    "calls.filter(pl.col(\"Call address\").is_in([\"0x62001b\"]))"
   ]
  },
  {
   "cell_type": "code",
   "execution_count": null,
   "id": "ce32984e",
   "metadata": {},
   "outputs": [],
   "source": [
    "# These are used in integrity checks, and need to be patched carefully\n",
    "call_exceptions = [\n",
    "    \"0x61fffa\", # Aphrodita integrity check, checks for 0x90 as first byte\n",
    "]"
   ]
  },
  {
   "cell_type": "code",
   "execution_count": null,
   "id": "92f8a312",
   "metadata": {},
   "outputs": [],
   "source": [
    "def patch_call(addr: str, inst: str, thunk_addr: str, iat_addr: str) -> dict[str, str]:\n",
    "    naddr = hex(int(addr, 16) + 6)  # both nop, call and call, nop are 6-bytes\n",
    "    if inst[-1] == \"2\":\n",
    "        oaddr = hex(int(addr, 16) + 6)  # call, nop, in this case, jump starts from nop\n",
    "    else:\n",
    "        oaddr = naddr  # nop, call, in this case, jump starts from next instruction\n",
    "\n",
    "    dest_rbin = to_bin(rel_call(oaddr, dest))  # rel32\n",
    "    # thunk_bin = to_bin(rel_call(naddr, hex(int(thunk_addr, 16) - 5))) # TODO: wtf - 5?\n",
    "    iat_rbin = to_bin(rel_call(naddr, iat_addr))  # rel32\n",
    "    iat_bin = to_bin(hex_to_LE(int(iat_addr, 16)))  # imm32\n",
    "\n",
    "    # Determine opcode based on instruction\n",
    "    match inst:\n",
    "        case \"call\":\n",
    "            mem_old = \"90E8\" + dest_rbin\n",
    "            patch = \"FF15\" + iat_bin\n",
    "        case \"jmp\":\n",
    "            mem_old = \"90E9\" + dest_rbin\n",
    "            patch = \"FF25\" + iat_bin\n",
    "            # raise RuntimeError(\"Shouldn't patch jumps for now\")\n",
    "        case _:\n",
    "            raise RuntimeError(f\"Unsupported instruction {inst}\")\n",
    "    \n",
    "    if addr in call_exceptions:\n",
    "        print(f\"Exception call at {addr}\")\n",
    "        thunk_rbin = to_bin(rel_call(naddr, thunk_addr))\n",
    "        patch = \"90E8\" + thunk_rbin\n",
    "    \n",
    "    return {\n",
    "        \"patch_addr\": addr,\n",
    "        \"mem_old\": mem_old,\n",
    "        \"patch\": patch,\n",
    "    }"
   ]
  },
  {
   "cell_type": "code",
   "execution_count": null,
   "id": "9eb9db54",
   "metadata": {},
   "outputs": [],
   "source": [
    "patch_data = []\n",
    "\n",
    "for call in tqdm(calls.rows()):\n",
    "    sub, inst, addr, dest, thunk_addr, iat_addr = call\n",
    "\n",
    "    patch_data.append(patch_call(addr, inst, thunk_addr, iat_addr))\n",
    "\n",
    "# Create DataFrame in one operation\n",
    "calls_patch = pl.DataFrame(patch_data, schema=patch_schema).sort(\"patch_addr\")\n",
    "calls_patch.shape"
   ]
  },
  {
   "cell_type": "code",
   "execution_count": null,
   "id": "1cd98337",
   "metadata": {},
   "outputs": [],
   "source": [
    "thunks_patch.write_csv(patch_thunks_p)\n",
    "calls_patch.write_csv(patch_calls_p)"
   ]
  },
  {
   "cell_type": "markdown",
   "id": "525f9c4d",
   "metadata": {},
   "source": [
    "Now run ida_patch.py script in IDA Pro and apply changes"
   ]
  },
  {
   "cell_type": "markdown",
   "id": "d84e3338",
   "metadata": {},
   "source": [
    "# Troubleshooting"
   ]
  },
  {
   "cell_type": "code",
   "execution_count": null,
   "id": "2751557a",
   "metadata": {},
   "outputs": [],
   "source": [
    "print(\"OK!\")"
   ]
  }
 ],
 "metadata": {
  "kernelspec": {
   "display_name": ".venv",
   "language": "python",
   "name": "python3"
  },
  "language_info": {
   "codemirror_mode": {
    "name": "ipython",
    "version": 3
   },
   "file_extension": ".py",
   "mimetype": "text/x-python",
   "name": "python",
   "nbconvert_exporter": "python",
   "pygments_lexer": "ipython3",
   "version": "3.12.10"
  }
 },
 "nbformat": 4,
 "nbformat_minor": 5
}
