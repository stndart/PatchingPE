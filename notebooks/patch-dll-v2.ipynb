{
 "cells": [
  {
   "cell_type": "code",
   "execution_count": null,
   "id": "481f0a04",
   "metadata": {},
   "outputs": [],
   "source": [
    "import mmap\n",
    "import re\n",
    "import shutil\n",
    "from pathlib import Path\n",
    "from typing import cast\n",
    "\n",
    "import lief\n",
    "import pefile\n",
    "import polars as pl\n",
    "import numpy as np"
   ]
  },
  {
   "cell_type": "markdown",
   "id": "148634e3",
   "metadata": {},
   "source": [
    "Before starting:\n",
    "\n",
    "Launch `fake_neomon_host/host-bind.exe` with x64dbg under ScyllaHide and reach the NeoMon.dll OEP (0x10013903). Make sure ASLR is off for both .exe and .dll.\n",
    "\n",
    "Then collect data:\n",
    "- x64dbg/Symbols -> `dumps/dump-imports.csv`\n",
    "- x64dbg/ModulePathListExports -> `NeoMon.dll.export.full.csv`\n",
    "- x64dbg/ModulePathListImports -> `NeoMon.dll.import.full.csv`\n",
    "- dump 0x0213 .. 0x0218 sections that themida in NeoMon.dll has created, to `fake_neomon_host/neomon213.bin` (213, 214, etc.)\n",
    "- Dump the NeoMon.dll using Scylla (you can specify 0x13903 OEP, but do not import IAT or fix dump)\n",
    "- Open that NeoMon_dump.dll in IDA Pro and launch `scripts/extract-old-iat.py`\n",
    "- and `scripts/extract-byte-calls.py`"
   ]
  },
  {
   "cell_type": "markdown",
   "id": "a8821527",
   "metadata": {},
   "source": [
    "# Paths"
   ]
  },
  {
   "cell_type": "markdown",
   "id": "986c4fc2",
   "metadata": {},
   "source": [
    "Everything here is done on a simple dllhost exe `fake_neomon_host/host-bind.exe`"
   ]
  },
  {
   "cell_type": "markdown",
   "id": "90ff0e69",
   "metadata": {},
   "source": [
    "Dumps are made once the _DllEntryPoint is reached (0x13903)"
   ]
  },
  {
   "cell_type": "code",
   "execution_count": null,
   "id": "59316e4e",
   "metadata": {},
   "outputs": [],
   "source": [
    "base = Path(\"../neomon-dump/dumps\")\n",
    "base_patch = Path(\"../neomon-dump/patches\")"
   ]
  },
  {
   "cell_type": "code",
   "execution_count": null,
   "id": "25958747",
   "metadata": {},
   "outputs": [],
   "source": [
    "# imports csv\n",
    "\n",
    "dump_imports_p = base / \"dump-imports.csv\"\n",
    "old_iat_p = base / \"old-iat.csv\"\n",
    "byte_calls_p = base / \"broken-byte-calls.csv\"\n",
    "\n",
    "module_imports_p = base / \"../NeoMon.dll.import.full.csv\"\n",
    "module_exports_p = base / \"../NeoMon.dll.export.full.csv\""
   ]
  },
  {
   "cell_type": "code",
   "execution_count": null,
   "id": "13955441",
   "metadata": {},
   "outputs": [],
   "source": [
    "# exports csv\n",
    "patch_thunks_p = base_patch / \"thunks_patch.csv\"\n",
    "patch_calls_p = base_patch / \"calls_patch.csv\"\n",
    "patch_iat_p = base_patch / \"iat_patch.csv\""
   ]
  },
  {
   "cell_type": "code",
   "execution_count": null,
   "id": "ba0b2cba",
   "metadata": {},
   "outputs": [],
   "source": [
    "base_to_exe = Path(\"../fake_neomon_host\")\n",
    "original_dump_path = base_to_exe / \"NeoMon_dump.dll\"\n",
    "patched_path = base_to_exe / \"NeoMon_patched.dll\""
   ]
  },
  {
   "cell_type": "code",
   "execution_count": null,
   "id": "d5617a8f",
   "metadata": {},
   "outputs": [],
   "source": [
    "fake_sections = range(213, 217)"
   ]
  },
  {
   "cell_type": "code",
   "execution_count": null,
   "id": "1f8c16b4",
   "metadata": {},
   "outputs": [],
   "source": [
    "from addr_helpers import int_to_LE, rel_call, to_bin, from_bin\n",
    "\n",
    "patch_schema = {\n",
    "    \"patch_addr\": pl.String,\n",
    "    \"mem_old\": pl.String,\n",
    "    \"patch\": pl.String,\n",
    "}"
   ]
  },
  {
   "cell_type": "markdown",
   "id": "528a06d9",
   "metadata": {},
   "source": [
    "# Parsing import table"
   ]
  },
  {
   "cell_type": "code",
   "execution_count": null,
   "id": "350b465e",
   "metadata": {},
   "outputs": [],
   "source": [
    "def to_int_expr(col: str = \"Address\") -> pl.Expr:\n",
    "    return pl.col(col).str.slice(2).str.to_integer(base=16)\n",
    "\n",
    "\n",
    "def addr_to_int(df: pl.DataFrame, col: str = \"Address\") -> pl.DataFrame:\n",
    "    return df.with_columns(to_int_expr(col))\n",
    "\n",
    "\n",
    "def int_to_addr(\n",
    "    df: pl.DataFrame, col: str = \"Address\", sort: bool = False\n",
    ") -> pl.DataFrame:\n",
    "    arr = df[col].to_numpy()\n",
    "    hex_arr = np.char.add(\"0x\", np.char.lower(np.char.mod(\"%x\", arr)))\n",
    "    return normalize_address(\n",
    "        df.with_columns(pl.Series(col, hex_arr)), col=col, sort=sort\n",
    "    )\n",
    "\n",
    "\n",
    "def normalize_address(\n",
    "    df: pl.DataFrame, col: str = \"Address\", sort: bool = True\n",
    ") -> pl.DataFrame:\n",
    "    df = df.with_columns(\n",
    "        (\n",
    "            \"0x\"\n",
    "            + pl.when(pl.col(col).str.starts_with(\"0x\"))\n",
    "            .then(pl.col(col).str.strip_prefix(\"0x\"))\n",
    "            .otherwise(col)\n",
    "            .str.to_lowercase()\n",
    "            .str.strip_chars_start(\"0\")\n",
    "        ).alias(col)\n",
    "    ).with_columns(\n",
    "        pl.when(pl.col(col) == \"0x\").then(pl.lit(\"0x0\").alias(col)).otherwise(col)\n",
    "    )\n",
    "    if sort:\n",
    "        return df.sort(to_int_expr(col))\n",
    "    return df"
   ]
  },
  {
   "cell_type": "markdown",
   "id": "59395d6f",
   "metadata": {},
   "source": [
    "To match asm calls and jumps with functions, we collect all exported functions to `dump_imports`"
   ]
  },
  {
   "cell_type": "code",
   "execution_count": null,
   "id": "1b0322cf",
   "metadata": {},
   "outputs": [],
   "source": [
    "dump_imports = pl.read_csv(dump_imports_p)\n",
    "dump_imports.columns = [\n",
    "    \"Address\",\n",
    "    \"Type\",\n",
    "    \"Ordinal\",\n",
    "    \"Symbol\",\n",
    "    \"undecorated\",\n",
    "]\n",
    "dump_imports = dump_imports.drop(\"undecorated\")  # doesn't make any sense\n",
    "dump_imports = dump_imports.with_columns(\n",
    "    pl.when(pl.col(\"Type\") == \"Экспорт\")\n",
    "    .then(pl.lit(\"Export\").alias(\"Type\"))\n",
    "    .otherwise(pl.lit(\"Import\").alias(\"Type\"))\n",
    ")  # russian to english\n",
    "dump_imports = dump_imports.filter(\n",
    "    pl.col(\"Symbol\") != \"OptionalHeader.AddressOfEntryPoint\"\n",
    ")  # OEPs are never referenced\n",
    "dump_imports = normalize_address(dump_imports, \"Address\")  # remove leading 0s\n",
    "\n",
    "print(dump_imports.shape)\n",
    "dump_imports.sample(3)"
   ]
  },
  {
   "cell_type": "markdown",
   "id": "686a00a2",
   "metadata": {},
   "source": [
    "Default view doesn't mention module names. ModulePathList plugin does.\n",
    "\n",
    "module_exports collects exported entries for each module. \\\n",
    "module_imports collects IAT for each module (IAT may be hidden by themida, these are not parsed)"
   ]
  },
  {
   "cell_type": "code",
   "execution_count": null,
   "id": "a8de3972",
   "metadata": {},
   "outputs": [],
   "source": [
    "module_exports = pl.read_csv(module_exports_p)\n",
    "module_exports = module_exports.filter(\n",
    "    ~pl.col(\"Module\").str.ends_with(\".exe\")\n",
    ")  # not relevant\n",
    "module_exports = normalize_address(module_exports, \"Address\")  # remove leading 0s\n",
    "module_exports = module_exports.unique(\"Address\")  # remove aliases\n",
    "print(\"Exports:\", module_exports.shape)\n",
    "\n",
    "module_imports = (\n",
    "    pl.read_csv(module_imports_p)\n",
    "    .drop(\"Function\", \"Module\")\n",
    "    .rename(\n",
    "        {\n",
    "            \"Address\": \"IAT_addr\",  # IAT line address\n",
    "            \"Bytes\": \"Address\",  # IAT line content\n",
    "            \"Modname\": \"Module\",\n",
    "            \"Symname\": \"Function\",\n",
    "        }\n",
    "    )\n",
    ")\n",
    "module_imports = normalize_address(module_imports, \"Address\")\n",
    "module_imports = normalize_address(module_imports, \"IAT_addr\")\n",
    "print(\"Imports:\", module_imports.shape)"
   ]
  },
  {
   "cell_type": "markdown",
   "id": "3d89932a",
   "metadata": {},
   "source": [
    "Themida sometimes obfuscates calls using 3rd party IAT. We collect them all to deobsuscate back. \\\n",
    "`proxy_imports` now contains IATs of modules. \\\n",
    "`dump_imports` now contains only exported functions (to map module names)"
   ]
  },
  {
   "cell_type": "code",
   "execution_count": null,
   "id": "3e66de40",
   "metadata": {},
   "outputs": [],
   "source": [
    "proxy_imports = dump_imports.join(\n",
    "    module_imports.rename({\"IAT_addr\": \"Address\", \"Address\": \"Target\"}),\n",
    "    on=\"Address\",\n",
    "    how=\"left\",\n",
    ")\n",
    "proxy_imports = proxy_imports.filter(pl.col(\"Type\") == \"Import\").drop(\n",
    "    \"Type\", \"Ordinal\", \"Symbol\", \"Module\"\n",
    ")\n",
    "\n",
    "dump_imports = dump_imports.filter(pl.col(\"Type\") == \"Export\").drop(\"Type\")\n",
    "# map with module names\n",
    "dump_imports = dump_imports.join(module_exports, on=\"Address\", how=\"left\")\n",
    "# Names only seem correct for exported symbols\n",
    "dump_imports = dump_imports.drop(\"Function\").rename({\"Symbol\": \"Function\"})\n",
    "\n",
    "# map with module names\n",
    "proxy_imports = proxy_imports.join(\n",
    "    dump_imports.select(\"Address\", \"Module\"), left_on=\"Target\", right_on=\"Address\"\n",
    ")\n",
    "\n",
    "print(\"IAT Imports:\", proxy_imports.shape)\n",
    "print(\"True imports:\", dump_imports.shape)"
   ]
  },
  {
   "cell_type": "code",
   "execution_count": null,
   "id": "d19e7e40",
   "metadata": {},
   "outputs": [],
   "source": [
    "assert dump_imports.filter(pl.col(\"Module\").is_null()).shape[0] == 0\n",
    "assert proxy_imports.filter(pl.col(\"Module\").is_null()).shape[0] == 0"
   ]
  },
  {
   "cell_type": "markdown",
   "id": "61babda1",
   "metadata": {},
   "source": [
    "# Gathering imports from old IAT"
   ]
  },
  {
   "cell_type": "code",
   "execution_count": null,
   "id": "16db17a1",
   "metadata": {},
   "outputs": [],
   "source": [
    "iat = pl.read_csv(old_iat_p)\n",
    "print(iat.shape)\n",
    "\n",
    "iat = iat.rename({\"Address\": \"Calladdr\", \"Destination\": \"Address\"})\n",
    "iat = iat.with_columns((\"0x\" + pl.col(\"Address\").str.to_lowercase()).alias(\"Address\"))\n",
    "iat = normalize_address(iat, sort=False)\n",
    "iat = iat.join(dump_imports.unique(\"Address\"), on=\"Address\", how=\"left\")\n",
    "print(iat.shape)"
   ]
  },
  {
   "cell_type": "code",
   "execution_count": null,
   "id": "8039cedf",
   "metadata": {},
   "outputs": [],
   "source": [
    "for i in fake_sections:\n",
    "    modname = f\"section_{i}\"\n",
    "    iat = iat.with_columns(\n",
    "        pl.when(pl.col(\"Address\").str.slice(2, 3) == str(i))\n",
    "        .then(pl.lit(modname))\n",
    "        .otherwise(\"Module\")\n",
    "        .alias(\"Module\")\n",
    "    )"
   ]
  },
  {
   "cell_type": "markdown",
   "id": "7e271cda",
   "metadata": {},
   "source": [
    "Make sure iat2 is empty, i.e. no unknown calls present"
   ]
  },
  {
   "cell_type": "code",
   "execution_count": null,
   "id": "46bb8731",
   "metadata": {},
   "outputs": [],
   "source": [
    "iat2 = iat.filter(pl.col(\"Module\").is_null())\n",
    "iat2 = iat2.filter(pl.col(\"Address\") != \"0x0\")\n",
    "assert iat2.shape[0] == 0"
   ]
  },
  {
   "cell_type": "markdown",
   "id": "02395501",
   "metadata": {},
   "source": [
    "Cancel forwarding imports (e.g. kernel32.HeapAlloc -> ntdll.RtlAllocateHeap)"
   ]
  },
  {
   "cell_type": "code",
   "execution_count": null,
   "id": "8b7e9e02",
   "metadata": {},
   "outputs": [],
   "source": [
    "dll_forward_to = {\"ntdll.dll\", \"kernelbase.dll\"}\n",
    "\n",
    "def get_unforward_map(\n",
    "    forwarding_modules=[\"kernel32.dll\", \"user32.dll\"],\n",
    ") -> dict[str, tuple[str, str]]:\n",
    "    global forward_to\n",
    "    \n",
    "    systemroot = \"C:/Windows/SysWOW64/\"\n",
    "\n",
    "    unforward_map: dict[str, tuple[str, str]] = dict()\n",
    "\n",
    "    forwarded = iat.filter(pl.col(\"Module\").is_in(dll_forward_to))\n",
    "\n",
    "    for modname in forwarding_modules:\n",
    "        modpath = systemroot + modname\n",
    "        number = 0\n",
    "\n",
    "        dll = pefile.PE(modpath)\n",
    "        dll.full_load()\n",
    "        for exp in dll.DIRECTORY_ENTRY_EXPORT.symbols:\n",
    "            name = exp.name.decode() if exp.name else f\"Ordinal#{exp.ordinal}\"\n",
    "            forward_to = \"\"\n",
    "            if exp.forwarder:\n",
    "                number += 1\n",
    "                forward_to = exp.forwarder.decode().removeprefix(\"NTDLL.\")\n",
    "                unforward_map[forward_to] = (modname, name)\n",
    "\n",
    "        print(f\"For {modname} there are {number} forwards\")\n",
    "    return unforward_map\n",
    "\n",
    "\n",
    "unforward_map = get_unforward_map()"
   ]
  },
  {
   "cell_type": "code",
   "execution_count": null,
   "id": "c55f549d",
   "metadata": {},
   "outputs": [],
   "source": [
    "for func in iat.filter(pl.col(\"Module\").is_in(dll_forward_to))[\"Function\"]:\n",
    "    if func not in unforward_map:\n",
    "        print(f\"Func {func} from ntdll.dll is not found in forward map\")\n",
    "        continue\n",
    "\n",
    "    origmod, origfunc = unforward_map[func]\n",
    "\n",
    "    if \"InitializeCrit\" in func:\n",
    "        print(func, origmod, origfunc)\n",
    "\n",
    "    condition = (pl.col(\"Module\").is_in(dll_forward_to)) & (pl.col(\"Function\") == func)\n",
    "    iat = iat.with_columns(\n",
    "        [\n",
    "            pl.when(condition)\n",
    "            .then(pl.lit(origmod))\n",
    "            .otherwise(\"Module\")\n",
    "            .alias(\"Module\"),\n",
    "            pl.when(condition)\n",
    "            .then(pl.lit(origfunc))\n",
    "            .otherwise(\"Function\")\n",
    "            .alias(\"Function\"),\n",
    "        ]\n",
    "    )"
   ]
  },
  {
   "cell_type": "code",
   "execution_count": null,
   "id": "a1be213f",
   "metadata": {},
   "outputs": [],
   "source": [
    "iat.write_csv(str(old_iat_p) + \"2.csv\")"
   ]
  },
  {
   "cell_type": "code",
   "execution_count": null,
   "id": "370dc843",
   "metadata": {},
   "outputs": [],
   "source": [
    "iat_seg = (\n",
    "    iat.sort(\"Calladdr\")\n",
    "    .fill_null(\"\")\n",
    "    .with_columns(\n",
    "        (pl.col(\"Module\") != pl.col(\"Module\").shift(1)).cum_sum().alias(\"segment_id\")\n",
    "    )\n",
    "    .fill_null(0)\n",
    "    .filter(to_int_expr(\"Address\") != 0)\n",
    "    .filter(pl.col(\"Module\") != \"\")\n",
    "    .filter(~pl.col(\"Module\").str.starts_with(\"section_\"))\n",
    ")\n",
    "segments = [\n",
    "    group.drop(\"segment_id\")\n",
    "    for _, group in iat_seg.group_by(\"segment_id\", maintain_order=True)\n",
    "]"
   ]
  },
  {
   "cell_type": "code",
   "execution_count": null,
   "id": "d3533e7d",
   "metadata": {},
   "outputs": [],
   "source": [
    "# extract obfuscated imports for later\n",
    "obfuscated = iat.filter(pl.col(\"Module\").str.starts_with(\"section_\")).filter(\n",
    "    to_int_expr(\"Address\") != 0\n",
    ")\n",
    "obfuscated"
   ]
  },
  {
   "cell_type": "code",
   "execution_count": null,
   "id": "460ae6b0",
   "metadata": {},
   "outputs": [],
   "source": [
    "# remove gaps and obfuscated imports\n",
    "w = iat.shape[0]\n",
    "iat = iat.filter(pl.col(\"Module\").is_not_null())\n",
    "print(f\"Filtered out {iat.shape[0]}/{w} iat entries\")"
   ]
  },
  {
   "cell_type": "code",
   "execution_count": null,
   "id": "8b5753e0",
   "metadata": {},
   "outputs": [],
   "source": [
    "# confirm all names are decorated\n",
    "assert iat.filter(pl.col(\"Function\").str.contains(\"public\")).shape[0] == 0"
   ]
  },
  {
   "cell_type": "markdown",
   "id": "3a524039",
   "metadata": {},
   "source": [
    "# Gathering imports from fake sections"
   ]
  },
  {
   "cell_type": "code",
   "execution_count": null,
   "id": "e1a478a1",
   "metadata": {},
   "outputs": [],
   "source": [
    "def find_pattern_in_file(path: Path, pattern: str, first_only: bool = False):\n",
    "    \"\"\"\n",
    "    Search a binary file for a pattern like \"90 e8 ? ? ? ?\".\n",
    "    Returns a list of integer offsets (file positions) where the pattern matches.\n",
    "    If first_only is True, returns a list with at most one offset.\n",
    "    \"\"\"\n",
    "    tokens = pattern.split()\n",
    "    parts = []\n",
    "    for t in tokens:\n",
    "        if t == \"?\":\n",
    "            parts.append(b\".\")  # regex \"any byte\"\n",
    "        else:\n",
    "            parts.append(re.escape(bytes.fromhex(t)))  # escape literal byte\n",
    "\n",
    "    regex = re.compile(b\"\".join(parts), flags=re.DOTALL)\n",
    "\n",
    "    offsets = []\n",
    "    with open(path, \"rb\") as f:\n",
    "        mm = mmap.mmap(f.fileno(), 0, access=mmap.ACCESS_READ)\n",
    "        for m in regex.finditer(mm):\n",
    "            offsets.append(m.start())\n",
    "            if first_only:\n",
    "                break\n",
    "        mm.close()\n",
    "    return offsets"
   ]
  },
  {
   "cell_type": "code",
   "execution_count": null,
   "id": "2b626f0d",
   "metadata": {},
   "outputs": [],
   "source": [
    "def make_fake_calls_table(idx: int, pattern: str) -> pl.DataFrame:\n",
    "    pattern = pattern.lower()\n",
    "    fn = base_to_exe / f\"neomon{idx}.bin\"\n",
    "\n",
    "    calls = [ea for ea in find_pattern_in_file(fn, pattern)]\n",
    "    with open(fn, \"rb\") as f:\n",
    "        mm = mmap.mmap(f.fileno(), 0, access=mmap.ACCESS_READ)\n",
    "        # calculate the offset of the next instruction (to add to rel32 addr) and the addr location itself\n",
    "        if pattern.startswith((\"e8\", \"e9\")):  # rel32\n",
    "            next_op = [ea + 5 for ea in calls]\n",
    "            addr_shift = [ea + 1 for ea in calls]\n",
    "        elif pattern.startswith((\"0f 84\", \"0f 85\")):  # rel32\n",
    "            next_op = [ea + 6 for ea in calls]\n",
    "            addr_shift = [ea + 2 for ea in calls]\n",
    "        elif pattern.startswith((\"ff 15\", \"ff 25\")):  # imm32\n",
    "            next_op = [0] * len(calls)\n",
    "            addr_shift = [ea + 2 for ea in calls]\n",
    "        else:\n",
    "            raise RuntimeError(f\"Unsupported pattern {pattern}\")\n",
    "\n",
    "        dest = [\n",
    "            shift + parse_dest(mm[addr : addr + 4])\n",
    "            for shift, addr in zip(next_op, addr_shift)\n",
    "        ]\n",
    "\n",
    "    match pattern:\n",
    "        case s if s.startswith(\"e8\"):\n",
    "            inst = \"call-near\"\n",
    "        case s if s.startswith(\"e9\"):\n",
    "            inst = \"jmp-near\"\n",
    "        case s if s.startswith(\"0f 84\"):\n",
    "            inst = \"jne-near\"\n",
    "        case s if s.startswith(\"0f 85\"):\n",
    "            inst = \"je-near\"\n",
    "        case s if s.startswith(\"ff 15\"):\n",
    "            inst = \"call-far\"\n",
    "        case s if s.startswith(\"ff 25\"):\n",
    "            inst = \"jmp-far\"\n",
    "        case _:\n",
    "            raise RuntimeError(f\"Unsupported pattern {pattern}\")\n",
    "\n",
    "    return pl.DataFrame(\n",
    "        {\n",
    "            \"subroutine\": None,\n",
    "            \"Instruction\": inst,\n",
    "            \"Call address\": list(map(hex, calls)),\n",
    "            \"Destination\": list(map(hex, dest)),\n",
    "            \"Resolved name\": None,\n",
    "        }\n",
    "    )\n",
    "\n",
    "\n",
    "def parse_dest(addr: bytes) -> int:\n",
    "    return from_bin(to_bin(bytearray(addr)))\n"
   ]
  },
  {
   "cell_type": "code",
   "execution_count": null,
   "id": "84b4cf5e",
   "metadata": {},
   "outputs": [],
   "source": [
    "patterns = [\n",
    "    \"e8 ? ? ? ?\",  # call-near\n",
    "    \"e9 ? ? ? ?\",  # jmp-near\n",
    "    \"ff 25 ? ? ? ?\",  # jmp-far\n",
    "    \"ff 15 ? ? ? ?\",  # call-far\n",
    "    \"0f 84 ? ? ? ?\",  # jne-near\n",
    "    \"0f 85 ? ? ? ?\",  # je-near\n",
    "]\n",
    "\n",
    "fake_calls = pl.DataFrame(\n",
    "    schema={\n",
    "        \"subroutine\": pl.String,\n",
    "        \"Instruction\": pl.String,\n",
    "        \"Call address\": pl.String,\n",
    "        \"Destination\": pl.String,\n",
    "        \"Resolved name\": pl.String,\n",
    "        \"Section\": pl.Int32,\n",
    "    }\n",
    ")\n",
    "for idx in fake_sections:\n",
    "    for patt in patterns:\n",
    "        fake_calls = fake_calls.vstack(\n",
    "            make_fake_calls_table(idx, patt).with_columns(pl.lit(idx).alias(\"Section\"))\n",
    "        )\n",
    "fake_calls = fake_calls.sort(\"Section\", to_int_expr(\"Call address\"))\n",
    "fake_calls = fake_calls.with_columns(\n",
    "    (\"0x\" + pl.col(\"Section\").cast(dtype=pl.String) + \"0000\").alias(\"Section_addr\")\n",
    ")\n",
    "fake_calls = fake_calls.with_columns(\n",
    "    pl.when(pl.col(\"Instruction\").str.ends_with(\"far\"))\n",
    "    .then(to_int_expr(\"Destination\"))\n",
    "    .otherwise(to_int_expr(\"Destination\") + to_int_expr(\"Section_addr\"))\n",
    ")\n",
    "fake_calls = fake_calls.sort(to_int_expr(\"Call address\"))\n",
    "fake_calls = int_to_addr(\n",
    "    fake_calls,\n",
    "    \"Destination\",\n",
    ")\n",
    "\n",
    "print(fake_calls.shape)"
   ]
  },
  {
   "cell_type": "code",
   "execution_count": null,
   "id": "df932f7b",
   "metadata": {},
   "outputs": [],
   "source": [
    "fake_calls = fake_calls.filter(to_int_expr(\"Destination\") > 0x67780000).filter(\n",
    "    to_int_expr(\"Destination\") < 0x77E00000\n",
    ")\n",
    "temp_fake = int_to_addr(\n",
    "    fake_calls.with_columns(to_int_expr(\"Call address\") + to_int_expr(\"Section_addr\")),\n",
    "    \"Call address\",\n",
    ")\n",
    "temp_fake = temp_fake.drop(\"Resolved name\", \"Section_addr\")\n",
    "print(temp_fake.shape)\n",
    "# temp_fake.filter(pl.col(\"Section\") == 213).write_csv('temp.csv')"
   ]
  },
  {
   "cell_type": "code",
   "execution_count": null,
   "id": "a1b3a66a",
   "metadata": {},
   "outputs": [],
   "source": [
    "valid_addresses = set(\n",
    "    dump_imports[\"Address\"].to_list() + proxy_imports[\"Address\"].to_list()\n",
    ")\n",
    "\n",
    "fake_calls = fake_calls.filter(pl.col(\"Destination\").is_in(valid_addresses))\n",
    "print(\"Fake calls:\", fake_calls.shape)\n",
    "print(\"Obfuscated IAT entries:\", obfuscated.shape)"
   ]
  },
  {
   "cell_type": "code",
   "execution_count": null,
   "id": "5203b493",
   "metadata": {},
   "outputs": [],
   "source": [
    "temp_fake2 = int_to_addr(\n",
    "    fake_calls.with_columns(to_int_expr(\"Call address\") + to_int_expr(\"Section_addr\")),\n",
    "    \"Call address\",\n",
    ")\n",
    "\n",
    "temp_fake3 = temp_fake.filter(\n",
    "    ~pl.col(\"Destination\").is_in(temp_fake2[\"Destination\"].to_list())\n",
    ")\n",
    "\n",
    "print(temp_fake3.shape)\n",
    "temp_fake3.write_csv(\"temp.csv\")"
   ]
  },
  {
   "cell_type": "markdown",
   "id": "4a9631d3",
   "metadata": {},
   "source": [
    "Basically temp_fake contains only valid calls (checked manually), and they are not pointing to the exported functions and even not at the starting ops of the functions. Scary."
   ]
  },
  {
   "cell_type": "markdown",
   "id": "fa10e6bb",
   "metadata": {},
   "source": [
    "There is no reason to compare obfuscated IAT entries against fake_calls. Some of the entries point at very concise arithmetics"
   ]
  },
  {
   "cell_type": "code",
   "execution_count": null,
   "id": "2c1b7498",
   "metadata": {},
   "outputs": [],
   "source": [
    "fake_calls = temp_fake\n",
    "print(\"Fake calls:\", fake_calls.shape)\n",
    "print(\"Obfuscated IAT entries:\", obfuscated.shape)\n",
    "fake_calls.head(3)"
   ]
  },
  {
   "cell_type": "code",
   "execution_count": null,
   "id": "934453ec",
   "metadata": {},
   "outputs": [],
   "source": [
    "fake_calls_fix = fake_calls.with_columns((\"0x0\" + pl.col(\"Section\").cast(str) + \"0000\").alias(\"Section\"))\n",
    "fake_calls_fix = fake_calls_fix.sort(\"Call address\")\n",
    "\n",
    "double_iat = fake_calls_fix.join(\n",
    "    proxy_imports, left_on=\"Destination\", right_on=\"Address\", how=\"left\"\n",
    ").filter(pl.col(\"Target\").is_not_null())\n",
    "print(double_iat.shape)\n",
    "double_iat.head(3)"
   ]
  },
  {
   "cell_type": "markdown",
   "id": "01e84fa3",
   "metadata": {},
   "source": [
    "# Move fake sections to the end"
   ]
  },
  {
   "cell_type": "code",
   "execution_count": null,
   "id": "5fb81531",
   "metadata": {},
   "outputs": [],
   "source": [
    "shutil.copy(original_dump_path, patched_path)\n",
    "\n",
    "pe_lief = cast(lief.PE.Binary, lief.PE.parse(patched_path))\n",
    "pe_lief.remove_all_imports()"
   ]
  },
  {
   "cell_type": "code",
   "execution_count": null,
   "id": "ab6d26a0",
   "metadata": {},
   "outputs": [],
   "source": [
    "def get_data(sec_i: int) -> bytes:\n",
    "    return open(base_to_exe / f\"neomon{sec_i}.bin\", \"rb\").read()"
   ]
  },
  {
   "cell_type": "code",
   "execution_count": null,
   "id": "60975ec2",
   "metadata": {},
   "outputs": [],
   "source": [
    "fake_sections_map = pl.DataFrame(schema={\"Section\": pl.Int64, \"Baseaddr\": pl.String})\n",
    "\n",
    "for sec_i in fake_sections:\n",
    "    sec = lief.PE.Section(f\".fake{sec_i}\")\n",
    "    data = get_data(sec_i)\n",
    "    sec.content = memoryview(data)\n",
    "\n",
    "    sec.virtual_size = len(data)\n",
    "\n",
    "    CH = lief.PE.Section.CHARACTERISTICS\n",
    "    # sec.characteristics = int(CH.MEM_READ | CH.MEM_WRITE | CH.MEM_EXECUTE | CH.CNT_INITIALIZED_DATA)\n",
    "    sec.characteristics = int(CH.MEM_EXECUTE | CH.CNT_INITIALIZED_DATA)\n",
    "\n",
    "    pe_lief.add_section(sec)\n",
    "\n",
    "    sec = pe_lief.get_section(f\".fake{sec_i}\")\n",
    "    if sec is None:\n",
    "        print(f\"Error: failed to add section {sec_i}\")\n",
    "    else:\n",
    "        fake_sections_map = fake_sections_map.vstack(\n",
    "            pl.DataFrame(\n",
    "                {\n",
    "                    \"Section\": sec_i,\n",
    "                    \"Baseaddr\": hex(pe_lief.imagebase + sec.virtual_address),\n",
    "                }\n",
    "            )\n",
    "        )"
   ]
  },
  {
   "cell_type": "code",
   "execution_count": null,
   "id": "98bcee8b",
   "metadata": {},
   "outputs": [],
   "source": [
    "config = lief.PE.Builder.config_t()\n",
    "config.imports = True\n",
    "\n",
    "bb = lief.PE.Builder(pe_lief, config)\n",
    "bb.build()\n",
    "bb.write(str(patched_path))"
   ]
  },
  {
   "cell_type": "markdown",
   "id": "6cf1067b",
   "metadata": {},
   "source": [
    "# Constructing new IDT"
   ]
  },
  {
   "cell_type": "code",
   "execution_count": null,
   "id": "f4df9fcc",
   "metadata": {},
   "outputs": [],
   "source": [
    "def create_32bit_ordinal_import(ordinal_number: int) -> lief.PE.ImportEntry:\n",
    "    \"\"\"\n",
    "    Create a 32-bit import by ordinal\n",
    "\n",
    "    Args:\n",
    "        ordinal_number: The ordinal number (0-65535)\n",
    "    \"\"\"\n",
    "    # Validate ordinal range\n",
    "    if ordinal_number < 0 or ordinal_number > 0xFFFF:\n",
    "        raise ValueError(\"Ordinal number must be between 0 and 65535\")\n",
    "\n",
    "    # For 32-bit PE:\n",
    "    # - Set bit 31 to 1 (0x80000000)\n",
    "    # - Bits 30-16 must be 0\n",
    "    # - Bits 15-0 contain the ordinal\n",
    "    ORDINAL_MASK_32 = 0x80000000\n",
    "    data_value = ORDINAL_MASK_32 | ordinal_number\n",
    "\n",
    "    # Create the import entry\n",
    "    entry = lief.PE.ImportEntry(data_value, lief.PE.PE_TYPE.PE32)\n",
    "\n",
    "    return entry"
   ]
  },
  {
   "cell_type": "code",
   "execution_count": null,
   "id": "02a08da0",
   "metadata": {},
   "outputs": [],
   "source": [
    "from pydantic import BaseModel\n",
    "\n",
    "\n",
    "class Sect(BaseModel):\n",
    "    name: str\n",
    "    raw_addr: int\n",
    "    raw_size: int\n",
    "    virt_addr: int\n",
    "    virt_size: int\n",
    "    chars: int\n",
    "\n",
    "    @staticmethod\n",
    "    def from_section(section: lief.PE.Section) -> \"Sect\":\n",
    "        return Sect(\n",
    "            name=section.name,\n",
    "            raw_addr=section.offset,\n",
    "            raw_size=section.size,\n",
    "            virt_addr=section.virtual_address,\n",
    "            virt_size=section.virtual_size,\n",
    "            chars=section.characteristics,\n",
    "        )\n",
    "\n",
    "    def to_section(self) -> lief.PE.Section:\n",
    "        sect = lief.PE.Section(self.name)\n",
    "        sect.name = self.name\n",
    "        sect.offset = self.raw_addr\n",
    "        sect.size = self.raw_size\n",
    "        sect.virtual_address = self.virt_addr\n",
    "        sect.virtual_size = self.virt_size\n",
    "        sect.characteristics = self.chars\n",
    "        return sect"
   ]
  },
  {
   "cell_type": "code",
   "execution_count": null,
   "id": "16dc2f24",
   "metadata": {},
   "outputs": [],
   "source": [
    "# adding proper .idata\n",
    "# new_idata = lief.PE.Section(\".idata\")\n",
    "# new_idata.offset = idata_offset\n",
    "# new_idata.size = idata_size\n",
    "# new_idata.virtual_address = idata_virtual_address - pe_lief.imagebase\n",
    "# new_idata.virtual_size = idata_virtual_size\n",
    "# new_idata.characteristics = pe_lief.sections[0].characteristics\n",
    "# pe_lief.add_section(new_idata)\n",
    "\n",
    "# sections = [Sect.from_section(sec) for sec in pe_lief.sections]\n",
    "# sections = [sections[0], Sect.from_section(new_idata)] + sections[1:]\n",
    "\n",
    "# N = len(pe_lief.sections)\n",
    "# for i in range(N):\n",
    "#     pe_lief.sections[i].name = f'{i}'\n",
    "\n",
    "# for i in range(N):\n",
    "#     pe_lief.remove_section(f'{i}')\n",
    "\n",
    "# for sec in sections:\n",
    "#     pe_lief.add_section(sec.to_section())"
   ]
  },
  {
   "cell_type": "code",
   "execution_count": null,
   "id": "5c887aa3",
   "metadata": {},
   "outputs": [],
   "source": [
    "pe_lief = cast(lief.PE.Binary, lief.PE.parse(patched_path))"
   ]
  },
  {
   "cell_type": "code",
   "execution_count": null,
   "id": "8ec7d98e",
   "metadata": {},
   "outputs": [],
   "source": [
    "for s in pe_lief.sections:\n",
    "    print(s.name, hex(s.virtual_address), hex(s.virtual_address + s.virtual_size))"
   ]
  },
  {
   "cell_type": "markdown",
   "id": "92430325",
   "metadata": {},
   "source": [
    "### Adding imports"
   ]
  },
  {
   "cell_type": "markdown",
   "id": "189b9d6f",
   "metadata": {},
   "source": [
    "Creates brand new IDT with new IAT and ILT"
   ]
  },
  {
   "cell_type": "code",
   "execution_count": null,
   "id": "e11d7936",
   "metadata": {},
   "outputs": [],
   "source": [
    "for seg in segments:\n",
    "    dll = seg[\"Module\"][0]\n",
    "    if dll is None or dll == \"\":\n",
    "        continue\n",
    "\n",
    "    mod = pe_lief.add_import(dll)\n",
    "    for calladdr, addr, ordinal, func, mname in seg.rows():\n",
    "        if func.startswith(\"Ordinal#\"):\n",
    "            # ordinal = int(func.removeprefix(\"Ordinal#\"))\n",
    "            entry = create_32bit_ordinal_import(ordinal)\n",
    "        else:\n",
    "            entry = lief.PE.ImportEntry(func)\n",
    "        mod.add_entry(entry)"
   ]
  },
  {
   "cell_type": "markdown",
   "id": "d33094b5",
   "metadata": {},
   "source": [
    "Add imports that were not present in the original IAT"
   ]
  },
  {
   "cell_type": "code",
   "execution_count": null,
   "id": "072f79c7",
   "metadata": {},
   "outputs": [],
   "source": [
    "lenseg = len(segments)\n",
    "for dll in double_iat.unique(\"Module\")['Module']:\n",
    "    mod = pe_lief.add_import(dll)\n",
    "    lenseg += 1\n",
    "    for func in double_iat.filter(pl.col(\"Module\") == dll).unique(\"Function\")[\"Function\"]:\n",
    "        mod.add_entry(func)"
   ]
  },
  {
   "cell_type": "code",
   "execution_count": null,
   "id": "60798d4a",
   "metadata": {},
   "outputs": [],
   "source": [
    "config = lief.PE.Builder.config_t()\n",
    "config.imports = True\n",
    "\n",
    "bb = lief.PE.Builder(pe_lief, config)\n",
    "bb.build()\n",
    "bb.write(str(patched_path))"
   ]
  },
  {
   "cell_type": "markdown",
   "id": "b58b181f",
   "metadata": {},
   "source": [
    "Reset IAT to the old IAT address"
   ]
  },
  {
   "cell_type": "code",
   "execution_count": null,
   "id": "1be5ba63",
   "metadata": {},
   "outputs": [],
   "source": [
    "pe = pefile.PE(patched_path)\n",
    "pe.full_load()"
   ]
  },
  {
   "cell_type": "code",
   "execution_count": null,
   "id": "65856e00",
   "metadata": {},
   "outputs": [],
   "source": [
    "assert len(pe.DIRECTORY_ENTRY_IMPORT) == lenseg, (  # type: ignore\n",
    "    \"Change the MAX_REPEATED_ADDRESSES to >20\"\n",
    ")"
   ]
  },
  {
   "cell_type": "code",
   "execution_count": null,
   "id": "89263bd0",
   "metadata": {},
   "outputs": [],
   "source": [
    "for i, seg in enumerate(segments):\n",
    "    first_thunk = int(seg[\"Calladdr\"][0], 16)\n",
    "\n",
    "    pe.DIRECTORY_ENTRY_IMPORT[i].struct.FirstThunk = (  # type: ignore\n",
    "        first_thunk - pe.OPTIONAL_HEADER.ImageBase  # type: ignore\n",
    "    )"
   ]
  },
  {
   "cell_type": "markdown",
   "id": "fd75566f",
   "metadata": {},
   "source": [
    "### Fixing calls to new IAT entries"
   ]
  },
  {
   "cell_type": "code",
   "execution_count": null,
   "id": "16199105",
   "metadata": {},
   "outputs": [],
   "source": [
    "double_iat = double_iat.with_columns(pl.col(\"Destination\").alias(\"New destination\"))\n",
    "\n",
    "for i in range(double_iat.unique(\"Module\").shape[0]):\n",
    "    mod_entry = pe.DIRECTORY_ENTRY_IMPORT[-i - 1]\n",
    "    dll = mod_entry.dll.decode()\n",
    "    for j in range(len(mod_entry.imports)):\n",
    "        entry = mod_entry.imports[j]\n",
    "        func = entry.name.decode()\n",
    "\n",
    "        double_iat = double_iat.with_columns(\n",
    "            pl.when((pl.col(\"Module\") == dll) & (pl.col(\"Function\") == func))\n",
    "            .then(pl.lit(hex(entry.address)).alias(\"New destination\"))\n",
    "            .otherwise(pl.col(\"New destination\"))\n",
    "        )\n",
    "\n",
    "double_iat.head(3)"
   ]
  },
  {
   "cell_type": "markdown",
   "id": "6b345916",
   "metadata": {},
   "source": [
    "### Fixing IAT to the fake sections"
   ]
  },
  {
   "cell_type": "code",
   "execution_count": null,
   "id": "31bd84b7",
   "metadata": {},
   "outputs": [],
   "source": [
    "new_fake_sections = pl.DataFrame(\n",
    "    [\n",
    "        {\n",
    "            \"Module\": s.Name.decode().replace(\".fake\", \"section_\"),\n",
    "            \"NAddress\": hex(s.VirtualAddress + pe.OPTIONAL_HEADER.ImageBase),  # type: ignore\n",
    "            \"OAddress\": f\"0x0{s.Name.decode().replace('.fake', '')}0000\",\n",
    "        }\n",
    "        for s in pe.sections\n",
    "        if s.Name.decode().startswith(\".fake\")\n",
    "    ]\n",
    ")"
   ]
  },
  {
   "cell_type": "code",
   "execution_count": null,
   "id": "cbced182",
   "metadata": {},
   "outputs": [],
   "source": [
    "obfuscated_iat = obfuscated.join(new_fake_sections, on=\"Module\").drop(\n",
    "    \"Ordinal\", \"Function\"\n",
    ")\n",
    "obfuscated_iat.head(3)"
   ]
  },
  {
   "cell_type": "code",
   "execution_count": null,
   "id": "0a3701fa",
   "metadata": {},
   "outputs": [],
   "source": [
    "iat_patch = pl.DataFrame(schema=patch_schema)\n",
    "for calladdr, addr, module, new_addr, old_addr in obfuscated_iat.rows():\n",
    "    offset = int(new_addr, 16) - int(old_addr, 16)\n",
    "    naddr = int(addr, 16) + offset\n",
    "\n",
    "    add_iat = pl.DataFrame(\n",
    "        {\n",
    "            \"patch_addr\": calladdr,\n",
    "            \"mem_old\": to_bin(int_to_LE(int(addr, 16))),\n",
    "            \"patch\": to_bin(int_to_LE(naddr)),\n",
    "        }\n",
    "    )\n",
    "    iat_patch = iat_patch.vstack(add_iat)\n",
    "\n",
    "print(iat_patch.shape)\n",
    "iat_patch.head(3)"
   ]
  },
  {
   "cell_type": "code",
   "execution_count": null,
   "id": "dde40fb9",
   "metadata": {},
   "outputs": [],
   "source": [
    "iat_patch.write_csv(patch_iat_p)"
   ]
  },
  {
   "cell_type": "markdown",
   "id": "4964efbb",
   "metadata": {},
   "source": [
    "### Saving stuff"
   ]
  },
  {
   "cell_type": "code",
   "execution_count": null,
   "id": "37ac88ff",
   "metadata": {},
   "outputs": [],
   "source": [
    "temp = \"tmp\"\n",
    "pe.write(filename=temp)\n",
    "pe.close()\n",
    "shutil.move(temp, patched_path)"
   ]
  },
  {
   "cell_type": "markdown",
   "id": "a48264a4",
   "metadata": {},
   "source": [
    "# Fix calls"
   ]
  },
  {
   "cell_type": "markdown",
   "id": "99080ea7",
   "metadata": {},
   "source": [
    "Suspect calls are <90 e8 ? ? ? ?> and <e8 ? ? ? ? 90>. The only concerning calls are \"optimized\". The rest point to thunks (restored) or iat (restored)."
   ]
  },
  {
   "cell_type": "code",
   "execution_count": null,
   "id": "a26d8a2b",
   "metadata": {},
   "outputs": [],
   "source": [
    "calls = pl.read_csv(byte_calls_p).filter(\n",
    "    pl.col(\"Instruction\").is_in([\"call\", \"call2\", \"jmp\"])\n",
    ")\n",
    "calls = calls.drop(\"Resolved name\")\n",
    "calls = calls.vstack(fake_calls.drop(\"Section\"))\n",
    "\n",
    "# calls_inst = pl.read_csv(inst_calls_p).clear() # deprecated\n",
    "# calls = calls.vstack(calls_inst).unique(\"Call address\")\n",
    "calls = calls.with_columns(to_int_expr(\"Call address\").alias(\"Int_addr\"))\n",
    "\n",
    "print(calls.shape)\n",
    "calls.head(3)"
   ]
  },
  {
   "cell_type": "code",
   "execution_count": null,
   "id": "b39f7601",
   "metadata": {},
   "outputs": [],
   "source": [
    "# remove dupes (either way they couldn't lead to real api call)\n",
    "addrs = set(calls[\"Int_addr\"].to_list())\n",
    "calls = calls.filter(~(pl.col(\"Int_addr\") - 1).is_in(addrs)).drop(\"Int_addr\")\n",
    "\n",
    "print(calls.shape)"
   ]
  },
  {
   "cell_type": "code",
   "execution_count": null,
   "id": "3608e946",
   "metadata": {},
   "outputs": [],
   "source": [
    "# filter only calls that point to api calls directly (still rel32 though)\n",
    "valid_addresses = set(dump_imports[\"Address\"].to_list())\n",
    "calls = calls.filter(pl.col(\"Destination\").is_in(valid_addresses))"
   ]
  },
  {
   "cell_type": "code",
   "execution_count": null,
   "id": "099cfda7",
   "metadata": {},
   "outputs": [],
   "source": [
    "iats_to_join = iat.select(\n",
    "    pl.col(\"Address\").alias(\"Destination\"), pl.col(\"Calladdr\").alias(\"iat address\")\n",
    ").unique(\"Destination\")\n",
    "calls = calls.join(iats_to_join, on=\"Destination\", how=\"left\")\n",
    "\n",
    "print(calls.shape)\n",
    "calls.head(3)"
   ]
  },
  {
   "cell_type": "code",
   "execution_count": null,
   "id": "282c93df",
   "metadata": {},
   "outputs": [],
   "source": [
    "# all calls have their iat entry\n",
    "uniated = calls.filter(pl.col(\"iat address\").is_null()).shape[0]\n",
    "print(\"Uniated:\", uniated)\n",
    "# assert uniated == 0, uniated\n",
    "# disabled, as this is in progress"
   ]
  },
  {
   "cell_type": "markdown",
   "id": "1db92f73",
   "metadata": {},
   "source": [
    "# Fix fake calls"
   ]
  },
  {
   "cell_type": "code",
   "execution_count": null,
   "id": "1708c292",
   "metadata": {},
   "outputs": [],
   "source": [
    "def addr_expr(df: pl.DataFrame, ss: list[str], dest: pl.Expr) -> pl.DataFrame:\n",
    "    for s in ss:\n",
    "        df = addr_to_int(df, s)\n",
    "    df = df.with_columns(dest)\n",
    "    for s in ss:\n",
    "        df = int_to_addr(df, s)\n",
    "    return df"
   ]
  },
  {
   "cell_type": "code",
   "execution_count": null,
   "id": "d3face48",
   "metadata": {},
   "outputs": [],
   "source": [
    "double_iat_fix = double_iat.join(\n",
    "    fake_sections_map.with_columns(\n",
    "        (\"0x0\" + pl.col(\"Section\").cast(str) + \"0000\").alias(\"Section\")\n",
    "    ),\n",
    "    on=\"Section\",\n",
    ")\n",
    "\n",
    "double_iat_fix = addr_expr(\n",
    "    double_iat_fix,\n",
    "    [\"Baseaddr\", \"Section\", \"Call address\"],\n",
    "    (pl.col(\"Baseaddr\") + pl.col(\"Call address\") - pl.col(\"Section\")).alias(\n",
    "        \"Call address\"\n",
    "    ),\n",
    ")\n",
    "double_iat_fix = double_iat_fix.drop(\n",
    "    \"Section\", \"Target\", \"Function\", \"Module\", \"Baseaddr\"\n",
    ")\n",
    "\n",
    "# far calls are 6-byte wide\n",
    "assert all('far' in fci for fci in double_iat_fix['Instruction'])\n",
    "\n",
    "print(double_iat_fix.shape)\n",
    "double_iat_fix.head(3)"
   ]
  },
  {
   "cell_type": "code",
   "execution_count": null,
   "id": "6a5fac22",
   "metadata": {},
   "outputs": [],
   "source": [
    "fake_calls_fix = fake_calls.join(fake_sections_map, on=\"Section\")\n",
    "fake_calls_fix = fake_calls_fix.with_columns(\n",
    "    (\"0x0\" + pl.col(\"Section\").cast(str) + \"0000\").alias(\"Section\")\n",
    ")\n",
    "# these are treated via double_iat_fix\n",
    "fake_calls_fix = fake_calls_fix.filter(\n",
    "    ~pl.col(\"Call address\").is_in(double_iat[\"Call address\"].to_list())\n",
    ")\n",
    "\n",
    "fake_calls_fix = addr_expr(\n",
    "    fake_calls_fix,\n",
    "    [\"Baseaddr\", \"Section\", \"Call address\"],\n",
    "    (pl.col(\"Baseaddr\") + pl.col(\"Call address\") - pl.col(\"Section\")).alias(\n",
    "        \"New call address\"\n",
    "    ),\n",
    ")\n",
    "fake_calls_fix = int_to_addr(fake_calls_fix, \"New call address\").drop(\n",
    "    \"Baseaddr\", \"Section\"\n",
    ")\n",
    "fake_calls_fix = normalize_address(fake_calls_fix, \"New call address\", sort=False)\n",
    "\n",
    "# near calls are 5-byte wide\n",
    "assert all(\"near\" in fci for fci in fake_calls_fix[\"Instruction\"])\n",
    "\n",
    "fake_calls_fix = fake_calls_fix.with_columns(\n",
    "    pl.when(pl.col(\"Instruction\").is_in({\"call-near\", \"jmp-near\"}))\n",
    "    .then(pl.lit(5).alias(\"shift\"))\n",
    "    .otherwise(pl.lit(6).alias(\"shift\"))\n",
    ")\n",
    "fake_calls_fix = addr_expr(\n",
    "    fake_calls_fix,\n",
    "    [\"Destination\", \"Call address\"],\n",
    "    (pl.col(\"Destination\") - pl.col(\"Call address\") - pl.col(\"shift\")).alias(\"Old rva\"),\n",
    ")\n",
    "fake_calls_fix = int_to_addr(fake_calls_fix, \"Old rva\")\n",
    "fake_calls_fix = normalize_address(fake_calls_fix, \"Old rva\", sort=False)\n",
    "fake_calls_fix = fake_calls_fix.with_columns(\n",
    "    pl.col(\"New call address\").alias(\"Call address\")\n",
    ").drop(\"New call address\", \"shift\")\n",
    "\n",
    "print(fake_calls_fix.shape)\n",
    "fake_calls_fix.head(3)"
   ]
  },
  {
   "cell_type": "markdown",
   "id": "f0eb8311",
   "metadata": {},
   "source": [
    "# Patch PE"
   ]
  },
  {
   "cell_type": "code",
   "execution_count": null,
   "id": "92f8a312",
   "metadata": {},
   "outputs": [],
   "source": [
    "def patch_call_to_imm(\n",
    "    addr: str, inst: str, dest: str, imm_addr: str, nop_first: bool = False\n",
    ") -> dict[str, str]:\n",
    "    \"\"\"Create patch entry for 6-byte-long call or jump. Result is jmp,imm32 or call,imm32\n",
    "\n",
    "    For 5-byte call-near or jmp-near, assuming src command is nop-padded.\n",
    "    nop_first is the flag which controls if it's front-padded or back-padded.\n",
    "    \"\"\"\n",
    "    next_addr = hex(int(addr, 16) + 6)\n",
    "\n",
    "    new_ibin = to_bin(int_to_LE(int(imm_addr, 16)))\n",
    "    old_ibin = to_bin(int_to_LE(int(dest, 16)))\n",
    "    old_rbin = to_bin(rel_call(next_addr, dest))\n",
    "    if inst in (\"call-near\", \"jmp-near\") and not nop_first:\n",
    "        old_rbin = to_bin(rel_call(hex(int(addr, 16) + 5), dest))\n",
    "\n",
    "    match inst:\n",
    "        case \"call-near\":\n",
    "            if nop_first:\n",
    "                mem_old = \"90E8\" + old_rbin\n",
    "            else:\n",
    "                mem_old = \"E8\" + old_rbin + \"90\"\n",
    "            patch = \"FF15\" + new_ibin\n",
    "        case \"jmp-near\":\n",
    "            if nop_first:\n",
    "                mem_old = \"90E9\" + old_rbin\n",
    "            else:\n",
    "                mem_old = \"E9\" + old_rbin + \"90\"\n",
    "            patch = \"FF25\" + new_ibin\n",
    "        case \"call-far\":\n",
    "            mem_old = \"FF15\" + old_ibin\n",
    "            patch = \"FF15\" + new_ibin\n",
    "        case \"jmp-far\":\n",
    "            mem_old = \"FF25\" + old_ibin\n",
    "            patch = \"FF25\" + new_ibin\n",
    "        case \"jne-near\":\n",
    "            mem_old = \"0F84\" + old_rbin\n",
    "            raise RuntimeError(\"Need a thunk to perform conditional near jump to imm32\")\n",
    "        case \"je-near\":\n",
    "            mem_old = \"0F85\" + old_rbin\n",
    "            raise RuntimeError(\"Need a thunk to perform conditional near jump to imm32\")\n",
    "        case _:\n",
    "            raise RuntimeError(f\"Unsupported instruction {inst}\")\n",
    "\n",
    "    return {\n",
    "        \"patch_addr\": addr,\n",
    "        \"mem_old\": mem_old,\n",
    "        \"patch\": patch,\n",
    "    }"
   ]
  },
  {
   "cell_type": "code",
   "execution_count": null,
   "id": "fc73acdc",
   "metadata": {},
   "outputs": [],
   "source": [
    "def patch_rel_call(\n",
    "    addr: str, inst: str, old_rva: str, new_dest: str,\n",
    ") -> dict[str, str]:\n",
    "    \"\"\" Create patch entry for call-near or jmp-near. \"\"\"\n",
    "    assert 'near' in inst\n",
    "    next_addr = hex(int(addr, 16) + 6)\n",
    "    if inst in ('call-near', 'jmp-near'):\n",
    "        next_addr = hex(int(addr, 16) + 5)\n",
    "    \n",
    "    new_rbin = to_bin(rel_call(next_addr, new_dest))\n",
    "    old_rbin = to_bin(int_to_LE(int(old_rva, 16)))\n",
    "\n",
    "    match inst:\n",
    "        case \"call-near\":\n",
    "            mem_old = \"E8\" + old_rbin\n",
    "            patch = \"E8\" + new_rbin\n",
    "        case \"jmp-near\":\n",
    "            mem_old = \"E9\" + old_rbin\n",
    "            patch = \"E9\" + new_rbin\n",
    "        case \"jne-near\":\n",
    "            mem_old = \"0F84\" + old_rbin\n",
    "            patch = \"0F84\" + new_rbin\n",
    "        case \"je-near\":\n",
    "            mem_old = \"0F85\" + old_rbin\n",
    "            patch = \"0F85\" + new_rbin\n",
    "        case _:\n",
    "            raise RuntimeError(f\"Unsupported instruction {inst}\")\n",
    "\n",
    "    return {\n",
    "        \"patch_addr\": addr,\n",
    "        \"mem_old\": mem_old,\n",
    "        \"patch\": patch,\n",
    "    }"
   ]
  },
  {
   "cell_type": "code",
   "execution_count": null,
   "id": "9eb9db54",
   "metadata": {},
   "outputs": [],
   "source": [
    "patch_data = []\n",
    "\n",
    "for call in double_iat_fix.rows():\n",
    "    sub, inst, addr, dest, iat_addr = call\n",
    "    patch_data.append(patch_call_to_imm(addr, inst, dest, iat_addr))\n",
    "\n",
    "print(len(patch_data))"
   ]
  },
  {
   "cell_type": "code",
   "execution_count": null,
   "id": "4202cd6a",
   "metadata": {},
   "outputs": [],
   "source": [
    "for call in fake_calls_fix.rows():\n",
    "    sub, inst, addr, dest, old_rva = call\n",
    "    patch_data.append(patch_rel_call(addr, inst, old_rva, dest))\n",
    "\n",
    "print(fake_calls_fix.shape[0])"
   ]
  },
  {
   "cell_type": "code",
   "execution_count": null,
   "id": "e78fac5b",
   "metadata": {},
   "outputs": [],
   "source": [
    "# Create DataFrame in one operation\n",
    "calls_patch = pl.DataFrame(patch_data, schema=patch_schema).sort(\"patch_addr\")\n",
    "calls_patch.shape"
   ]
  },
  {
   "cell_type": "code",
   "execution_count": null,
   "id": "1cd98337",
   "metadata": {},
   "outputs": [],
   "source": [
    "calls_patch.write_csv(patch_calls_p)"
   ]
  },
  {
   "cell_type": "markdown",
   "id": "525f9c4d",
   "metadata": {},
   "source": [
    "Now run ida_patch.py script in IDA Pro and apply changes"
   ]
  },
  {
   "cell_type": "markdown",
   "id": "d84e3338",
   "metadata": {},
   "source": [
    "# Troubleshooting"
   ]
  },
  {
   "cell_type": "code",
   "execution_count": null,
   "id": "2751557a",
   "metadata": {},
   "outputs": [],
   "source": [
    "print(\"OK!\")"
   ]
  }
 ],
 "metadata": {
  "kernelspec": {
   "display_name": ".venv",
   "language": "python",
   "name": "python3"
  },
  "language_info": {
   "codemirror_mode": {
    "name": "ipython",
    "version": 3
   },
   "file_extension": ".py",
   "mimetype": "text/x-python",
   "name": "python",
   "nbconvert_exporter": "python",
   "pygments_lexer": "ipython3",
   "version": "3.12.10"
  }
 },
 "nbformat": 4,
 "nbformat_minor": 5
}
