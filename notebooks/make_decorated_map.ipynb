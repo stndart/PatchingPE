{
 "cells": [
  {
   "cell_type": "code",
   "execution_count": 1,
   "id": "8a2613e5",
   "metadata": {},
   "outputs": [],
   "source": [
    "import polars as pl\n",
    "from export_names import get_exports"
   ]
  },
  {
   "cell_type": "code",
   "execution_count": 6,
   "id": "d8dbc9f5",
   "metadata": {},
   "outputs": [],
   "source": [
    "output_csv = '../game-dump/names-map.csv'"
   ]
  },
  {
   "cell_type": "code",
   "execution_count": 3,
   "id": "972f025e",
   "metadata": {},
   "outputs": [],
   "source": [
    "broken_dlls = [\n",
    "    r\"C:\\Windows\\System32\\kernel32.dll\",\n",
    "    r\"G:\\Games\\FA\\FA-EMU\\Shipping\\fmod_event_net.dll\",\n",
    "    r\"G:\\Games\\FA\\FA-EMU\\Shipping\\awesomium.dll\",\n",
    "    r\"G:\\Games\\FA\\FA-EMU\\Shipping\\fmodex.dll\",\n",
    "    r\"G:\\Games\\FA\\FA-EMU\\Shipping\\fmod_event.dll\",\n",
    "    r\"G:\\Games\\FA\\FA-EMU\\Shipping\\umbraoptimizer32.dll\",\n",
    "    # r\"G:\\Games\\FA\\FA-EMU\\Shipping\\msvcp90.dll\",\n",
    "    # r\"G:\\Games\\FA\\FA-EMU\\Shipping\\msvcr90.dll\",\n",
    "    r\"C:\\Windows\\WinSxS\\x86_microsoft.vc90.crt_1fc8b3b9a1e18e3b_9.0.30729.9625_none_508ef7e4bcbbe589\\msvcp90.dll\",\n",
    "    r\"C:\\Windows\\WinSxS\\x86_microsoft.vc90.crt_1fc8b3b9a1e18e3b_9.0.30729.9625_none_508ef7e4bcbbe589\\msvcr90.dll\"\n",
    "]"
   ]
  },
  {
   "cell_type": "code",
   "execution_count": 4,
   "id": "869c8bdf",
   "metadata": {},
   "outputs": [
    {
     "data": {
      "text/html": [
       "<div><style>\n",
       ".dataframe > thead > tr,\n",
       ".dataframe > tbody > tr {\n",
       "  text-align: right;\n",
       "  white-space: pre-wrap;\n",
       "}\n",
       "</style>\n",
       "<small>shape: (9_052, 2)</small><table border=\"1\" class=\"dataframe\"><thead><tr><th>decorated</th><th>undecorated</th></tr><tr><td>str</td><td>str</td></tr></thead><tbody><tr><td>&quot;AcquireSRWLockExclusive&quot;</td><td>&quot;AcquireSRWLockExclusive&quot;</td></tr><tr><td>&quot;AcquireSRWLockShared&quot;</td><td>&quot;AcquireSRWLockShared&quot;</td></tr><tr><td>&quot;ActivateActCtx&quot;</td><td>&quot;ActivateActCtx&quot;</td></tr><tr><td>&quot;ActivateActCtxWorker&quot;</td><td>&quot;ActivateActCtxWorker&quot;</td></tr><tr><td>&quot;AddAtomA&quot;</td><td>&quot;AddAtomA&quot;</td></tr><tr><td>&hellip;</td><td>&hellip;</td></tr><tr><td>&quot;wprintf_s&quot;</td><td>&quot;wprintf_s&quot;</td></tr><tr><td>&quot;wscanf&quot;</td><td>&quot;wscanf&quot;</td></tr><tr><td>&quot;wscanf_s&quot;</td><td>&quot;wscanf_s&quot;</td></tr><tr><td>&quot;??_D?$basic_ofstream@DU?$char_…</td><td>&quot;public: void __thiscall std::b…</td></tr><tr><td>&quot;??_D?$basic_ifstream@DU?$char_…</td><td>&quot;public: void __thiscall std::b…</td></tr></tbody></table></div>"
      ],
      "text/plain": [
       "shape: (9_052, 2)\n",
       "┌─────────────────────────────────┬─────────────────────────────────┐\n",
       "│ decorated                       ┆ undecorated                     │\n",
       "│ ---                             ┆ ---                             │\n",
       "│ str                             ┆ str                             │\n",
       "╞═════════════════════════════════╪═════════════════════════════════╡\n",
       "│ AcquireSRWLockExclusive         ┆ AcquireSRWLockExclusive         │\n",
       "│ AcquireSRWLockShared            ┆ AcquireSRWLockShared            │\n",
       "│ ActivateActCtx                  ┆ ActivateActCtx                  │\n",
       "│ ActivateActCtxWorker            ┆ ActivateActCtxWorker            │\n",
       "│ AddAtomA                        ┆ AddAtomA                        │\n",
       "│ …                               ┆ …                               │\n",
       "│ wprintf_s                       ┆ wprintf_s                       │\n",
       "│ wscanf                          ┆ wscanf                          │\n",
       "│ wscanf_s                        ┆ wscanf_s                        │\n",
       "│ ??_D?$basic_ofstream@DU?$char_… ┆ public: void __thiscall std::b… │\n",
       "│ ??_D?$basic_ifstream@DU?$char_… ┆ public: void __thiscall std::b… │\n",
       "└─────────────────────────────────┴─────────────────────────────────┘"
      ]
     },
     "execution_count": 4,
     "metadata": {},
     "output_type": "execute_result"
    }
   ],
   "source": [
    "schema = {\n",
    "    'decorated': pl.String,\n",
    "    'undecorated': pl.String,\n",
    "}\n",
    "\n",
    "df = pl.DataFrame(schema=schema)\n",
    "\n",
    "for dll in broken_dlls:\n",
    "    _, m = get_exports(dll)\n",
    "    for u, d in m.items():\n",
    "        df = df.vstack(pl.DataFrame({\n",
    "            'decorated': d[0],\n",
    "            'undecorated': u,\n",
    "        }, schema=schema))\n",
    "\n",
    "df = df.vstack(pl.DataFrame({\n",
    "    'decorated': [\n",
    "        \"??_D?$basic_ofstream@DU?$char_traits@D@std@@@std@@QAEXXZ\",\n",
    "        \"??_D?$basic_ifstream@DU?$char_traits@D@std@@@std@@QAEXXZ\"\n",
    "    ],\n",
    "    'undecorated': [\n",
    "        \"public: void __thiscall std::basic_ofstream<char, struct std::char_traits<char>>::`vbase dtor'(void)\",\n",
    "        \"public: void __thiscall std::basic_ifstream<char, struct std::char_traits<char>>::`vbase dtor'(void)\"\n",
    "    ], \n",
    "}))\n",
    "\n",
    "df"
   ]
  },
  {
   "cell_type": "code",
   "execution_count": 7,
   "id": "877a148d",
   "metadata": {},
   "outputs": [],
   "source": [
    "df.write_csv(output_csv)"
   ]
  },
  {
   "cell_type": "markdown",
   "id": "8280eef6",
   "metadata": {},
   "source": [
    "# Troubleshooting"
   ]
  },
  {
   "cell_type": "code",
   "execution_count": null,
   "id": "20d25239",
   "metadata": {},
   "outputs": [],
   "source": [
    "import lief"
   ]
  },
  {
   "cell_type": "code",
   "execution_count": null,
   "id": "c4ce42c5",
   "metadata": {},
   "outputs": [],
   "source": [
    "path = r\"G:\\Games\\FA\\FA-EMU\\Shipping\\msvcp90.dll\"\n",
    "path = r\"C:\\Windows\\WinSxS\\x86_microsoft.vc90.crt_1fc8b3b9a1e18e3b_9.0.30729.9625_none_508ef7e4bcbbe589\\msvcp90.dll\""
   ]
  },
  {
   "cell_type": "code",
   "execution_count": null,
   "id": "52d9e6a3",
   "metadata": {},
   "outputs": [],
   "source": [
    "dll = lief.parse(path)"
   ]
  },
  {
   "cell_type": "code",
   "execution_count": null,
   "id": "4776749c",
   "metadata": {},
   "outputs": [
    {
     "name": "stdout",
     "output_type": "stream",
     "text": [
      "??_D?$basic_iostream@DU?$char_traits@D@std@@@std@@QAEXXZ False\n",
      "??_D?$basic_ostream@DU?$char_traits@D@std@@@std@@QAEXXZ True\n",
      "?_Osfx@?$basic_ostream@DU?$char_traits@D@std@@@std@@QAEXXZ False\n",
      "?osfx@?$basic_ostream@DU?$char_traits@D@std@@@std@@QAEXXZ False\n"
     ]
    }
   ],
   "source": [
    "for func in dll.exported_functions:\n",
    "    if 'ostream@DU?$char_traits@D@std@@@std@@QAEXXZ' in func.name:\n",
    "        print(func.name, func.name == \"??_D?$basic_ostream@DU?$char_traits@D@std@@@std@@QAEXXZ\")"
   ]
  },
  {
   "cell_type": "code",
   "execution_count": null,
   "id": "c7ca5dee",
   "metadata": {},
   "outputs": [],
   "source": [
    "# Адрес=57148D56\n",
    "# Тип=Экспорт\n",
    "# Порядковый номер=1030\n",
    "# Символ=??_D?$basic_ofstream@DU?$char_traits@D@std@@@std@@QAEXXZ\n",
    "# Символ (undecorated)=public: void __thiscall std::basic_ofstream<char, struct std::char_traits<char>>::`vbase dtor'(void)\n"
   ]
  },
  {
   "cell_type": "code",
   "execution_count": null,
   "id": "ab6aab76",
   "metadata": {},
   "outputs": [],
   "source": [
    "# Адрес=57148CF3\n",
    "# Тип=Экспорт\n",
    "# Порядковый номер=1018\n",
    "# Символ=??_D?$basic_ifstream@DU?$char_traits@D@std@@@std@@QAEXXZ\n",
    "# Символ (undecorated)=public: void __thiscall std::basic_ifstream<char, struct std::char_traits<char>>::`vbase dtor'(void)\n"
   ]
  }
 ],
 "metadata": {
  "kernelspec": {
   "display_name": ".venv",
   "language": "python",
   "name": "python3"
  },
  "language_info": {
   "codemirror_mode": {
    "name": "ipython",
    "version": 3
   },
   "file_extension": ".py",
   "mimetype": "text/x-python",
   "name": "python",
   "nbconvert_exporter": "python",
   "pygments_lexer": "ipython3",
   "version": "3.12.10"
  }
 },
 "nbformat": 4,
 "nbformat_minor": 5
}
