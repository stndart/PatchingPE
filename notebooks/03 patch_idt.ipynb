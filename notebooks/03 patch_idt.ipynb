{
 "cells": [
  {
   "cell_type": "code",
   "execution_count": 1,
   "id": "f1e17ed0",
   "metadata": {},
   "outputs": [],
   "source": [
    "import lief\n",
    "import pefile\n",
    "from typing import cast\n",
    "import shutil\n",
    "import lief\n",
    "import polars as pl"
   ]
  },
  {
   "cell_type": "code",
   "execution_count": 2,
   "id": "2a2159d5",
   "metadata": {},
   "outputs": [
    {
     "data": {
      "text/plain": [
       "'G:\\\\Games\\\\FA\\\\FA-EMU\\\\Shipping\\\\GAME_dump_mod.exe'"
      ]
     },
     "execution_count": 2,
     "metadata": {},
     "output_type": "execute_result"
    }
   ],
   "source": [
    "path = r\"G:\\Games\\FA\\FA-EMU\\Shipping\\GAME_dump.exe\"\n",
    "original_path = r\"G:\\Games\\FA\\FA-EMU\\Shipping\\GAME.exe\"\n",
    "out_path = r\"G:\\Games\\FA\\FA-EMU\\Shipping\\GAME_dump_mod.exe\"\n",
    "\n",
    "shutil.copy(path, out_path)"
   ]
  },
  {
   "cell_type": "code",
   "execution_count": 3,
   "id": "4bfa9a04",
   "metadata": {},
   "outputs": [],
   "source": [
    "pe = lief.PE.parse(out_path)\n",
    "pe.remove_all_imports()"
   ]
  },
  {
   "cell_type": "code",
   "execution_count": 4,
   "id": "cdf9ce73",
   "metadata": {},
   "outputs": [],
   "source": [
    "base = '../game-dump/'\n",
    "fn_new_idt = base + \"new_idt.csv\"\n",
    "idt = pl.read_csv(fn_new_idt)"
   ]
  },
  {
   "cell_type": "code",
   "execution_count": 5,
   "id": "70757f22",
   "metadata": {},
   "outputs": [],
   "source": [
    "def create_32bit_ordinal_import(ordinal_number: int) -> lief.PE.ImportEntry:\n",
    "    \"\"\"\n",
    "    Create a 32-bit import by ordinal\n",
    "    \n",
    "    Args:\n",
    "        ordinal_number: The ordinal number (0-65535)\n",
    "    \"\"\"\n",
    "    # Validate ordinal range\n",
    "    if ordinal_number < 0 or ordinal_number > 0xFFFF:\n",
    "        raise ValueError(\"Ordinal number must be between 0 and 65535\")\n",
    "    \n",
    "    # For 32-bit PE:\n",
    "    # - Set bit 31 to 1 (0x80000000)\n",
    "    # - Bits 30-16 must be 0\n",
    "    # - Bits 15-0 contain the ordinal\n",
    "    ORDINAL_MASK_32 = 0x80000000\n",
    "    data_value = ORDINAL_MASK_32 | ordinal_number\n",
    "    \n",
    "    # Create the import entry\n",
    "    entry = lief.PE.ImportEntry(data_value, lief.PE.PE_TYPE.PE32)\n",
    "    \n",
    "    return entry"
   ]
  },
  {
   "cell_type": "code",
   "execution_count": 6,
   "id": "f73e3df4",
   "metadata": {},
   "outputs": [
    {
     "name": "stdout",
     "output_type": "stream",
     "text": [
      "\n",
      "  Name: msvcp90.dll {\n",
      "    Name(RVA): 0x000000\n",
      "    IAT(RVA):  0x000000\n",
      "    ILT(RVA):  0x000000\n",
      "    FWD Chain: 0x000000\n",
      "    Timestamp: 0x000000\n",
      "  }\n",
      "  \n",
      "\n",
      "made by ordinal 2 0x0000: 2\n",
      "made by ordinal 1 0x0000: 1\n"
     ]
    }
   ],
   "source": [
    "last_mod_name = None\n",
    "last_mod = None\n",
    "\n",
    "for addr, dll, func in idt.rows():\n",
    "    if dll == last_mod_name:\n",
    "        mod = last_mod\n",
    "    else:\n",
    "        mod = pe.add_import(dll)\n",
    "        if dll == 'msvcp90.dll':\n",
    "            print(mod)\n",
    "\n",
    "    if func.startswith(\"Ordinal#\"):\n",
    "        ordinal = int(func.removeprefix('Ordinal#'))\n",
    "        print('made by ordinal', ordinal, mod.add_entry(create_32bit_ordinal_import(ordinal)))\n",
    "    else:\n",
    "        mod.add_entry(func)\n",
    "\n",
    "    last_mod = mod\n",
    "    last_mod_name = mod.name"
   ]
  },
  {
   "cell_type": "code",
   "execution_count": 7,
   "id": "618497bd",
   "metadata": {},
   "outputs": [
    {
     "name": "stderr",
     "output_type": "stream",
     "text": [
      "Can't find section with the rva: 0x0\n"
     ]
    }
   ],
   "source": [
    "config = lief.PE.Builder.config_t()\n",
    "config.imports = True\n",
    "\n",
    "bb = lief.PE.Builder(pe, config)\n",
    "bb.build()\n",
    "bb.write(out_path)"
   ]
  },
  {
   "cell_type": "markdown",
   "id": "e2ddb5a6",
   "metadata": {},
   "source": [
    "## Troubleshooting"
   ]
  },
  {
   "cell_type": "code",
   "execution_count": 8,
   "id": "50d03480",
   "metadata": {},
   "outputs": [],
   "source": [
    "pef = pefile.PE(out_path)\n",
    "pef.parse_data_directories()"
   ]
  },
  {
   "cell_type": "code",
   "execution_count": 9,
   "id": "239d974b",
   "metadata": {},
   "outputs": [
    {
     "name": "stdout",
     "output_type": "stream",
     "text": [
      "887 887\n"
     ]
    }
   ],
   "source": [
    "i = 0\n",
    "imports: dict[str, list[str]] = {}\n",
    "\n",
    "for entry in pef.DIRECTORY_ENTRY_IMPORT:\n",
    "    mod = entry.dll.decode()\n",
    "    for impo in entry.imports:\n",
    "        if impo.name:\n",
    "            name = impo.name.decode()\n",
    "        else:\n",
    "            name = f\"Ordinal#{impo.ordinal}\"\n",
    "        \n",
    "        if mod not in imports:\n",
    "            imports[mod] = []\n",
    "        imports[mod].append(name)\n",
    "        i += 1\n",
    "print(i, idt.shape[0])"
   ]
  },
  {
   "cell_type": "code",
   "execution_count": 10,
   "id": "f5b43ede",
   "metadata": {},
   "outputs": [
    {
     "name": "stdout",
     "output_type": "stream",
     "text": [
      "Not found 0\n"
     ]
    }
   ],
   "source": [
    "not_found = 0\n",
    "for addr, dll, func in idt.rows():\n",
    "    if dll not in imports:\n",
    "        print(f\"[!] Module {dll} not found in PE!\")\n",
    "        not_found += 1\n",
    "        continue\n",
    "    \n",
    "    if func not in imports[dll]:\n",
    "        print(f\"[!] Func {func} from {dll} not found in PE!\")\n",
    "        not_found += 1\n",
    "        continue\n",
    "\n",
    "print(\"Not found\", not_found)"
   ]
  },
  {
   "cell_type": "code",
   "execution_count": 11,
   "id": "0e0efdb1",
   "metadata": {},
   "outputs": [],
   "source": [
    "idt_unique = idt.with_columns((pl.col(\"Module\").shift(1) != pl.col(\"Module\")).alias(\"next\")).fill_null(True)\n",
    "idt_unique = idt_unique.filter(pl.col(\"next\")).drop(\"next\")\n",
    "\n",
    "i = 0\n",
    "for addr, dll, func in idt_unique.rows():\n",
    "    while pef.DIRECTORY_ENTRY_IMPORT[i].dll.decode() != dll:\n",
    "        i += 1\n",
    "        if i >= len(pef.DIRECTORY_ENTRY_IMPORT):\n",
    "            break\n",
    "    assert i < len(pef.DIRECTORY_ENTRY_IMPORT)\n",
    "    \n",
    "    pef.DIRECTORY_ENTRY_IMPORT[i].struct.FirstThunk = int(addr, 16) - pef.OPTIONAL_HEADER.ImageBase\n"
   ]
  },
  {
   "cell_type": "code",
   "execution_count": 12,
   "id": "0312c904",
   "metadata": {},
   "outputs": [],
   "source": [
    "temp = 'exe.exe'\n",
    "pef.write(filename=temp)"
   ]
  },
  {
   "cell_type": "code",
   "execution_count": 13,
   "id": "5e5baeba",
   "metadata": {},
   "outputs": [
    {
     "data": {
      "text/plain": [
       "'G:\\\\Games\\\\FA\\\\FA-EMU\\\\Shipping\\\\GAME_dump_mod.exe'"
      ]
     },
     "execution_count": 13,
     "metadata": {},
     "output_type": "execute_result"
    }
   ],
   "source": [
    "pef.close()\n",
    "\n",
    "import shutil\n",
    "\n",
    "shutil.move(temp, out_path)"
   ]
  },
  {
   "cell_type": "code",
   "execution_count": 14,
   "id": "1a5f4853",
   "metadata": {},
   "outputs": [
    {
     "data": {
      "text/plain": [
       "<polars.config.Config at 0x1eb1bd98950>"
      ]
     },
     "execution_count": 14,
     "metadata": {},
     "output_type": "execute_result"
    }
   ],
   "source": [
    "pl.Config(tbl_rows=40)"
   ]
  },
  {
   "cell_type": "code",
   "execution_count": 15,
   "id": "d087361b",
   "metadata": {},
   "outputs": [
    {
     "data": {
      "text/html": [
       "<div><style>\n",
       ".dataframe > thead > tr,\n",
       ".dataframe > tbody > tr {\n",
       "  text-align: right;\n",
       "  white-space: pre-wrap;\n",
       "}\n",
       "</style>\n",
       "<small>shape: (57, 3)</small><table border=\"1\" class=\"dataframe\"><thead><tr><th>Address</th><th>Module</th><th>Function</th></tr><tr><td>str</td><td>str</td><td>str</td></tr></thead><tbody><tr><td>&quot;1188000&quot;</td><td>&quot;advapi32.dll&quot;</td><td>&quot;CryptGetHashParam&quot;</td></tr><tr><td>&quot;1188058&quot;</td><td>&quot;comdlg32.dll&quot;</td><td>&quot;ChooseColorA&quot;</td></tr><tr><td>&quot;1188060&quot;</td><td>&quot;dinput8.dll&quot;</td><td>&quot;DirectInput8Create&quot;</td></tr><tr><td>&quot;1188068&quot;</td><td>&quot;dsound.dll&quot;</td><td>&quot;DirectSoundCreate8&quot;</td></tr><tr><td>&quot;1188070&quot;</td><td>&quot;gdi32.dll&quot;</td><td>&quot;GetTextMetricsW&quot;</td></tr><tr><td>&quot;11880c4&quot;</td><td>&quot;imm32.dll&quot;</td><td>&quot;ImmGetVirtualKey&quot;</td></tr><tr><td>&quot;1188114&quot;</td><td>&quot;kernel32.dll&quot;</td><td>&quot;Sleep&quot;</td></tr><tr><td>&quot;11881f8&quot;</td><td>&quot;ntdll.dll&quot;</td><td>&quot;RtlInitializeCriticalSection&quot;</td></tr><tr><td>&quot;11881fc&quot;</td><td>&quot;kernel32.dll&quot;</td><td>&quot;lstrlenA&quot;</td></tr><tr><td>&quot;1188200&quot;</td><td>&quot;ntdll.dll&quot;</td><td>&quot;RtlAllocateHeap&quot;</td></tr><tr><td>&quot;1188204&quot;</td><td>&quot;kernel32.dll&quot;</td><td>&quot;GetProcessHeap&quot;</td></tr><tr><td>&quot;118820c&quot;</td><td>&quot;ntdll.dll&quot;</td><td>&quot;RtlReAllocateHeap&quot;</td></tr><tr><td>&quot;1188210&quot;</td><td>&quot;kernel32.dll&quot;</td><td>&quot;GetSystemTime&quot;</td></tr><tr><td>&quot;1188288&quot;</td><td>&quot;ntdll.dll&quot;</td><td>&quot;RtlAddVectoredExceptionHandler&quot;</td></tr><tr><td>&quot;118828c&quot;</td><td>&quot;kernel32.dll&quot;</td><td>&quot;CreateSemaphoreW&quot;</td></tr><tr><td>&quot;1188290&quot;</td><td>&quot;ntdll.dll&quot;</td><td>&quot;RtlSizeHeap&quot;</td></tr><tr><td>&quot;1188294&quot;</td><td>&quot;kernel32.dll&quot;</td><td>&quot;VirtualAlloc&quot;</td></tr><tr><td>&quot;1188324&quot;</td><td>&quot;ntdll.dll&quot;</td><td>&quot;RtlTryEnterCriticalSection&quot;</td></tr><tr><td>&quot;1188328&quot;</td><td>&quot;kernel32.dll&quot;</td><td>&quot;InitializeCriticalSectionAndSp…</td></tr><tr><td>&quot;1188344&quot;</td><td>&quot;ntdll.dll&quot;</td><td>&quot;RtlLeaveCriticalSection&quot;</td></tr><tr><td>&hellip;</td><td>&hellip;</td><td>&hellip;</td></tr><tr><td>&quot;11889dc&quot;</td><td>&quot;ntdll.dll&quot;</td><td>&quot;NtdllDefWindowProc_A&quot;</td></tr><tr><td>&quot;11889e0&quot;</td><td>&quot;user32.dll&quot;</td><td>&quot;SetCapture&quot;</td></tr><tr><td>&quot;1188ad8&quot;</td><td>&quot;version.dll&quot;</td><td>&quot;VerQueryValueA&quot;</td></tr><tr><td>&quot;1188ae8&quot;</td><td>&quot;wininet.dll&quot;</td><td>&quot;HttpOpenRequestA&quot;</td></tr><tr><td>&quot;1188b1c&quot;</td><td>&quot;winmm.dll&quot;</td><td>&quot;timeBeginPeriod&quot;</td></tr><tr><td>&quot;1188b38&quot;</td><td>&quot;wldap32.dll&quot;</td><td>&quot;ldap_next_attribute&quot;</td></tr><tr><td>&quot;1188b7c&quot;</td><td>&quot;ws2_32.dll&quot;</td><td>&quot;htons&quot;</td></tr><tr><td>&quot;1188c28&quot;</td><td>&quot;awesomium.dll&quot;</td><td>&quot;??1WebPreferences@Awesomium@@Q…</td></tr><tr><td>&quot;1188c64&quot;</td><td>&quot;d3d9.dll&quot;</td><td>&quot;D3DPERF_EndEvent&quot;</td></tr><tr><td>&quot;1188c74&quot;</td><td>&quot;d3dx10_42.dll&quot;</td><td>&quot;D3DX10CompileFromMemory&quot;</td></tr><tr><td>&quot;1188c84&quot;</td><td>&quot;d3dx9_42.dll&quot;</td><td>&quot;D3DXGetShaderVersion&quot;</td></tr><tr><td>&quot;1188d0c&quot;</td><td>&quot;dbgcore.dll&quot;</td><td>&quot;MiniDumpWriteDump&quot;</td></tr><tr><td>&quot;1188d14&quot;</td><td>&quot;fmod_event.dll&quot;</td><td>&quot;?getSystemObject@EventSystem@F…</td></tr><tr><td>&quot;1188d98&quot;</td><td>&quot;fmod_event_net.dll&quot;</td><td>&quot;?NetEventSystem_Update@FMOD@@Y…</td></tr><tr><td>&quot;1188da8&quot;</td><td>&quot;fmodex.dll&quot;</td><td>&quot;?addDSP@ChannelGroup@FMOD@@QAG…</td></tr><tr><td>&quot;1188e1c&quot;</td><td>&quot;nexon_api.dll&quot;</td><td>&quot;nxapi_init&quot;</td></tr><tr><td>&quot;1188e2c&quot;</td><td>&quot;combase.dll&quot;</td><td>&quot;CoTaskMemFree&quot;</td></tr><tr><td>&quot;1188e40&quot;</td><td>&quot;ole32.dll&quot;</td><td>&quot;CoInitialize&quot;</td></tr><tr><td>&quot;1188e48&quot;</td><td>&quot;steam_api.dll&quot;</td><td>&quot;SteamAPI_Init&quot;</td></tr><tr><td>&quot;1188e60&quot;</td><td>&quot;umbraoptimizer32.dll&quot;</td><td>&quot;?insertModel@Scene@Umbra@@QAEP…</td></tr></tbody></table></div>"
      ],
      "text/plain": [
       "shape: (57, 3)\n",
       "┌─────────┬──────────────────────┬─────────────────────────────────┐\n",
       "│ Address ┆ Module               ┆ Function                        │\n",
       "│ ---     ┆ ---                  ┆ ---                             │\n",
       "│ str     ┆ str                  ┆ str                             │\n",
       "╞═════════╪══════════════════════╪═════════════════════════════════╡\n",
       "│ 1188000 ┆ advapi32.dll         ┆ CryptGetHashParam               │\n",
       "│ 1188058 ┆ comdlg32.dll         ┆ ChooseColorA                    │\n",
       "│ 1188060 ┆ dinput8.dll          ┆ DirectInput8Create              │\n",
       "│ 1188068 ┆ dsound.dll           ┆ DirectSoundCreate8              │\n",
       "│ 1188070 ┆ gdi32.dll            ┆ GetTextMetricsW                 │\n",
       "│ 11880c4 ┆ imm32.dll            ┆ ImmGetVirtualKey                │\n",
       "│ 1188114 ┆ kernel32.dll         ┆ Sleep                           │\n",
       "│ 11881f8 ┆ ntdll.dll            ┆ RtlInitializeCriticalSection    │\n",
       "│ 11881fc ┆ kernel32.dll         ┆ lstrlenA                        │\n",
       "│ 1188200 ┆ ntdll.dll            ┆ RtlAllocateHeap                 │\n",
       "│ 1188204 ┆ kernel32.dll         ┆ GetProcessHeap                  │\n",
       "│ 118820c ┆ ntdll.dll            ┆ RtlReAllocateHeap               │\n",
       "│ 1188210 ┆ kernel32.dll         ┆ GetSystemTime                   │\n",
       "│ 1188288 ┆ ntdll.dll            ┆ RtlAddVectoredExceptionHandler  │\n",
       "│ 118828c ┆ kernel32.dll         ┆ CreateSemaphoreW                │\n",
       "│ 1188290 ┆ ntdll.dll            ┆ RtlSizeHeap                     │\n",
       "│ 1188294 ┆ kernel32.dll         ┆ VirtualAlloc                    │\n",
       "│ 1188324 ┆ ntdll.dll            ┆ RtlTryEnterCriticalSection      │\n",
       "│ 1188328 ┆ kernel32.dll         ┆ InitializeCriticalSectionAndSp… │\n",
       "│ 1188344 ┆ ntdll.dll            ┆ RtlLeaveCriticalSection         │\n",
       "│ …       ┆ …                    ┆ …                               │\n",
       "│ 11889dc ┆ ntdll.dll            ┆ NtdllDefWindowProc_A            │\n",
       "│ 11889e0 ┆ user32.dll           ┆ SetCapture                      │\n",
       "│ 1188ad8 ┆ version.dll          ┆ VerQueryValueA                  │\n",
       "│ 1188ae8 ┆ wininet.dll          ┆ HttpOpenRequestA                │\n",
       "│ 1188b1c ┆ winmm.dll            ┆ timeBeginPeriod                 │\n",
       "│ 1188b38 ┆ wldap32.dll          ┆ ldap_next_attribute             │\n",
       "│ 1188b7c ┆ ws2_32.dll           ┆ htons                           │\n",
       "│ 1188c28 ┆ awesomium.dll        ┆ ??1WebPreferences@Awesomium@@Q… │\n",
       "│ 1188c64 ┆ d3d9.dll             ┆ D3DPERF_EndEvent                │\n",
       "│ 1188c74 ┆ d3dx10_42.dll        ┆ D3DX10CompileFromMemory         │\n",
       "│ 1188c84 ┆ d3dx9_42.dll         ┆ D3DXGetShaderVersion            │\n",
       "│ 1188d0c ┆ dbgcore.dll          ┆ MiniDumpWriteDump               │\n",
       "│ 1188d14 ┆ fmod_event.dll       ┆ ?getSystemObject@EventSystem@F… │\n",
       "│ 1188d98 ┆ fmod_event_net.dll   ┆ ?NetEventSystem_Update@FMOD@@Y… │\n",
       "│ 1188da8 ┆ fmodex.dll           ┆ ?addDSP@ChannelGroup@FMOD@@QAG… │\n",
       "│ 1188e1c ┆ nexon_api.dll        ┆ nxapi_init                      │\n",
       "│ 1188e2c ┆ combase.dll          ┆ CoTaskMemFree                   │\n",
       "│ 1188e40 ┆ ole32.dll            ┆ CoInitialize                    │\n",
       "│ 1188e48 ┆ steam_api.dll        ┆ SteamAPI_Init                   │\n",
       "│ 1188e60 ┆ umbraoptimizer32.dll ┆ ?insertModel@Scene@Umbra@@QAEP… │\n",
       "└─────────┴──────────────────────┴─────────────────────────────────┘"
      ]
     },
     "execution_count": 15,
     "metadata": {},
     "output_type": "execute_result"
    }
   ],
   "source": [
    "idt_unique.with_columns((pl.col(\"Address\").str.slice(2).str.to_integer(base=16) - pef.OPTIONAL_HEADER.ImageBase).map_elements(lambda x: hex(x)[2:], return_dtype=pl.Utf8))"
   ]
  },
  {
   "cell_type": "code",
   "execution_count": null,
   "id": "ca7d628c",
   "metadata": {},
   "outputs": [],
   "source": []
  }
 ],
 "metadata": {
  "kernelspec": {
   "display_name": ".venv",
   "language": "python",
   "name": "python3"
  },
  "language_info": {
   "codemirror_mode": {
    "name": "ipython",
    "version": 3
   },
   "file_extension": ".py",
   "mimetype": "text/x-python",
   "name": "python",
   "nbconvert_exporter": "python",
   "pygments_lexer": "ipython3",
   "version": "3.12.10"
  }
 },
 "nbformat": 4,
 "nbformat_minor": 5
}
