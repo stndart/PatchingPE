{
 "cells": [
  {
   "cell_type": "code",
   "execution_count": null,
   "id": "f1e17ed0",
   "metadata": {},
   "outputs": [],
   "source": [
    "import lief\n",
    "import pefile\n",
    "import shutil\n",
    "import polars as pl"
   ]
  },
  {
   "cell_type": "code",
   "execution_count": null,
   "id": "2a2159d5",
   "metadata": {},
   "outputs": [],
   "source": [
    "path = r\"G:\\Games\\FA\\FA-EMU\\Shipping\\GAME_dump.exe\"\n",
    "original_path = r\"G:\\Games\\FA\\FA-EMU\\Shipping\\GAME.exe\"\n",
    "out_path = r\"G:\\Games\\FA\\FA-EMU\\Shipping\\GAME_dump_mod.exe\"\n",
    "\n",
    "shutil.copy(path, out_path)"
   ]
  },
  {
   "cell_type": "code",
   "execution_count": null,
   "id": "4bfa9a04",
   "metadata": {},
   "outputs": [],
   "source": [
    "pe = lief.PE.parse(out_path)\n",
    "assert pe is not None\n",
    "pe.remove_all_imports()"
   ]
  },
  {
   "cell_type": "code",
   "execution_count": null,
   "id": "cdf9ce73",
   "metadata": {},
   "outputs": [],
   "source": [
    "base = \"../game-dump/\"\n",
    "fn_new_idt = base + \"new_idt.csv\"\n",
    "idt = pl.read_csv(fn_new_idt)"
   ]
  },
  {
   "cell_type": "code",
   "execution_count": null,
   "id": "70757f22",
   "metadata": {},
   "outputs": [],
   "source": [
    "def create_32bit_ordinal_import(ordinal_number: int) -> lief.PE.ImportEntry:\n",
    "    \"\"\"\n",
    "    Create a 32-bit import by ordinal\n",
    "\n",
    "    Args:\n",
    "        ordinal_number: The ordinal number (0-65535)\n",
    "    \"\"\"\n",
    "    # Validate ordinal range\n",
    "    if ordinal_number < 0 or ordinal_number > 0xFFFF:\n",
    "        raise ValueError(\"Ordinal number must be between 0 and 65535\")\n",
    "\n",
    "    # For 32-bit PE:\n",
    "    # - Set bit 31 to 1 (0x80000000)\n",
    "    # - Bits 30-16 must be 0\n",
    "    # - Bits 15-0 contain the ordinal\n",
    "    ORDINAL_MASK_32 = 0x80000000\n",
    "    data_value = ORDINAL_MASK_32 | ordinal_number\n",
    "\n",
    "    # Create the import entry\n",
    "    entry = lief.PE.ImportEntry(data_value, lief.PE.PE_TYPE.PE32)\n",
    "\n",
    "    return entry"
   ]
  },
  {
   "cell_type": "code",
   "execution_count": null,
   "id": "f73e3df4",
   "metadata": {},
   "outputs": [],
   "source": [
    "last_mod_name = None\n",
    "last_mod = None\n",
    "\n",
    "for addr, dll, func in idt.rows():\n",
    "    if dll == last_mod_name:\n",
    "        mod = last_mod\n",
    "    else:\n",
    "        mod = pe.add_import(dll)\n",
    "        if dll == \"msvcp90.dll\":\n",
    "            print(mod)\n",
    "\n",
    "    if func.startswith(\"Ordinal#\"):\n",
    "        ordinal = int(func.removeprefix(\"Ordinal#\"))\n",
    "        print(\n",
    "            \"made by ordinal\",\n",
    "            ordinal,\n",
    "            mod.add_entry(create_32bit_ordinal_import(ordinal)),\n",
    "        )\n",
    "    else:\n",
    "        mod.add_entry(func)\n",
    "\n",
    "    last_mod = mod\n",
    "    last_mod_name = mod.name"
   ]
  },
  {
   "cell_type": "code",
   "execution_count": null,
   "id": "618497bd",
   "metadata": {},
   "outputs": [],
   "source": [
    "config = lief.PE.Builder.config_t()\n",
    "config.imports = True\n",
    "\n",
    "bb = lief.PE.Builder(pe, config)\n",
    "bb.build()\n",
    "bb.write(out_path)"
   ]
  },
  {
   "cell_type": "markdown",
   "id": "e2ddb5a6",
   "metadata": {},
   "source": [
    "## Troubleshooting"
   ]
  },
  {
   "cell_type": "code",
   "execution_count": null,
   "id": "50d03480",
   "metadata": {},
   "outputs": [],
   "source": [
    "pef = pefile.PE(out_path)\n",
    "pef.parse_data_directories()"
   ]
  },
  {
   "cell_type": "code",
   "execution_count": null,
   "id": "239d974b",
   "metadata": {},
   "outputs": [],
   "source": [
    "i = 0\n",
    "imports: dict[str, list[str]] = {}\n",
    "\n",
    "for entry in pef.DIRECTORY_ENTRY_IMPORT:\n",
    "    mod = entry.dll.decode()\n",
    "    for impo in entry.imports:\n",
    "        if impo.name:\n",
    "            name = impo.name.decode()\n",
    "        else:\n",
    "            name = f\"Ordinal#{impo.ordinal}\"\n",
    "\n",
    "        if mod not in imports:\n",
    "            imports[mod] = []\n",
    "        imports[mod].append(name)\n",
    "        i += 1\n",
    "print(i, idt.shape[0])"
   ]
  },
  {
   "cell_type": "code",
   "execution_count": null,
   "id": "f5b43ede",
   "metadata": {},
   "outputs": [],
   "source": [
    "not_found = 0\n",
    "for addr, dll, func in idt.rows():\n",
    "    if dll not in imports:\n",
    "        print(f\"[!] Module {dll} not found in PE!\")\n",
    "        not_found += 1\n",
    "        continue\n",
    "\n",
    "    if func not in imports[dll]:\n",
    "        print(f\"[!] Func {func} from {dll} not found in PE!\")\n",
    "        not_found += 1\n",
    "        continue\n",
    "\n",
    "print(\"Not found\", not_found)"
   ]
  },
  {
   "cell_type": "code",
   "execution_count": null,
   "id": "0e0efdb1",
   "metadata": {},
   "outputs": [],
   "source": [
    "idt_unique = idt.with_columns(\n",
    "    (pl.col(\"Module\").shift(1) != pl.col(\"Module\")).alias(\"next\")\n",
    ").fill_null(True)\n",
    "idt_unique = idt_unique.filter(pl.col(\"next\")).drop(\"next\")\n",
    "\n",
    "i = 0\n",
    "for addr, dll, func in idt_unique.rows():\n",
    "    while pef.DIRECTORY_ENTRY_IMPORT[i].dll.decode() != dll:\n",
    "        i += 1\n",
    "        if i >= len(pef.DIRECTORY_ENTRY_IMPORT):\n",
    "            break\n",
    "    assert i < len(pef.DIRECTORY_ENTRY_IMPORT)\n",
    "\n",
    "    pef.DIRECTORY_ENTRY_IMPORT[i].struct.FirstThunk = (\n",
    "        int(addr, 16) - pef.OPTIONAL_HEADER.ImageBase\n",
    "    )\n"
   ]
  },
  {
   "cell_type": "code",
   "execution_count": null,
   "id": "0312c904",
   "metadata": {},
   "outputs": [],
   "source": [
    "temp = \"exe.exe\"\n",
    "pef.write(filename=temp)"
   ]
  },
  {
   "cell_type": "code",
   "execution_count": null,
   "id": "5e5baeba",
   "metadata": {},
   "outputs": [],
   "source": [
    "pef.close()\n",
    "shutil.move(temp, out_path)"
   ]
  },
  {
   "cell_type": "code",
   "execution_count": null,
   "id": "1a5f4853",
   "metadata": {},
   "outputs": [],
   "source": [
    "pl.Config(tbl_rows=40)"
   ]
  },
  {
   "cell_type": "code",
   "execution_count": null,
   "id": "d087361b",
   "metadata": {},
   "outputs": [],
   "source": [
    "idt_unique.with_columns(\n",
    "    (\n",
    "        pl.col(\"Address\").str.slice(2).str.to_integer(base=16)\n",
    "        - pef.OPTIONAL_HEADER.ImageBase\n",
    "    ).map_elements(lambda x: hex(x)[2:], return_dtype=pl.Utf8)\n",
    ")"
   ]
  },
  {
   "cell_type": "code",
   "execution_count": null,
   "id": "ca7d628c",
   "metadata": {},
   "outputs": [],
   "source": []
  }
 ],
 "metadata": {
  "kernelspec": {
   "display_name": ".venv",
   "language": "python",
   "name": "python3"
  },
  "language_info": {
   "codemirror_mode": {
    "name": "ipython",
    "version": 3
   },
   "file_extension": ".py",
   "mimetype": "text/x-python",
   "name": "python",
   "nbconvert_exporter": "python",
   "pygments_lexer": "ipython3",
   "version": "3.12.10"
  }
 },
 "nbformat": 4,
 "nbformat_minor": 5
}
