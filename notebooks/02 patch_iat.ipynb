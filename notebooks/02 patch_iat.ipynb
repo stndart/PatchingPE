{
 "cells": [
  {
   "cell_type": "code",
   "execution_count": 29,
   "id": "f1e17ed0",
   "metadata": {},
   "outputs": [],
   "source": [
    "import lief\n",
    "import pefile\n",
    "from typing import cast\n",
    "import shutil\n",
    "import lief\n",
    "import polars as pl"
   ]
  },
  {
   "cell_type": "code",
   "execution_count": 30,
   "id": "2a2159d5",
   "metadata": {},
   "outputs": [
    {
     "data": {
      "text/plain": [
       "'G:\\\\Games\\\\FA\\\\FA-EMU\\\\Shipping\\\\GAME_dump_mod.exe'"
      ]
     },
     "execution_count": 30,
     "metadata": {},
     "output_type": "execute_result"
    }
   ],
   "source": [
    "path = r\"G:\\Games\\FA\\FA-EMU\\Shipping\\GAME_dump.exe\"\n",
    "original_path = r\"G:\\Games\\FA\\FA-EMU\\Shipping\\GAME.exe\"\n",
    "out_path = r\"G:\\Games\\FA\\FA-EMU\\Shipping\\GAME_dump_mod.exe\"\n",
    "\n",
    "shutil.copy(path, out_path)"
   ]
  },
  {
   "cell_type": "code",
   "execution_count": 31,
   "id": "4bfa9a04",
   "metadata": {},
   "outputs": [],
   "source": [
    "# pe = pefile.PE(out_path, fast_load=True)\n",
    "# pe.full_load()\n",
    "\n",
    "pe = lief.PE.parse(out_path)"
   ]
  },
  {
   "cell_type": "code",
   "execution_count": 32,
   "id": "8f4022e0",
   "metadata": {},
   "outputs": [],
   "source": [
    "def remove(file: pefile.PE, index: int):\n",
    "    \"\"\"Removes a section of the section table.\n",
    "       Deletes the section header in the section table, the data of the section\n",
    "       in the file, removes the section in the sections list of pefile and adjusts\n",
    "       the sizes in the optional header.\n",
    "    \"\"\"\n",
    "\n",
    "    # Checking if the section list is long enough to actually remove index.\n",
    "    if (file.FILE_HEADER.NumberOfSections > index\n",
    "        and file.FILE_HEADER.NumberOfSections == len(file.sections)):\n",
    "\n",
    "        # Stripping the data of the section from the file.\n",
    "        if file.sections[index].SizeOfRawData != 0:\n",
    "            file.__data__ = \\\n",
    "                (file.__data__[:file.sections[index].PointerToRawData] +\n",
    "                 file.__data__[file.sections[index].PointerToRawData +\n",
    "                 file.sections[index].SizeOfRawData:])\n",
    "\n",
    "        # Overwriting the section header in the binary with nulls.\n",
    "        # Getting the address of the section table and manually overwriting\n",
    "        # the header with nulls unfortunally didn't work out.\n",
    "        file.sections[index].Name = '\\x00'*8\n",
    "        file.sections[index].Misc_VirtualSize = 0x00000000\n",
    "        file.sections[index].VirtualAddress = 0x00000000\n",
    "        file.sections[index].SizeOfRawData = 0x00000000\n",
    "        file.sections[index].PointerToRawData = 0x00000000\n",
    "        file.sections[index].PointerToRelocations = 0x00000000\n",
    "        file.sections[index].PointerToLinenumbers = 0x00000000\n",
    "        file.sections[index].NumberOfRelocations = 0x0000\n",
    "        file.sections[index].NumberOfLinenumbers = 0x0000\n",
    "        file.sections[index].Characteristics = 0x00000000\n",
    "\n",
    "        del file.sections[index]"
   ]
  },
  {
   "cell_type": "code",
   "execution_count": 33,
   "id": "60adc200",
   "metadata": {},
   "outputs": [],
   "source": [
    "bad_section_name = [\n",
    "    # 'wlovhtaq',  # DON'T DELETE THAT! TLS Directory here\n",
    "    # 'oemvvlbu',\n",
    "]\n",
    "\n",
    "if isinstance(pe, pefile.PE):\n",
    "    for name in bad_section_name:\n",
    "        sect_i = 0\n",
    "        for i, sect in enumerate(pe.sections):\n",
    "            if sect.Name.decode() == name:\n",
    "                sect_i = i\n",
    "                break\n",
    "        else:\n",
    "            print(f\"Failed to locate {name} section\")\n",
    "            continue\n",
    "\n",
    "        remove(pe, sect_i)\n",
    "        print(f\"Removed {name}:{sect_i} section\")\n",
    "        \n",
    "if isinstance(pe, lief.PE.Binary):\n",
    "    for name in bad_section_name:\n",
    "        pe.remove_section(name, clear=True)\n",
    "        print(f\"Removed {name} section\")"
   ]
  },
  {
   "cell_type": "code",
   "execution_count": 34,
   "id": "391513db",
   "metadata": {},
   "outputs": [],
   "source": [
    "pe.remove_all_imports()"
   ]
  },
  {
   "cell_type": "code",
   "execution_count": 35,
   "id": "cdf9ce73",
   "metadata": {},
   "outputs": [],
   "source": [
    "base = '../game-dump/'\n",
    "fn_thunks = base + \"thunks.csv\"\n",
    "thunks = pl.read_csv(fn_thunks)"
   ]
  },
  {
   "cell_type": "code",
   "execution_count": 36,
   "id": "70757f22",
   "metadata": {},
   "outputs": [],
   "source": [
    "def create_32bit_ordinal_import(ordinal_number: int) -> lief.PE.ImportEntry:\n",
    "    \"\"\"\n",
    "    Create a 32-bit import by ordinal\n",
    "    \n",
    "    Args:\n",
    "        ordinal_number: The ordinal number (0-65535)\n",
    "    \"\"\"\n",
    "    # Validate ordinal range\n",
    "    if ordinal_number < 0 or ordinal_number > 0xFFFF:\n",
    "        raise ValueError(\"Ordinal number must be between 0 and 65535\")\n",
    "    \n",
    "    # For 32-bit PE:\n",
    "    # - Set bit 31 to 1 (0x80000000)\n",
    "    # - Bits 30-16 must be 0\n",
    "    # - Bits 15-0 contain the ordinal\n",
    "    ORDINAL_MASK_32 = 0x80000000\n",
    "    data_value = ORDINAL_MASK_32 | ordinal_number\n",
    "    \n",
    "    # Create the import entry\n",
    "    entry = lief.PE.ImportEntry(data_value, lief.PE.PE_TYPE.PE32)\n",
    "    \n",
    "    return entry"
   ]
  },
  {
   "cell_type": "code",
   "execution_count": 37,
   "id": "9967661b",
   "metadata": {},
   "outputs": [
    {
     "name": "stdout",
     "output_type": "stream",
     "text": [
      "made by ordinal 1 0x0000: 1\n",
      "made by ordinal 2 0x0000: 2\n"
     ]
    }
   ],
   "source": [
    "dlls = thunks['Module'].unique()\n",
    "for dll in dlls:\n",
    "    mod = pe.add_import(dll)\n",
    "    imports = thunks.filter(pl.col(\"Module\") == dll)[\"Function\"]\n",
    "    imports_addr = thunks.filter(pl.col(\"Module\") == dll)[\"Call address\"]\n",
    "    for entry, addr in zip(imports, imports_addr):\n",
    "        if entry.startswith(\"Ordinal#\"):\n",
    "            ordinal = int(entry.removeprefix('Ordinal#'))\n",
    "            print('made by ordinal', ordinal, mod.add_entry(create_32bit_ordinal_import(ordinal)))\n",
    "        else:\n",
    "            mod.add_entry(entry)"
   ]
  },
  {
   "cell_type": "code",
   "execution_count": 38,
   "id": "618497bd",
   "metadata": {},
   "outputs": [
    {
     "name": "stderr",
     "output_type": "stream",
     "text": [
      "Can't find section with the rva: 0x0\n"
     ]
    }
   ],
   "source": [
    "config = lief.PE.Builder.config_t()\n",
    "config.imports = True\n",
    "\n",
    "bb = lief.PE.Builder(pe, config)\n",
    "bb.build()\n",
    "bb.write(out_path)"
   ]
  },
  {
   "cell_type": "markdown",
   "id": "e2ddb5a6",
   "metadata": {},
   "source": [
    "## Troubleshooting"
   ]
  },
  {
   "cell_type": "code",
   "execution_count": 39,
   "id": "ca4f24c4",
   "metadata": {},
   "outputs": [
    {
     "name": "stdout",
     "output_type": "stream",
     "text": [
      "Subsystem: SUBSYSTEM.WINDOWS_GUI\n",
      "Characteristics: 0x123\n",
      "DLL Characteristics: 0x8000\n"
     ]
    }
   ],
   "source": [
    "print(f\"Subsystem: {pe.optional_header.subsystem}\")\n",
    "print(f\"Characteristics: {hex(pe.header.characteristics)}\")\n",
    "print(f\"DLL Characteristics: {hex(pe.optional_header.dll_characteristics)}\")"
   ]
  },
  {
   "cell_type": "code",
   "execution_count": 40,
   "id": "2c19ed37",
   "metadata": {},
   "outputs": [
    {
     "name": "stdout",
     "output_type": "stream",
     "text": [
      "Entry Point: 0x10ab273\n",
      "Image Base: 0x400000\n"
     ]
    }
   ],
   "source": [
    "print(f\"Entry Point: 0x{pe.optional_header.addressof_entrypoint:x}\")\n",
    "print(f\"Image Base: 0x{pe.optional_header.imagebase:x}\")"
   ]
  },
  {
   "cell_type": "code",
   "execution_count": 41,
   "id": "770ab702",
   "metadata": {},
   "outputs": [
    {
     "name": "stdout",
     "output_type": "stream",
     "text": [
      "TLS Callbacks: []\n"
     ]
    }
   ],
   "source": [
    "if pe.has_tls:\n",
    "    tls = pe.tls\n",
    "    print(f\"TLS Callbacks: {[hex(cb) for cb in tls.callbacks]}\")"
   ]
  },
  {
   "cell_type": "code",
   "execution_count": 42,
   "id": "ad5b428a",
   "metadata": {},
   "outputs": [
    {
     "name": "stdout",
     "output_type": "stream",
     "text": [
      "Subsystem: SUBSYSTEM.WINDOWS_GUI\n",
      "Characteristics: 0x123\n",
      "DLL Characteristics: 0x8000\n",
      "TLS Callbacks: []\n"
     ]
    },
    {
     "name": "stderr",
     "output_type": "stream",
     "text": [
      "TLS's template corrupted\n"
     ]
    }
   ],
   "source": [
    "original_pe = lief.PE.parse(original_path)\n",
    "\n",
    "print(f\"Subsystem: {original_pe.optional_header.subsystem}\")\n",
    "print(f\"Characteristics: {hex(original_pe.header.characteristics)}\")\n",
    "print(f\"DLL Characteristics: {hex(original_pe.optional_header.dll_characteristics)}\")\n",
    "\n",
    "if original_pe.has_tls:\n",
    "    tls = original_pe.tls\n",
    "    print(f\"TLS Callbacks: {[hex(cb) for cb in tls.callbacks]}\")"
   ]
  },
  {
   "cell_type": "code",
   "execution_count": null,
   "id": "64faea7e",
   "metadata": {},
   "outputs": [],
   "source": []
  }
 ],
 "metadata": {
  "kernelspec": {
   "display_name": ".venv",
   "language": "python",
   "name": "python3"
  },
  "language_info": {
   "codemirror_mode": {
    "name": "ipython",
    "version": 3
   },
   "file_extension": ".py",
   "mimetype": "text/x-python",
   "name": "python",
   "nbconvert_exporter": "python",
   "pygments_lexer": "ipython3",
   "version": "3.12.10"
  }
 },
 "nbformat": 4,
 "nbformat_minor": 5
}
