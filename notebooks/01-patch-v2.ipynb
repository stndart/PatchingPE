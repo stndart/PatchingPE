{
 "cells": [
  {
   "cell_type": "code",
   "execution_count": null,
   "id": "481f0a04",
   "metadata": {},
   "outputs": [],
   "source": [
    "import os\n",
    "from pathlib import Path\n",
    "\n",
    "import pefile\n",
    "import polars as pl\n",
    "from dotenv import load_dotenv\n"
   ]
  },
  {
   "cell_type": "markdown",
   "id": "a8821527",
   "metadata": {},
   "source": [
    "# Paths"
   ]
  },
  {
   "cell_type": "code",
   "execution_count": null,
   "id": "25958747",
   "metadata": {},
   "outputs": [],
   "source": [
    "# imports csv\n",
    "base = Path(\"../game-dump/dumps\")\n",
    "dump_imports_p = base / \"dump-imports.csv\"\n",
    "old_iat_p = base / \"old-iat.csv\"\n",
    "byte_calls_p = base / \"broken-byte-calls.csv\"\n",
    "inst_calls_p = base / \"broken-analyzed-calls.csv\""
   ]
  },
  {
   "cell_type": "code",
   "execution_count": null,
   "id": "593391f4",
   "metadata": {},
   "outputs": [],
   "source": [
    "names_map_p = \"../game-dump/names-map.csv\"\n",
    "names_map = pl.read_csv(names_map_p)"
   ]
  },
  {
   "cell_type": "code",
   "execution_count": null,
   "id": "ba0b2cba",
   "metadata": {},
   "outputs": [],
   "source": [
    "load_dotenv(Path(os.path.abspath('')).parent / \".env\")\n",
    "base_to_exe = Path(os.getenv(\"BASE_TO_EXE\", \"./\"))\n",
    "original_dump_path = base_to_exe / \"GAME_dump.exe\"\n",
    "patched_path = base_to_exe / \"GAME_patched.exe\""
   ]
  },
  {
   "cell_type": "markdown",
   "id": "528a06d9",
   "metadata": {},
   "source": [
    "# Parsing import table"
   ]
  },
  {
   "cell_type": "code",
   "execution_count": null,
   "id": "1b0322cf",
   "metadata": {},
   "outputs": [],
   "source": [
    "dump_imports = pl.read_csv(dump_imports_p).filter(pl.col(\"Module\") != \"game.exe\")"
   ]
  },
  {
   "cell_type": "code",
   "execution_count": null,
   "id": "a9ff7f4c",
   "metadata": {},
   "outputs": [],
   "source": [
    "dump_imports = dump_imports.with_columns(pl.col(\"Function\").str.replace_all(\" \", \"\"))\n",
    "names_map = names_map.with_columns(\n",
    "    pl.col(\"undecorated\").str.replace_all(\" \", \"\").alias(\"Function\")\n",
    ")\n",
    "\n",
    "dump_imports = dump_imports.join(names_map.drop(\"undecorated\"), on=\"Function\", how=\"left\").with_columns(\n",
    "    pl.coalesce(\"decorated\", \"Function\").alias(\"Function\")\n",
    ").drop(\"decorated\")"
   ]
  },
  {
   "cell_type": "code",
   "execution_count": null,
   "id": "8832c31b",
   "metadata": {},
   "outputs": [],
   "source": [
    "dump_imports = dump_imports.with_columns((\"0x\" + pl.col(\"Address\").str.to_lowercase()).alias(\"Address\"))\n",
    "dump_imports = dump_imports.unique(\"Address\", keep='first')"
   ]
  },
  {
   "cell_type": "code",
   "execution_count": null,
   "id": "52198b64",
   "metadata": {},
   "outputs": [],
   "source": [
    "dump_imports.head()"
   ]
  },
  {
   "cell_type": "markdown",
   "id": "61babda1",
   "metadata": {},
   "source": [
    "# Gathering imports from old IAT"
   ]
  },
  {
   "cell_type": "code",
   "execution_count": null,
   "id": "16db17a1",
   "metadata": {},
   "outputs": [],
   "source": [
    "iat = pl.read_csv(old_iat_p)\n",
    "\n",
    "iat = iat.rename({\"Address\": \"Calladdr\", \"Destination\": \"Address\"})\n",
    "iat = iat.with_columns((\"0x\" + pl.col(\"Address\").str.to_lowercase()).alias(\"Address\"))\n",
    "\n",
    "# iat = iat.with_columns((pl.col(\"Address\").shift(+1).str.slice(2).str.to_integer(base=16) == 0).alias(\"first\").fill_null(True))\n",
    "# iat = iat.with_columns((pl.col(\"Address\").shift(-1).str.slice(2).str.to_integer(base=16) == 0).alias(\"last\").fill_null(True))\n",
    "\n",
    "iat = iat.join(dump_imports, on='Address', how='left')"
   ]
  },
  {
   "cell_type": "code",
   "execution_count": null,
   "id": "46bb8731",
   "metadata": {},
   "outputs": [],
   "source": [
    "iat2 = iat.filter(pl.col(\"Function\").is_null())\n",
    "iat2 = iat2.filter(pl.col(\"Address\").str.slice(2).str.to_integer(base=16) != 0)\n",
    "iat2"
   ]
  },
  {
   "cell_type": "markdown",
   "id": "30eaa06f",
   "metadata": {},
   "source": [
    "<0x023e3673> points to an intermediate call which i believe, is an obfuscated jump to user32.dll!wsprintfA"
   ]
  },
  {
   "cell_type": "markdown",
   "id": "02395501",
   "metadata": {},
   "source": [
    "Cancel forwarding imports (e.g. kernel32.dll,AllocateHeap -> ntdll.dll,RtlReAllocateHeap)"
   ]
  },
  {
   "cell_type": "code",
   "execution_count": null,
   "id": "8b7e9e02",
   "metadata": {},
   "outputs": [],
   "source": [
    "systemroot = \"C:/Windows/System32/\"\n",
    "forwarding_modules = [\"kernel32.dll\", \"user32.dll\"]\n",
    "\n",
    "unforward_map: dict[str, tuple[str, str]] = dict()\n",
    "\n",
    "forwarded = iat.filter(pl.col(\"Module\") == \"ntdll.dll\")\n",
    "\n",
    "for modname in forwarding_modules:\n",
    "    modpath = systemroot + modname\n",
    "    number = 0\n",
    "\n",
    "    dll = pefile.PE(modpath)\n",
    "    dll.full_load()\n",
    "    for exp in dll.DIRECTORY_ENTRY_EXPORT.symbols:\n",
    "        name = exp.name.decode() if exp.name else f\"Ordinal#{exp.ordinal}\"\n",
    "        forward_to = ''\n",
    "        if exp.forwarder:\n",
    "            forward_to = exp.forwarder.decode().removeprefix(\"NTDLL.\")\n",
    "        if forwarded.filter(pl.col(\"Function\") == forward_to).shape[0] > 0:\n",
    "            number += 1\n",
    "            unforward_map[forward_to] = (modname, name)\n",
    "    \n",
    "    print(f'For {modname} there are {number} forwards')"
   ]
  },
  {
   "cell_type": "code",
   "execution_count": null,
   "id": "c55f549d",
   "metadata": {},
   "outputs": [],
   "source": [
    "for func in iat.filter(pl.col(\"Module\") == \"ntdll.dll\")[\"Function\"]:\n",
    "    if func not in unforward_map:\n",
    "        print(f\"Func {func} from ntdll.dll is not found in forward map\")\n",
    "        continue\n",
    "\n",
    "    origmod, origfunc = unforward_map[func]\n",
    "    condition = (pl.col(\"Module\") == \"ntdll.dll\") & (pl.col(\"Function\") == func)\n",
    "    iat = iat.with_columns(\n",
    "        pl.when(condition).then(pl.lit(origmod)).otherwise(\"Module\").alias(\"Module\")\n",
    "    ).with_columns(pl.when(condition).then(pl.lit(origfunc)).otherwise(\"Function\").alias(\"Function\"))"
   ]
  },
  {
   "cell_type": "code",
   "execution_count": null,
   "id": "a1be213f",
   "metadata": {},
   "outputs": [],
   "source": [
    "iat.write_csv(old_iat_p + '2.csv')"
   ]
  },
  {
   "cell_type": "code",
   "execution_count": null,
   "id": "bf1b513d",
   "metadata": {},
   "outputs": [],
   "source": [
    "def valid(df: pl.DataFrame) -> bool:\n",
    "    if df.shape[0] == 0:\n",
    "        return False\n",
    "    return df['Module'][0] != ''"
   ]
  },
  {
   "cell_type": "code",
   "execution_count": null,
   "id": "370dc843",
   "metadata": {},
   "outputs": [],
   "source": [
    "iat_seg = iat.fill_null('').with_columns(\n",
    "    (pl.col(\"Module\") != pl.col(\"Module\").shift(1)).cum_sum().alias(\"segment_id\")\n",
    ").fill_null(0)\n",
    "segments = [\n",
    "    group.drop(\"segment_id\") for _, group in iat_seg.group_by(\"segment_id\", maintain_order=True) if valid(group)\n",
    "]\n"
   ]
  },
  {
   "cell_type": "markdown",
   "id": "6cf1067b",
   "metadata": {},
   "source": [
    "# Constructing new IDT"
   ]
  },
  {
   "cell_type": "code",
   "execution_count": null,
   "id": "8c82b3eb",
   "metadata": {},
   "outputs": [],
   "source": [
    "pass"
   ]
  },
  {
   "cell_type": "markdown",
   "id": "e5c29dc3",
   "metadata": {},
   "source": [
    "# Fix thunks"
   ]
  },
  {
   "cell_type": "code",
   "execution_count": null,
   "id": "c3017ff0",
   "metadata": {},
   "outputs": [],
   "source": []
  },
  {
   "cell_type": "markdown",
   "id": "a48264a4",
   "metadata": {},
   "source": [
    "# Fix calls"
   ]
  },
  {
   "cell_type": "code",
   "execution_count": null,
   "id": "99080ea7",
   "metadata": {},
   "outputs": [],
   "source": []
  },
  {
   "cell_type": "markdown",
   "id": "f0eb8311",
   "metadata": {},
   "source": [
    "# Patch PE"
   ]
  },
  {
   "cell_type": "code",
   "execution_count": null,
   "id": "1cd98337",
   "metadata": {},
   "outputs": [],
   "source": []
  }
 ],
 "metadata": {
  "kernelspec": {
   "display_name": ".venv",
   "language": "python",
   "name": "python3"
  },
  "language_info": {
   "codemirror_mode": {
    "name": "ipython",
    "version": 3
   },
   "file_extension": ".py",
   "mimetype": "text/x-python",
   "name": "python",
   "nbconvert_exporter": "python",
   "pygments_lexer": "ipython3",
   "version": "3.12.10"
  }
 },
 "nbformat": 4,
 "nbformat_minor": 5
}
