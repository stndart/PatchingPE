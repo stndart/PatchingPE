{
 "cells": [
  {
   "cell_type": "code",
   "execution_count": 1,
   "id": "481f0a04",
   "metadata": {},
   "outputs": [],
   "source": [
    "import os\n",
    "import shutil\n",
    "from pathlib import Path\n",
    "\n",
    "import lief\n",
    "from tqdm import tqdm\n",
    "import pefile\n",
    "import polars as pl\n",
    "from dotenv import load_dotenv"
   ]
  },
  {
   "cell_type": "markdown",
   "id": "a8821527",
   "metadata": {},
   "source": [
    "# Paths"
   ]
  },
  {
   "cell_type": "code",
   "execution_count": 2,
   "id": "25958747",
   "metadata": {},
   "outputs": [],
   "source": [
    "# imports csv\n",
    "base = Path(\"../game-dump/dumps\")\n",
    "base_patch = Path(\"../game-dump/patches\")\n",
    "\n",
    "dump_imports_p = base / \"dump-imports.csv\"\n",
    "old_iat_p = base / \"old-iat.csv\"\n",
    "byte_calls_p = base / \"broken-byte-calls.csv\"\n",
    "inst_calls_p = base / \"broken-analyzed-calls.csv\""
   ]
  },
  {
   "cell_type": "code",
   "execution_count": 3,
   "id": "13955441",
   "metadata": {},
   "outputs": [],
   "source": [
    "# exports csv\n",
    "patch_thunks_p = base_patch / \"thunks_patch.csv\"\n",
    "patch_calls_p = base_patch / \"calls_patch.csv\""
   ]
  },
  {
   "cell_type": "code",
   "execution_count": 4,
   "id": "593391f4",
   "metadata": {},
   "outputs": [],
   "source": [
    "names_map_p = \"../game-dump/names-map.csv\"\n",
    "names_map = pl.read_csv(names_map_p)"
   ]
  },
  {
   "cell_type": "code",
   "execution_count": 5,
   "id": "ba0b2cba",
   "metadata": {},
   "outputs": [],
   "source": [
    "load_dotenv(Path(os.path.abspath('')).parent / \".env\")\n",
    "base_to_exe = Path(os.getenv(\"BASE_TO_EXE\", \"./\"))\n",
    "original_dump_path = base_to_exe / \"GAME_dump.exe\"\n",
    "patched_path = base_to_exe / \"GAME_patched.exe\""
   ]
  },
  {
   "cell_type": "markdown",
   "id": "528a06d9",
   "metadata": {},
   "source": [
    "# Parsing import table"
   ]
  },
  {
   "cell_type": "code",
   "execution_count": 6,
   "id": "1b0322cf",
   "metadata": {},
   "outputs": [],
   "source": [
    "dump_imports = pl.read_csv(dump_imports_p).filter(pl.col(\"Module\") != \"game.exe\")"
   ]
  },
  {
   "cell_type": "code",
   "execution_count": 7,
   "id": "a9ff7f4c",
   "metadata": {},
   "outputs": [],
   "source": [
    "dump_imports = dump_imports.with_columns(pl.col(\"Function\").str.replace_all(\" \", \"\").str.slice(0,200))\n",
    "names_map = names_map.with_columns(\n",
    "    pl.col(\"undecorated\").str.replace_all(\" \", \"\").str.slice(0,200)\n",
    ")\n",
    "\n",
    "dump_imports = dump_imports.join(names_map, left_on=\"Function\", right_on=\"undecorated\", how=\"left\").with_columns(\n",
    "    pl.coalesce(\"decorated\", \"Function\").alias(\"Function\")\n",
    ").drop(\"decorated\")"
   ]
  },
  {
   "cell_type": "code",
   "execution_count": 8,
   "id": "8832c31b",
   "metadata": {},
   "outputs": [],
   "source": [
    "dump_imports = dump_imports.with_columns((\"0x\" + pl.col(\"Address\").str.to_lowercase()).alias(\"Address\"))\n",
    "dump_imports = dump_imports.unique(\"Address\", keep='first').sort(\"Address\")"
   ]
  },
  {
   "cell_type": "code",
   "execution_count": 9,
   "id": "764ca097",
   "metadata": {},
   "outputs": [
    {
     "data": {
      "text/html": [
       "<div><style>\n",
       ".dataframe > thead > tr,\n",
       ".dataframe > tbody > tr {\n",
       "  text-align: right;\n",
       "  white-space: pre-wrap;\n",
       "}\n",
       "</style>\n",
       "<small>shape: (5, 3)</small><table border=\"1\" class=\"dataframe\"><thead><tr><th>Module</th><th>Address</th><th>Function</th></tr><tr><td>str</td><td>str</td><td>str</td></tr></thead><tbody><tr><td>&quot;xinput9_1_0.dll&quot;</td><td>&quot;0x06d42730&quot;</td><td>&quot;DllMain&quot;</td></tr><tr><td>&quot;xinput9_1_0.dll&quot;</td><td>&quot;0x06d42980&quot;</td><td>&quot;XInputGetState&quot;</td></tr><tr><td>&quot;xinput9_1_0.dll&quot;</td><td>&quot;0x06d42b60&quot;</td><td>&quot;XInputSetState&quot;</td></tr><tr><td>&quot;xinput9_1_0.dll&quot;</td><td>&quot;0x06d42cd0&quot;</td><td>&quot;XInputGetCapabilities&quot;</td></tr><tr><td>&quot;xinput9_1_0.dll&quot;</td><td>&quot;0x06d42ea0&quot;</td><td>&quot;XInputGetDSoundAudioDeviceGuid…</td></tr></tbody></table></div>"
      ],
      "text/plain": [
       "shape: (5, 3)\n",
       "┌─────────────────┬────────────┬─────────────────────────────────┐\n",
       "│ Module          ┆ Address    ┆ Function                        │\n",
       "│ ---             ┆ ---        ┆ ---                             │\n",
       "│ str             ┆ str        ┆ str                             │\n",
       "╞═════════════════╪════════════╪═════════════════════════════════╡\n",
       "│ xinput9_1_0.dll ┆ 0x06d42730 ┆ DllMain                         │\n",
       "│ xinput9_1_0.dll ┆ 0x06d42980 ┆ XInputGetState                  │\n",
       "│ xinput9_1_0.dll ┆ 0x06d42b60 ┆ XInputSetState                  │\n",
       "│ xinput9_1_0.dll ┆ 0x06d42cd0 ┆ XInputGetCapabilities           │\n",
       "│ xinput9_1_0.dll ┆ 0x06d42ea0 ┆ XInputGetDSoundAudioDeviceGuid… │\n",
       "└─────────────────┴────────────┴─────────────────────────────────┘"
      ]
     },
     "execution_count": 9,
     "metadata": {},
     "output_type": "execute_result"
    }
   ],
   "source": [
    "dump_imports.head()"
   ]
  },
  {
   "cell_type": "code",
   "execution_count": 63,
   "id": "7eceb05b",
   "metadata": {},
   "outputs": [
    {
     "data": {
      "text/plain": [
       "'??0?$basic_string@DU?$char_traits@D@std@@V?$allocator@D@2@@std@@QAE@ABV01@II@Z'"
      ]
     },
     "execution_count": 63,
     "metadata": {},
     "output_type": "execute_result"
    }
   ],
   "source": [
    "dump_imports.filter(pl.col(\"Address\") == \"0x732f7286\")['Function'][0]"
   ]
  },
  {
   "cell_type": "markdown",
   "id": "61babda1",
   "metadata": {},
   "source": [
    "# Gathering imports from old IAT"
   ]
  },
  {
   "cell_type": "code",
   "execution_count": 10,
   "id": "16db17a1",
   "metadata": {},
   "outputs": [],
   "source": [
    "iat = pl.read_csv(old_iat_p)\n",
    "\n",
    "iat = iat.rename({\"Address\": \"Calladdr\", \"Destination\": \"Address\"})\n",
    "iat = iat.with_columns((\"0x\" + pl.col(\"Address\").str.to_lowercase()).alias(\"Address\"))\n",
    "\n",
    "iat = iat.join(dump_imports, on='Address', how='left')"
   ]
  },
  {
   "cell_type": "code",
   "execution_count": 11,
   "id": "46bb8731",
   "metadata": {},
   "outputs": [
    {
     "data": {
      "text/html": [
       "<div><style>\n",
       ".dataframe > thead > tr,\n",
       ".dataframe > tbody > tr {\n",
       "  text-align: right;\n",
       "  white-space: pre-wrap;\n",
       "}\n",
       "</style>\n",
       "<small>shape: (1, 4)</small><table border=\"1\" class=\"dataframe\"><thead><tr><th>Calladdr</th><th>Address</th><th>Module</th><th>Function</th></tr><tr><td>str</td><td>str</td><td>str</td><td>str</td></tr></thead><tbody><tr><td>&quot;0x01588AB0&quot;</td><td>&quot;0x023e3673&quot;</td><td>null</td><td>null</td></tr></tbody></table></div>"
      ],
      "text/plain": [
       "shape: (1, 4)\n",
       "┌────────────┬────────────┬────────┬──────────┐\n",
       "│ Calladdr   ┆ Address    ┆ Module ┆ Function │\n",
       "│ ---        ┆ ---        ┆ ---    ┆ ---      │\n",
       "│ str        ┆ str        ┆ str    ┆ str      │\n",
       "╞════════════╪════════════╪════════╪══════════╡\n",
       "│ 0x01588AB0 ┆ 0x023e3673 ┆ null   ┆ null     │\n",
       "└────────────┴────────────┴────────┴──────────┘"
      ]
     },
     "execution_count": 11,
     "metadata": {},
     "output_type": "execute_result"
    }
   ],
   "source": [
    "iat2 = iat.filter(pl.col(\"Function\").is_null())\n",
    "iat2 = iat2.filter(pl.col(\"Address\").str.slice(2).str.to_integer(base=16) != 0)\n",
    "iat2"
   ]
  },
  {
   "cell_type": "markdown",
   "id": "30eaa06f",
   "metadata": {},
   "source": [
    "<0x023e3673> points to an intermediate call which i believe, is an obfuscated jump to user32.dll!wsprintfA"
   ]
  },
  {
   "cell_type": "markdown",
   "id": "02395501",
   "metadata": {},
   "source": [
    "Cancel forwarding imports (e.g. kernel32.dll,AllocateHeap -> ntdll.dll,RtlReAllocateHeap)"
   ]
  },
  {
   "cell_type": "code",
   "execution_count": 12,
   "id": "8b7e9e02",
   "metadata": {},
   "outputs": [
    {
     "name": "stdout",
     "output_type": "stream",
     "text": [
      "For kernel32.dll there are 12 forwards\n",
      "For user32.dll there are 2 forwards\n"
     ]
    }
   ],
   "source": [
    "systemroot = \"C:/Windows/System32/\"\n",
    "forwarding_modules = [\"kernel32.dll\", \"user32.dll\"]\n",
    "\n",
    "unforward_map: dict[str, tuple[str, str]] = dict()\n",
    "\n",
    "forwarded = iat.filter(pl.col(\"Module\") == \"ntdll.dll\")\n",
    "\n",
    "for modname in forwarding_modules:\n",
    "    modpath = systemroot + modname\n",
    "    number = 0\n",
    "\n",
    "    dll = pefile.PE(modpath)\n",
    "    dll.full_load()\n",
    "    for exp in dll.DIRECTORY_ENTRY_EXPORT.symbols:\n",
    "        name = exp.name.decode() if exp.name else f\"Ordinal#{exp.ordinal}\"\n",
    "        forward_to = ''\n",
    "        if exp.forwarder:\n",
    "            forward_to = exp.forwarder.decode().removeprefix(\"NTDLL.\")\n",
    "        if forwarded.filter(pl.col(\"Function\") == forward_to).shape[0] > 0:\n",
    "            number += 1\n",
    "            unforward_map[forward_to] = (modname, name)\n",
    "    \n",
    "    print(f'For {modname} there are {number} forwards')"
   ]
  },
  {
   "cell_type": "code",
   "execution_count": 13,
   "id": "c55f549d",
   "metadata": {},
   "outputs": [
    {
     "name": "stdout",
     "output_type": "stream",
     "text": [
      "RtlInitializeCriticalSection kernel32.dll InitializeCriticalSection\n"
     ]
    }
   ],
   "source": [
    "for func in iat.filter(pl.col(\"Module\") == \"ntdll.dll\")[\"Function\"]:\n",
    "    if func not in unforward_map:\n",
    "        print(f\"Func {func} from ntdll.dll is not found in forward map\")\n",
    "        continue\n",
    "\n",
    "    origmod, origfunc = unforward_map[func]\n",
    "\n",
    "    if \"InitializeCrit\" in func:\n",
    "        print(func, origmod, origfunc)\n",
    "\n",
    "    condition = (pl.col(\"Module\") == \"ntdll.dll\") & (pl.col(\"Function\") == func)\n",
    "    iat = iat.with_columns(\n",
    "        [\n",
    "            pl.when(condition)\n",
    "            .then(pl.lit(origmod))\n",
    "            .otherwise(\"Module\")\n",
    "            .alias(\"Module\"),\n",
    "            pl.when(condition)\n",
    "            .then(pl.lit(origfunc))\n",
    "            .otherwise(\"Function\")\n",
    "            .alias(\"Function\"),\n",
    "        ]\n",
    "    )"
   ]
  },
  {
   "cell_type": "code",
   "execution_count": 14,
   "id": "a1be213f",
   "metadata": {},
   "outputs": [],
   "source": [
    "iat.write_csv(str(old_iat_p) + '2.csv')"
   ]
  },
  {
   "cell_type": "code",
   "execution_count": 15,
   "id": "370dc843",
   "metadata": {},
   "outputs": [],
   "source": [
    "iat_seg = (\n",
    "    iat.sort(\"Calladdr\").fill_null(\"\")\n",
    "    .with_columns(\n",
    "        (pl.col(\"Module\") != pl.col(\"Module\").shift(1)).cum_sum().alias(\"segment_id\")\n",
    "    )\n",
    "    .fill_null(0)\n",
    "    .filter(pl.col(\"Address\").str.slice(2).str.to_integer(base=16) != 0)\n",
    "    .filter(pl.col(\"Module\") != '')\n",
    ")\n",
    "segments = [group.drop(\"segment_id\") for _, group in iat_seg.group_by(\"segment_id\", maintain_order=True)]"
   ]
  },
  {
   "cell_type": "code",
   "execution_count": 16,
   "id": "d3533e7d",
   "metadata": {},
   "outputs": [
    {
     "data": {
      "text/html": [
       "<div><style>\n",
       ".dataframe > thead > tr,\n",
       ".dataframe > tbody > tr {\n",
       "  text-align: right;\n",
       "  white-space: pre-wrap;\n",
       "}\n",
       "</style>\n",
       "<small>shape: (1, 4)</small><table border=\"1\" class=\"dataframe\"><thead><tr><th>Calladdr</th><th>Address</th><th>Module</th><th>Function</th></tr><tr><td>str</td><td>str</td><td>str</td><td>str</td></tr></thead><tbody><tr><td>&quot;0x01588AB0&quot;</td><td>&quot;0x023e3673&quot;</td><td>null</td><td>null</td></tr></tbody></table></div>"
      ],
      "text/plain": [
       "shape: (1, 4)\n",
       "┌────────────┬────────────┬────────┬──────────┐\n",
       "│ Calladdr   ┆ Address    ┆ Module ┆ Function │\n",
       "│ ---        ┆ ---        ┆ ---    ┆ ---      │\n",
       "│ str        ┆ str        ┆ str    ┆ str      │\n",
       "╞════════════╪════════════╪════════╪══════════╡\n",
       "│ 0x01588AB0 ┆ 0x023e3673 ┆ null   ┆ null     │\n",
       "└────────────┴────────────┴────────┴──────────┘"
      ]
     },
     "execution_count": 16,
     "metadata": {},
     "output_type": "execute_result"
    }
   ],
   "source": [
    "# extract obfuscated imports for later\n",
    "obfuscated = iat.filter(pl.col(\"Module\").is_null()).filter(pl.col(\"Address\").str.slice(2).str.to_integer(base=16) != 0)\n",
    "obfuscated"
   ]
  },
  {
   "cell_type": "code",
   "execution_count": 17,
   "id": "460ae6b0",
   "metadata": {},
   "outputs": [
    {
     "name": "stdout",
     "output_type": "stream",
     "text": [
      "Filtered out 887/923 iat entries\n"
     ]
    }
   ],
   "source": [
    "# remove gaps and one obfuscated import\n",
    "w = iat.shape[0]\n",
    "iat = iat.filter(pl.col(\"Module\").is_not_null())\n",
    "print(f\"Filtered out {iat.shape[0]}/{w} iat entries\")"
   ]
  },
  {
   "cell_type": "code",
   "execution_count": 18,
   "id": "8b5753e0",
   "metadata": {},
   "outputs": [],
   "source": [
    "# confirm all names are decorated\n",
    "assert iat.filter(pl.col(\"Function\").str.contains(\"public\")).shape[0] == 0"
   ]
  },
  {
   "cell_type": "markdown",
   "id": "6cf1067b",
   "metadata": {},
   "source": [
    "# Constructing new IDT"
   ]
  },
  {
   "cell_type": "code",
   "execution_count": 19,
   "id": "8c82b3eb",
   "metadata": {},
   "outputs": [],
   "source": [
    "shutil.copy(original_dump_path, patched_path)\n",
    "\n",
    "pe_lief = lief.PE.parse(patched_path)\n",
    "pe_lief.remove_all_imports()"
   ]
  },
  {
   "cell_type": "code",
   "execution_count": 20,
   "id": "f4df9fcc",
   "metadata": {},
   "outputs": [],
   "source": [
    "def create_32bit_ordinal_import(ordinal_number: int) -> lief.PE.ImportEntry:\n",
    "    \"\"\"\n",
    "    Create a 32-bit import by ordinal\n",
    "\n",
    "    Args:\n",
    "        ordinal_number: The ordinal number (0-65535)\n",
    "    \"\"\"\n",
    "    # Validate ordinal range\n",
    "    if ordinal_number < 0 or ordinal_number > 0xFFFF:\n",
    "        raise ValueError(\"Ordinal number must be between 0 and 65535\")\n",
    "\n",
    "    # For 32-bit PE:\n",
    "    # - Set bit 31 to 1 (0x80000000)\n",
    "    # - Bits 30-16 must be 0\n",
    "    # - Bits 15-0 contain the ordinal\n",
    "    ORDINAL_MASK_32 = 0x80000000\n",
    "    data_value = ORDINAL_MASK_32 | ordinal_number\n",
    "\n",
    "    # Create the import entry\n",
    "    entry = lief.PE.ImportEntry(data_value, lief.PE.PE_TYPE.PE32)\n",
    "\n",
    "    return entry"
   ]
  },
  {
   "cell_type": "markdown",
   "id": "ee69fd0b",
   "metadata": {},
   "source": [
    "### Try this later"
   ]
  },
  {
   "cell_type": "code",
   "execution_count": 21,
   "id": "1e69fc23",
   "metadata": {},
   "outputs": [],
   "source": [
    "def get_section_boundaries(i: int, real: bool) -> tuple[int, int]:\n",
    "    s = pe_lief.sections[i]\n",
    "    if real:\n",
    "        return s.offset, s.offset + s.size\n",
    "    else:\n",
    "        return (\n",
    "            pe_lief.imagebase + s.virtual_address,\n",
    "            pe_lief.imagebase + s.virtual_address + s.virtual_size,\n",
    "        )\n"
   ]
  },
  {
   "cell_type": "code",
   "execution_count": 22,
   "id": "97d246e6",
   "metadata": {},
   "outputs": [],
   "source": [
    "# L = 0x1588000 - get_section_boundaries(0, False)[0]\n",
    "# idata_offset = get_section_boundaries(0, True)[0] + L\n",
    "# idata_size = get_section_boundaries(0, True)[1] - idata_offset\n",
    "# idata_virtual_address = get_section_boundaries(0, False)[0] + L\n",
    "# idata_virtual_size = get_section_boundaries(0, False)[1] - idata_virtual_address"
   ]
  },
  {
   "cell_type": "code",
   "execution_count": 23,
   "id": "056441a2",
   "metadata": {},
   "outputs": [],
   "source": [
    "# for s in pe_lief.sections:\n",
    "#     print(s.name, hex(s.virtual_address), hex(s.virtual_address + s.virtual_size))"
   ]
  },
  {
   "cell_type": "code",
   "execution_count": 24,
   "id": "2acc9513",
   "metadata": {},
   "outputs": [],
   "source": [
    "# Fixing first section\n",
    "# pe_lief.sections[0].name = \".text\"\n",
    "# pe_lief.sections[0].virtual_size = idata_offset - pe_lief.sections[0].offset\n",
    "# pe_lief.sections[0].size = idata_virtual_address - pe_lief.sections[0].virtual_address - pe_lief.imagebase - 2500 # magic number!"
   ]
  },
  {
   "cell_type": "code",
   "execution_count": 25,
   "id": "02a08da0",
   "metadata": {},
   "outputs": [],
   "source": [
    "from pydantic import BaseModel\n",
    "\n",
    "\n",
    "class Sect(BaseModel):\n",
    "    name: str\n",
    "    raw_addr: int\n",
    "    raw_size: int\n",
    "    virt_addr: int\n",
    "    virt_size: int\n",
    "    chars: int\n",
    "\n",
    "    @staticmethod\n",
    "    def from_section(section: lief.PE.Section) -> \"Sect\":\n",
    "        return Sect(\n",
    "            name=section.name,\n",
    "            raw_addr=section.offset,\n",
    "            raw_size=section.size,\n",
    "            virt_addr=section.virtual_address,\n",
    "            virt_size=section.virtual_size,\n",
    "            chars=section.characteristics,\n",
    "        )\n",
    "\n",
    "    def to_section(self) -> lief.PE.Section:\n",
    "        sect = lief.PE.Section(self.name)\n",
    "        sect.name = self.name\n",
    "        sect.offset = self.raw_addr\n",
    "        sect.size = self.raw_size\n",
    "        sect.virtual_address = self.virt_addr\n",
    "        sect.virtual_size = self.virt_size\n",
    "        sect.characteristics = self.chars\n",
    "        return sect"
   ]
  },
  {
   "cell_type": "code",
   "execution_count": 26,
   "id": "16dc2f24",
   "metadata": {},
   "outputs": [],
   "source": [
    "# adding proper .idata\n",
    "# new_idata = lief.PE.Section(\".idata\")\n",
    "# new_idata.offset = idata_offset\n",
    "# new_idata.size = idata_size\n",
    "# new_idata.virtual_address = idata_virtual_address - pe_lief.imagebase\n",
    "# new_idata.virtual_size = idata_virtual_size\n",
    "# new_idata.characteristics = pe_lief.sections[0].characteristics\n",
    "# pe_lief.add_section(new_idata)\n",
    "\n",
    "# sections = [Sect.from_section(sec) for sec in pe_lief.sections]\n",
    "# sections = [sections[0], Sect.from_section(new_idata)] + sections[1:]\n",
    "\n",
    "# N = len(pe_lief.sections)\n",
    "# for i in range(N):\n",
    "#     pe_lief.sections[i].name = f'{i}'\n",
    "\n",
    "# for i in range(N):\n",
    "#     pe_lief.remove_section(f'{i}')\n",
    "\n",
    "# for sec in sections:\n",
    "#     pe_lief.add_section(sec.to_section())"
   ]
  },
  {
   "cell_type": "code",
   "execution_count": 27,
   "id": "8ec7d98e",
   "metadata": {},
   "outputs": [
    {
     "name": "stdout",
     "output_type": "stream",
     "text": [
      "    0x1000 0x1ab8000\n",
      ".rsrc 0x1ab8000 0x1d9c000\n",
      ".idata   0x1d9c000 0x1d9d000\n",
      "         0x1d9d000 0x203d000\n",
      "wlovhtaq 0x203d000 0x2225000\n",
      "oemvvlbu 0x2225000 0x2226000\n"
     ]
    }
   ],
   "source": [
    "for s in pe_lief.sections:\n",
    "    print(s.name, hex(s.virtual_address), hex(s.virtual_address + s.virtual_size))"
   ]
  },
  {
   "cell_type": "markdown",
   "id": "92430325",
   "metadata": {},
   "source": [
    "### Adding imports"
   ]
  },
  {
   "cell_type": "markdown",
   "id": "189b9d6f",
   "metadata": {},
   "source": [
    "Creates brand new IDT with new IAT and ILT"
   ]
  },
  {
   "cell_type": "code",
   "execution_count": 28,
   "id": "e11d7936",
   "metadata": {},
   "outputs": [],
   "source": [
    "for seg in segments:\n",
    "    dll = seg['Module'][0]\n",
    "    if dll is None or dll == '':\n",
    "        continue\n",
    "\n",
    "    mod = pe_lief.add_import(dll)\n",
    "    for calladdr, _, _, func in seg.rows():\n",
    "        if func.startswith('Ordinal#'):\n",
    "            ordinal = int(func.removeprefix(\"Ordinal#\"))\n",
    "            entry = create_32bit_ordinal_import(ordinal)\n",
    "        else:\n",
    "            entry = lief.PE.ImportEntry(func)\n",
    "        mod.add_entry(entry)"
   ]
  },
  {
   "cell_type": "code",
   "execution_count": 29,
   "id": "60798d4a",
   "metadata": {},
   "outputs": [
    {
     "name": "stderr",
     "output_type": "stream",
     "text": [
      "Can't find section with the rva: 0x0\n"
     ]
    }
   ],
   "source": [
    "config = lief.PE.Builder.config_t()\n",
    "config.imports = True\n",
    "\n",
    "bb = lief.PE.Builder(pe_lief, config)\n",
    "bb.build()\n",
    "bb.write(str(patched_path))"
   ]
  },
  {
   "cell_type": "markdown",
   "id": "b58b181f",
   "metadata": {},
   "source": [
    "Reset IAT to the old IAT address"
   ]
  },
  {
   "cell_type": "code",
   "execution_count": 30,
   "id": "1be5ba63",
   "metadata": {},
   "outputs": [],
   "source": [
    "pe = pefile.PE(patched_path)\n",
    "pe.full_load()"
   ]
  },
  {
   "cell_type": "code",
   "execution_count": 31,
   "id": "65856e00",
   "metadata": {},
   "outputs": [],
   "source": [
    "assert len(pe.DIRECTORY_ENTRY_IMPORT) == len(segments), \"Change the MAX_REPEATED_ADDRESSES to >20\""
   ]
  },
  {
   "cell_type": "code",
   "execution_count": 32,
   "id": "89263bd0",
   "metadata": {},
   "outputs": [],
   "source": [
    "for i, seg in enumerate(segments):\n",
    "    first_thunk = int(seg[\"Calladdr\"][0], 16)\n",
    "\n",
    "    pe.DIRECTORY_ENTRY_IMPORT[i].struct.FirstThunk = (\n",
    "        first_thunk - pe.OPTIONAL_HEADER.ImageBase\n",
    "    )"
   ]
  },
  {
   "cell_type": "code",
   "execution_count": 33,
   "id": "37ac88ff",
   "metadata": {},
   "outputs": [
    {
     "data": {
      "text/plain": [
       "WindowsPath('G:/Games/FA/FA-EMU/Shipping/GAME_patched.exe')"
      ]
     },
     "execution_count": 33,
     "metadata": {},
     "output_type": "execute_result"
    }
   ],
   "source": [
    "temp = \"exe.exe\"\n",
    "pe.write(filename=temp)\n",
    "pe.close()\n",
    "shutil.move(temp, patched_path)"
   ]
  },
  {
   "cell_type": "markdown",
   "id": "e5c29dc3",
   "metadata": {},
   "source": [
    "# Fix thunks"
   ]
  },
  {
   "cell_type": "markdown",
   "id": "5200d894",
   "metadata": {},
   "source": [
    "Suspect thunks are searched via <90 e9 ? ? ? ?> wildcard"
   ]
  },
  {
   "cell_type": "code",
   "execution_count": 34,
   "id": "c3017ff0",
   "metadata": {},
   "outputs": [
    {
     "data": {
      "text/plain": [
       "(3236, 3)"
      ]
     },
     "execution_count": 34,
     "metadata": {},
     "output_type": "execute_result"
    }
   ],
   "source": [
    "thunks = pl.read_csv(byte_calls_p)\n",
    "thunks = thunks.filter(pl.col(\"Instruction\").is_in([\"jmp\"]))\n",
    "thunks = thunks.with_columns(pl.col(\"Call address\").str.slice(2).str.to_integer(base=16).alias(\"Int_addr\"))\n",
    "thunks = thunks.filter(pl.col(\"Int_addr\") < 0x01588000)  # this is where the old IAT begins\n",
    "thunks = thunks.drop('subroutine', 'Instruction', 'Resolved name')\n",
    "thunks.shape"
   ]
  },
  {
   "cell_type": "code",
   "execution_count": 35,
   "id": "842ae605",
   "metadata": {},
   "outputs": [
    {
     "name": "stdout",
     "output_type": "stream",
     "text": [
      "(3234, 3)\n"
     ]
    }
   ],
   "source": [
    "valid_addresses = set(dump_imports[\"Address\"].to_list())\n",
    "thunks = thunks.filter(pl.col(\"Destination\").is_in(valid_addresses))\n",
    "print(thunks.shape)"
   ]
  },
  {
   "cell_type": "markdown",
   "id": "74452d93",
   "metadata": {},
   "source": [
    "jmp is considered a thunk as long as it has at least two neighbouring jmps. Both neighbours would be counted as thunks as well."
   ]
  },
  {
   "cell_type": "code",
   "execution_count": 36,
   "id": "1132f919",
   "metadata": {},
   "outputs": [
    {
     "data": {
      "text/plain": [
       "890"
      ]
     },
     "execution_count": 36,
     "metadata": {},
     "output_type": "execute_result"
    }
   ],
   "source": [
    "get_addr = pl.col(\"Call address\").str.slice(2).str.to_integer(base=16)\n",
    "is_prev = pl.col(\"Int_addr\").shift(1) + 6 == pl.col(\"Int_addr\")\n",
    "is_next = pl.col(\"Int_addr\").shift(-1) - 6 == pl.col(\"Int_addr\")\n",
    "\n",
    "# thunks = thunks.with_columns([is_prev.alias('is_prev'), is_next.alias('is_next')])\n",
    "\n",
    "thunks = thunks.with_columns(get_addr.alias(\"Int_addr\"))\n",
    "thunks = thunks.with_columns((is_next | is_prev).alias(\"is_thunk\"))\n",
    "thunks = thunks.with_columns(pl.col(\"is_thunk\") | pl.col(\"is_thunk\").shift(1) | pl.col(\"is_thunk\").shift(-1))\n",
    "thunks.filter(\"is_thunk\").shape[0]"
   ]
  },
  {
   "cell_type": "code",
   "execution_count": 37,
   "id": "aa6c75a2",
   "metadata": {},
   "outputs": [
    {
     "data": {
      "text/html": [
       "<div><style>\n",
       ".dataframe > thead > tr,\n",
       ".dataframe > tbody > tr {\n",
       "  text-align: right;\n",
       "  white-space: pre-wrap;\n",
       "}\n",
       "</style>\n",
       "<small>shape: (2, 4)</small><table border=\"1\" class=\"dataframe\"><thead><tr><th>Call address</th><th>Destination</th><th>Int_addr</th><th>is_thunk</th></tr><tr><td>str</td><td>str</td><td>i64</td><td>bool</td></tr></thead><tbody><tr><td>&quot;0x14ab766&quot;</td><td>&quot;0x6f6033ef&quot;</td><td>21673830</td><td>true</td></tr><tr><td>&quot;0x14ab76c&quot;</td><td>&quot;0x6f65a95b&quot;</td><td>21673836</td><td>true</td></tr></tbody></table></div>"
      ],
      "text/plain": [
       "shape: (2, 4)\n",
       "┌──────────────┬─────────────┬──────────┬──────────┐\n",
       "│ Call address ┆ Destination ┆ Int_addr ┆ is_thunk │\n",
       "│ ---          ┆ ---         ┆ ---      ┆ ---      │\n",
       "│ str          ┆ str         ┆ i64      ┆ bool     │\n",
       "╞══════════════╪═════════════╪══════════╪══════════╡\n",
       "│ 0x14ab766    ┆ 0x6f6033ef  ┆ 21673830 ┆ true     │\n",
       "│ 0x14ab76c    ┆ 0x6f65a95b  ┆ 21673836 ┆ true     │\n",
       "└──────────────┴─────────────┴──────────┴──────────┘"
      ]
     },
     "execution_count": 37,
     "metadata": {},
     "output_type": "execute_result"
    }
   ],
   "source": [
    "thunks.filter(abs(pl.col(\"Int_addr\") - 0x14ab766) < 48)"
   ]
  },
  {
   "cell_type": "code",
   "execution_count": 38,
   "id": "191ea511",
   "metadata": {},
   "outputs": [],
   "source": [
    "# additional thunks\n",
    "thunks = thunks.with_columns(pl.col(\"is_thunk\") | (pl.col(\"Call address\") == \"0x14aaadb\"))\n",
    "thunks = thunks.with_columns(pl.col(\"is_thunk\") | (pl.col(\"Call address\") == \"0x14aaad5\"))\n",
    "\n",
    "thunks = thunks.with_columns(pl.col(\"is_thunk\") | (pl.col(\"Call address\") == \"0x14aa9f5\"))\n",
    "thunks = thunks.with_columns(pl.col(\"is_thunk\") | (pl.col(\"Call address\") == \"0x14aa9fb\"))\n",
    "\n",
    "thunks = thunks.with_columns(pl.col(\"is_thunk\") | (pl.col(\"Call address\") == \"0x14aab3d\"))\n",
    "\n",
    "thunks = thunks.with_columns(pl.col(\"is_thunk\") | (pl.col(\"Call address\") == \"0x14ab35d\"))\n",
    "thunks = thunks.with_columns(pl.col(\"is_thunk\") | (pl.col(\"Call address\") == \"0x14ab363\"))\n",
    "\n",
    "thunks = thunks.with_columns(pl.col(\"is_thunk\") | (pl.col(\"Call address\") == \"0x14ab405\"))\n",
    "thunks = thunks.with_columns(pl.col(\"is_thunk\") | (pl.col(\"Call address\") == \"0x14ab40b\"))\n",
    "\n",
    "thunks = thunks.with_columns(pl.col(\"is_thunk\") | (pl.col(\"Call address\") == \"0x14ab767\"))\n",
    "thunks = thunks.with_columns(pl.col(\"is_thunk\") | (pl.col(\"Call address\") == \"0x14ab76d\"))\n",
    "\n",
    "thunks = thunks.with_columns(pl.col(\"is_thunk\") | (pl.col(\"Call address\") == \"0x14abc33\"))\n",
    "thunks = thunks.with_columns(pl.col(\"is_thunk\") | (pl.col(\"Call address\") == \"0x14abc39\"))\n",
    "\n",
    "thunks = thunks.with_columns(pl.col(\"is_thunk\") | (pl.col(\"Call address\") == \"0x14abe61\"))\n",
    "\n",
    "thunks = thunks.with_columns(pl.col(\"is_thunk\") | (pl.col(\"Call address\") == \"0xcedcb1\"))\n",
    "\n",
    "thunks = thunks.with_columns(pl.col(\"is_thunk\") | (pl.col(\"Call address\") == \"0xcedcf1\"))"
   ]
  },
  {
   "cell_type": "code",
   "execution_count": 39,
   "id": "982b773a",
   "metadata": {},
   "outputs": [
    {
     "data": {
      "text/html": [
       "<div><style>\n",
       ".dataframe > thead > tr,\n",
       ".dataframe > tbody > tr {\n",
       "  text-align: right;\n",
       "  white-space: pre-wrap;\n",
       "}\n",
       "</style>\n",
       "<small>shape: (1, 4)</small><table border=\"1\" class=\"dataframe\"><thead><tr><th>Call address</th><th>Destination</th><th>Int_addr</th><th>is_thunk</th></tr><tr><td>str</td><td>str</td><td>i64</td><td>bool</td></tr></thead><tbody><tr><td>&quot;0x14ab766&quot;</td><td>&quot;0x6f6033ef&quot;</td><td>21673830</td><td>true</td></tr></tbody></table></div>"
      ],
      "text/plain": [
       "shape: (1, 4)\n",
       "┌──────────────┬─────────────┬──────────┬──────────┐\n",
       "│ Call address ┆ Destination ┆ Int_addr ┆ is_thunk │\n",
       "│ ---          ┆ ---         ┆ ---      ┆ ---      │\n",
       "│ str          ┆ str         ┆ i64      ┆ bool     │\n",
       "╞══════════════╪═════════════╪══════════╪══════════╡\n",
       "│ 0x14ab766    ┆ 0x6f6033ef  ┆ 21673830 ┆ true     │\n",
       "└──────────────┴─────────────┴──────────┴──────────┘"
      ]
     },
     "execution_count": 39,
     "metadata": {},
     "output_type": "execute_result"
    }
   ],
   "source": [
    "thunks.filter(pl.col(\"Call address\").str.slice(2).str.to_integer(base=16) == 0x14ab766)"
   ]
  },
  {
   "cell_type": "code",
   "execution_count": 40,
   "id": "febf2ef4",
   "metadata": {},
   "outputs": [
    {
     "name": "stdout",
     "output_type": "stream",
     "text": [
      "Found 870 thunks and 874 imports\n"
     ]
    }
   ],
   "source": [
    "thunks = thunks.filter(\"is_thunk\").drop(\"Int_addr\")\n",
    "print(f\"Found {thunks.filter(\"is_thunk\").unique(\"Destination\").shape[0]} thunks and {iat.unique(\"Address\").shape[0]} imports\")"
   ]
  },
  {
   "cell_type": "code",
   "execution_count": 41,
   "id": "0a3b5cb8",
   "metadata": {},
   "outputs": [
    {
     "name": "stdout",
     "output_type": "stream",
     "text": [
      "(924, 5)\n"
     ]
    },
    {
     "data": {
      "text/html": [
       "<div><style>\n",
       ".dataframe > thead > tr,\n",
       ".dataframe > tbody > tr {\n",
       "  text-align: right;\n",
       "  white-space: pre-wrap;\n",
       "}\n",
       "</style>\n",
       "<small>shape: (0, 5)</small><table border=\"1\" class=\"dataframe\"><thead><tr><th>Call address</th><th>Destination</th><th>is_thunk</th><th>Module</th><th>Function</th></tr><tr><td>str</td><td>str</td><td>bool</td><td>str</td><td>str</td></tr></thead><tbody></tbody></table></div>"
      ],
      "text/plain": [
       "shape: (0, 5)\n",
       "┌──────────────┬─────────────┬──────────┬────────┬──────────┐\n",
       "│ Call address ┆ Destination ┆ is_thunk ┆ Module ┆ Function │\n",
       "│ ---          ┆ ---         ┆ ---      ┆ ---    ┆ ---      │\n",
       "│ str          ┆ str         ┆ bool     ┆ str    ┆ str      │\n",
       "╞══════════════╪═════════════╪══════════╪════════╪══════════╡\n",
       "└──────────────┴─────────────┴──────────┴────────┴──────────┘"
      ]
     },
     "execution_count": 41,
     "metadata": {},
     "output_type": "execute_result"
    }
   ],
   "source": [
    "thunks = thunks.join(iat.select(\"Module\", \"Function\", \"Address\"), left_on=\"Destination\", right_on=\"Address\", how='left')\n",
    "print(thunks.shape)\n",
    "thunks.filter(pl.col(\"Module\").is_null())"
   ]
  },
  {
   "cell_type": "code",
   "execution_count": 42,
   "id": "c2701b49",
   "metadata": {},
   "outputs": [],
   "source": [
    "# For the rest, we'll create new thunks\n",
    "available_thunk_places = [\n",
    "    [\"0x014AB2A4\", 12],\n",
    "    [\"0x014AB368\", 8],\n",
    "    [\"0x014AB3C2\", 14],\n",
    "    [\"0x014AB5B6\", 10],\n",
    "    [\"0x014AB602\", 14],\n",
    "]\n",
    "\n",
    "def find_next_addr(size: int = 6) -> str | None:\n",
    "    global available_thunk_places\n",
    "    for i in range(len(available_thunk_places)):\n",
    "        e = available_thunk_places[i]\n",
    "        if e[1] > size:\n",
    "            e[1] -= size\n",
    "            retval = int(e[0], 16)\n",
    "            e[0] = hex(retval + size)\n",
    "            return hex(retval)\n",
    "    return None"
   ]
  },
  {
   "cell_type": "code",
   "execution_count": 43,
   "id": "7f7bca6f",
   "metadata": {},
   "outputs": [
    {
     "name": "stdout",
     "output_type": "stream",
     "text": [
      "(5, 4)\n"
     ]
    }
   ],
   "source": [
    "# Trying least intervention: no thunks = they aren't needed\n",
    "skip = True\n",
    "\n",
    "to_thunk = iat.vstack(obfuscated)\n",
    "unfound = to_thunk.filter(\n",
    "    ~pl.col(\"Address\").is_in(thunks.filter(\"is_thunk\")[\"Destination\"].to_list())\n",
    ").unique(\"Address\")\n",
    "print(unfound.shape)\n",
    "\n",
    "if skip:\n",
    "    unfound = unfound.clear()"
   ]
  },
  {
   "cell_type": "code",
   "execution_count": 44,
   "id": "6cb21d46",
   "metadata": {},
   "outputs": [
    {
     "name": "stdout",
     "output_type": "stream",
     "text": [
      "(924, 6)\n"
     ]
    }
   ],
   "source": [
    "thunks = thunks.with_columns(pl.lit(False).alias(\"new\"))\n",
    "for dest in unfound[\"Address\"]:\n",
    "    addr = find_next_addr()\n",
    "    print(f\"Using {addr} to place a new thunk to {dest}\")\n",
    "    if addr is None:\n",
    "        raise RuntimeError(\"Can't place new thunk: no available space\")\n",
    "\n",
    "    func = iat.filter(pl.col(\"Address\") == dest)\n",
    "    if func.shape[0] > 0:\n",
    "        modname = func[\"Module\"][0]\n",
    "        funname = func[\"Function\"][0]\n",
    "    else:\n",
    "        modname, funname = None, None\n",
    "\n",
    "    thunks = thunks.vstack(\n",
    "        pl.DataFrame(\n",
    "            {\n",
    "                \"Call address\": hex(int(addr, 16)),\n",
    "                \"Destination\": hex(int(dest, 16)),\n",
    "                \"is_thunk\": True,\n",
    "                \"Module\": modname,\n",
    "                \"Function\": funname,\n",
    "                \"new\": True,\n",
    "            }\n",
    "        )\n",
    "    )\n",
    "\n",
    "unfound = unfound.clear()\n",
    "print(thunks.shape)"
   ]
  },
  {
   "cell_type": "code",
   "execution_count": 45,
   "id": "18f0474f",
   "metadata": {},
   "outputs": [
    {
     "data": {
      "text/plain": [
       "(924, 7)"
      ]
     },
     "execution_count": 45,
     "metadata": {},
     "output_type": "execute_result"
    }
   ],
   "source": [
    "# setting thunks to renewed iat\n",
    "thunks = thunks.join(to_thunk.select(\"Calladdr\", \"Address\").rename({\"Calladdr\": \"iat_addr\"}).unique(\"Address\"), left_on=\"Destination\", right_on=\"Address\", how='left')\n",
    "thunks.shape"
   ]
  },
  {
   "cell_type": "code",
   "execution_count": 46,
   "id": "dd35333d",
   "metadata": {},
   "outputs": [
    {
     "data": {
      "text/html": [
       "<div><style>\n",
       ".dataframe > thead > tr,\n",
       ".dataframe > tbody > tr {\n",
       "  text-align: right;\n",
       "  white-space: pre-wrap;\n",
       "}\n",
       "</style>\n",
       "<small>shape: (1, 7)</small><table border=\"1\" class=\"dataframe\"><thead><tr><th>Call address</th><th>Destination</th><th>is_thunk</th><th>Module</th><th>Function</th><th>new</th><th>iat_addr</th></tr><tr><td>str</td><td>str</td><td>bool</td><td>str</td><td>str</td><td>bool</td><td>str</td></tr></thead><tbody><tr><td>&quot;0x14ab766&quot;</td><td>&quot;0x6f6033ef&quot;</td><td>true</td><td>&quot;msvcr90.dll&quot;</td><td>&quot;_endthreadex&quot;</td><td>false</td><td>&quot;0x01588628&quot;</td></tr></tbody></table></div>"
      ],
      "text/plain": [
       "shape: (1, 7)\n",
       "┌──────────────┬─────────────┬──────────┬─────────────┬──────────────┬───────┬────────────┐\n",
       "│ Call address ┆ Destination ┆ is_thunk ┆ Module      ┆ Function     ┆ new   ┆ iat_addr   │\n",
       "│ ---          ┆ ---         ┆ ---      ┆ ---         ┆ ---          ┆ ---   ┆ ---        │\n",
       "│ str          ┆ str         ┆ bool     ┆ str         ┆ str          ┆ bool  ┆ str        │\n",
       "╞══════════════╪═════════════╪══════════╪═════════════╪══════════════╪═══════╪════════════╡\n",
       "│ 0x14ab766    ┆ 0x6f6033ef  ┆ true     ┆ msvcr90.dll ┆ _endthreadex ┆ false ┆ 0x01588628 │\n",
       "└──────────────┴─────────────┴──────────┴─────────────┴──────────────┴───────┴────────────┘"
      ]
     },
     "execution_count": 46,
     "metadata": {},
     "output_type": "execute_result"
    }
   ],
   "source": [
    "thunks.filter(pl.col(\"Call address\").str.slice(2).str.to_integer(base=16) == 0x14ab766)"
   ]
  },
  {
   "cell_type": "code",
   "execution_count": 47,
   "id": "75f8591c",
   "metadata": {},
   "outputs": [
    {
     "data": {
      "text/html": [
       "<div><style>\n",
       ".dataframe > thead > tr,\n",
       ".dataframe > tbody > tr {\n",
       "  text-align: right;\n",
       "  white-space: pre-wrap;\n",
       "}\n",
       "</style>\n",
       "<small>shape: (6, 7)</small><table border=\"1\" class=\"dataframe\"><thead><tr><th>Call address</th><th>Destination</th><th>is_thunk</th><th>Module</th><th>Function</th><th>new</th><th>iat_addr</th></tr><tr><td>str</td><td>str</td><td>bool</td><td>str</td><td>str</td><td>bool</td><td>str</td></tr></thead><tbody><tr><td>&quot;0x14fc16a&quot;</td><td>&quot;0x6f61338c&quot;</td><td>true</td><td>&quot;msvcr90.dll&quot;</td><td>&quot;_snwprintf_s&quot;</td><td>false</td><td>&quot;0x01588500&quot;</td></tr><tr><td>&quot;0x14fc170&quot;</td><td>&quot;0x6f616292&quot;</td><td>true</td><td>&quot;msvcr90.dll&quot;</td><td>&quot;wprintf_s&quot;</td><td>false</td><td>&quot;0x015884FC&quot;</td></tr><tr><td>&quot;0x14fc176&quot;</td><td>&quot;0x6ea29600&quot;</td><td>true</td><td>&quot;d3dx10_42.dll&quot;</td><td>&quot;D3DX10SaveTextureToMemory&quot;</td><td>false</td><td>&quot;0x01588C7C&quot;</td></tr><tr><td>&quot;0x14fc17c&quot;</td><td>&quot;0x6ea278f9&quot;</td><td>true</td><td>&quot;d3dx10_42.dll&quot;</td><td>&quot;D3DX10LoadTextureFromTexture&quot;</td><td>false</td><td>&quot;0x01588C78&quot;</td></tr><tr><td>&quot;0x14fc182&quot;</td><td>&quot;0x763a3dd0&quot;</td><td>true</td><td>&quot;kernel32.dll&quot;</td><td>&quot;SetConsoleTextAttribute&quot;</td><td>false</td><td>&quot;0x01588388&quot;</td></tr><tr><td>&quot;0x1504253&quot;</td><td>&quot;0x732f5ebb&quot;</td><td>true</td><td>&quot;msvcp90.dll&quot;</td><td>&quot;??1?$basic_string@DU?$char_tra…</td><td>false</td><td>&quot;0x015884E8&quot;</td></tr></tbody></table></div>"
      ],
      "text/plain": [
       "shape: (6, 7)\n",
       "┌──────────────┬─────────────┬──────────┬───────────────┬─────────────────────┬───────┬────────────┐\n",
       "│ Call address ┆ Destination ┆ is_thunk ┆ Module        ┆ Function            ┆ new   ┆ iat_addr   │\n",
       "│ ---          ┆ ---         ┆ ---      ┆ ---           ┆ ---                 ┆ ---   ┆ ---        │\n",
       "│ str          ┆ str         ┆ bool     ┆ str           ┆ str                 ┆ bool  ┆ str        │\n",
       "╞══════════════╪═════════════╪══════════╪═══════════════╪═════════════════════╪═══════╪════════════╡\n",
       "│ 0x14fc16a    ┆ 0x6f61338c  ┆ true     ┆ msvcr90.dll   ┆ _snwprintf_s        ┆ false ┆ 0x01588500 │\n",
       "│ 0x14fc170    ┆ 0x6f616292  ┆ true     ┆ msvcr90.dll   ┆ wprintf_s           ┆ false ┆ 0x015884FC │\n",
       "│ 0x14fc176    ┆ 0x6ea29600  ┆ true     ┆ d3dx10_42.dll ┆ D3DX10SaveTextureTo ┆ false ┆ 0x01588C7C │\n",
       "│              ┆             ┆          ┆               ┆ Memory              ┆       ┆            │\n",
       "│ 0x14fc17c    ┆ 0x6ea278f9  ┆ true     ┆ d3dx10_42.dll ┆ D3DX10LoadTextureFr ┆ false ┆ 0x01588C78 │\n",
       "│              ┆             ┆          ┆               ┆ omTexture           ┆       ┆            │\n",
       "│ 0x14fc182    ┆ 0x763a3dd0  ┆ true     ┆ kernel32.dll  ┆ SetConsoleTextAttri ┆ false ┆ 0x01588388 │\n",
       "│              ┆             ┆          ┆               ┆ bute                ┆       ┆            │\n",
       "│ 0x1504253    ┆ 0x732f5ebb  ┆ true     ┆ msvcp90.dll   ┆ ??1?$basic_string@D ┆ false ┆ 0x015884E8 │\n",
       "│              ┆             ┆          ┆               ┆ U?$char_tra…        ┆       ┆            │\n",
       "└──────────────┴─────────────┴──────────┴───────────────┴─────────────────────┴───────┴────────────┘"
      ]
     },
     "execution_count": 47,
     "metadata": {},
     "output_type": "execute_result"
    }
   ],
   "source": [
    "thunks.tail(6)"
   ]
  },
  {
   "cell_type": "markdown",
   "id": "a48264a4",
   "metadata": {},
   "source": [
    "# Fix calls"
   ]
  },
  {
   "cell_type": "markdown",
   "id": "99080ea7",
   "metadata": {},
   "source": [
    "Suspect calls are <90 e8 ? ? ? ?> and <e8 ? ? ? ? 90>. The only concerning calls are \"optimized\". The rest point to thunks (restored) or iat (restored)."
   ]
  },
  {
   "cell_type": "markdown",
   "id": "cecd94d3",
   "metadata": {},
   "source": [
    "Broken jmp on 0xbd0394 (LeaveCriticalSection) made me to include nop-jumps to the list: <90 e9 ? ? ? ?>"
   ]
  },
  {
   "cell_type": "code",
   "execution_count": 48,
   "id": "a26d8a2b",
   "metadata": {},
   "outputs": [
    {
     "name": "stdout",
     "output_type": "stream",
     "text": [
      "(31082, 5)\n"
     ]
    },
    {
     "data": {
      "text/html": [
       "<div><style>\n",
       ".dataframe > thead > tr,\n",
       ".dataframe > tbody > tr {\n",
       "  text-align: right;\n",
       "  white-space: pre-wrap;\n",
       "}\n",
       "</style>\n",
       "<small>shape: (3, 5)</small><table border=\"1\" class=\"dataframe\"><thead><tr><th>subroutine</th><th>Instruction</th><th>Call address</th><th>Destination</th><th>Int_addr</th></tr><tr><td>str</td><td>str</td><td>str</td><td>str</td><td>i64</td></tr></thead><tbody><tr><td>&quot;-&quot;</td><td>&quot;call&quot;</td><td>&quot;0x8fa44a&quot;</td><td>&quot;0x6f64ccc9&quot;</td><td>9413706</td></tr><tr><td>&quot;-&quot;</td><td>&quot;call&quot;</td><td>&quot;0xe10f2d&quot;</td><td>&quot;0x7639eb00&quot;</td><td>14749485</td></tr><tr><td>&quot;-&quot;</td><td>&quot;call&quot;</td><td>&quot;0x713789&quot;</td><td>&quot;0x6f61d377&quot;</td><td>7419785</td></tr></tbody></table></div>"
      ],
      "text/plain": [
       "shape: (3, 5)\n",
       "┌────────────┬─────────────┬──────────────┬─────────────┬──────────┐\n",
       "│ subroutine ┆ Instruction ┆ Call address ┆ Destination ┆ Int_addr │\n",
       "│ ---        ┆ ---         ┆ ---          ┆ ---         ┆ ---      │\n",
       "│ str        ┆ str         ┆ str          ┆ str         ┆ i64      │\n",
       "╞════════════╪═════════════╪══════════════╪═════════════╪══════════╡\n",
       "│ -          ┆ call        ┆ 0x8fa44a     ┆ 0x6f64ccc9  ┆ 9413706  │\n",
       "│ -          ┆ call        ┆ 0xe10f2d     ┆ 0x7639eb00  ┆ 14749485 │\n",
       "│ -          ┆ call        ┆ 0x713789     ┆ 0x6f61d377  ┆ 7419785  │\n",
       "└────────────┴─────────────┴──────────────┴─────────────┴──────────┘"
      ]
     },
     "execution_count": 48,
     "metadata": {},
     "output_type": "execute_result"
    }
   ],
   "source": [
    "calls = pl.read_csv(byte_calls_p).filter(pl.col(\"Instruction\").is_in([\"call\", \"call2\", \"jmp\"]))\n",
    "\n",
    "# remove nop-jmps that are thunks:\n",
    "thunk_addrs = set(thunks[\"Call address\"].to_list())\n",
    "calls = calls.filter(~pl.col(\"Call address\").is_in(thunk_addrs))\n",
    "\n",
    "calls_inst = pl.read_csv(inst_calls_p).clear() # deprecated\n",
    "calls = calls.vstack(calls_inst).unique(\"Call address\")\n",
    "calls = calls.drop(\"Resolved name\")\n",
    "calls = calls.with_columns(pl.col(\"Call address\").str.slice(2).str.to_integer(base=16).alias(\"Int_addr\"))\n",
    "calls = calls.filter(pl.col(\"Int_addr\") < 0x01588000)  # this is where the old IAT begins\n",
    "\n",
    "print(calls.shape)\n",
    "calls.head(3)"
   ]
  },
  {
   "cell_type": "code",
   "execution_count": 49,
   "id": "b39f7601",
   "metadata": {},
   "outputs": [
    {
     "name": "stdout",
     "output_type": "stream",
     "text": [
      "(30885, 4)\n"
     ]
    }
   ],
   "source": [
    "# remove dupes (double patterns)\n",
    "addrs = set(calls['Int_addr'].to_list())\n",
    "calls = calls.filter(~(pl.col(\"Int_addr\") - 1).is_in(addrs)).drop(\"Int_addr\")\n",
    "\n",
    "print(calls.shape)"
   ]
  },
  {
   "cell_type": "code",
   "execution_count": 50,
   "id": "08b356c3",
   "metadata": {},
   "outputs": [],
   "source": [
    "# remove thunks from calls\n",
    "# thunk_int_addr = thunks.select(pl.col(\"Call address\").str.slice(2).str.to_integer(base=16))\n",
    "# thunk_int_addr_1 = thunk_int_addr.select(pl.col(\"Call address\") - 1)\n",
    "# thunk_addrs = set(thunk_int_addr[\"Call address\"].to_list() + thunk_int_addr_1[\"Call address\"].to_list())\n",
    "\n",
    "# calls = calls.filter(~pl.col(\"Call address\").str.slice(2).str.to_integer(base=16).is_in(thunk_addrs))\n",
    "# calls.shape"
   ]
  },
  {
   "cell_type": "code",
   "execution_count": 51,
   "id": "3608e946",
   "metadata": {},
   "outputs": [
    {
     "data": {
      "text/plain": [
       "(30873, 4)"
      ]
     },
     "execution_count": 51,
     "metadata": {},
     "output_type": "execute_result"
    }
   ],
   "source": [
    "# filter only calls that point to api calls directly (still rel32 though)\n",
    "valid_addresses = set(dump_imports[\"Address\"].to_list())\n",
    "calls = calls.filter(pl.col(\"Destination\").is_in(valid_addresses))\n",
    "\n",
    "calls.shape"
   ]
  },
  {
   "cell_type": "code",
   "execution_count": 52,
   "id": "6ebf5ec8",
   "metadata": {},
   "outputs": [
    {
     "data": {
      "text/html": [
       "<div><style>\n",
       ".dataframe > thead > tr,\n",
       ".dataframe > tbody > tr {\n",
       "  text-align: right;\n",
       "  white-space: pre-wrap;\n",
       "}\n",
       "</style>\n",
       "<small>shape: (1, 4)</small><table border=\"1\" class=\"dataframe\"><thead><tr><th>Calladdr</th><th>Address</th><th>Module</th><th>Function</th></tr><tr><td>str</td><td>str</td><td>str</td><td>str</td></tr></thead><tbody><tr><td>&quot;0x01588000&quot;</td><td>&quot;0x7622f2a0&quot;</td><td>&quot;advapi32.dll&quot;</td><td>&quot;CryptGetHashParam&quot;</td></tr></tbody></table></div>"
      ],
      "text/plain": [
       "shape: (1, 4)\n",
       "┌────────────┬────────────┬──────────────┬───────────────────┐\n",
       "│ Calladdr   ┆ Address    ┆ Module       ┆ Function          │\n",
       "│ ---        ┆ ---        ┆ ---          ┆ ---               │\n",
       "│ str        ┆ str        ┆ str          ┆ str               │\n",
       "╞════════════╪════════════╪══════════════╪═══════════════════╡\n",
       "│ 0x01588000 ┆ 0x7622f2a0 ┆ advapi32.dll ┆ CryptGetHashParam │\n",
       "└────────────┴────────────┴──────────────┴───────────────────┘"
      ]
     },
     "execution_count": 52,
     "metadata": {},
     "output_type": "execute_result"
    }
   ],
   "source": [
    "iat.head(1)"
   ]
  },
  {
   "cell_type": "code",
   "execution_count": 53,
   "id": "099cfda7",
   "metadata": {},
   "outputs": [
    {
     "data": {
      "text/plain": [
       "(30873, 6)"
      ]
     },
     "execution_count": 53,
     "metadata": {},
     "output_type": "execute_result"
    }
   ],
   "source": [
    "# map with thunk addresses\n",
    "thunks_to_join = thunks.select(pl.col(\"Destination\"), pl.col(\"Call address\").alias(\"thunk address\")).unique(\"Destination\")\n",
    "calls = calls.join(thunks_to_join, on=\"Destination\", how='left')\n",
    "\n",
    "iats_to_join = iat.select(pl.col(\"Address\").alias(\"Destination\"), pl.col(\"Calladdr\").alias(\"iat address\")).unique(\"Destination\")\n",
    "calls = calls.join(iats_to_join, on=\"Destination\", how='left')\n",
    "\n",
    "calls.shape"
   ]
  },
  {
   "cell_type": "code",
   "execution_count": 54,
   "id": "282c93df",
   "metadata": {},
   "outputs": [
    {
     "name": "stdout",
     "output_type": "stream",
     "text": [
      "Unthunked: 1\n",
      "Uniated: 0\n"
     ]
    }
   ],
   "source": [
    "# all calls have their thunk and iat\n",
    "unthunked = calls.filter(pl.col(\"thunk address\").is_null()).shape[0]\n",
    "print('Unthunked:', unthunked)\n",
    "# disabled, since we're binding to IAT now\n",
    "# assert unthunked == 0, unthunked\n",
    "\n",
    "uniated = calls.filter(pl.col(\"iat address\").is_null()).shape[0]\n",
    "print('Uniated:', uniated)\n",
    "assert uniated == 0, uniated"
   ]
  },
  {
   "cell_type": "markdown",
   "id": "f0eb8311",
   "metadata": {},
   "source": [
    "# Patch PE"
   ]
  },
  {
   "cell_type": "code",
   "execution_count": 55,
   "id": "55c3af93",
   "metadata": {},
   "outputs": [],
   "source": [
    "from addr_helpers import hex_to_LE, to_bin, rel_call\n",
    "\n",
    "schema = {\n",
    "    \"patch_addr\": pl.String,\n",
    "    \"mem_old\": pl.String,\n",
    "    \"patch\": pl.String,\n",
    "}"
   ]
  },
  {
   "cell_type": "code",
   "execution_count": 56,
   "id": "b2b37222",
   "metadata": {},
   "outputs": [],
   "source": [
    "def create_thunk(addr: str, dest: str, iat: str, new: bool, real: bool = True) -> pl.DataFrame:\n",
    "    patch_addr = hex(int(addr, 16) + int(new))\n",
    "    naddr = hex(int(addr, 16) + 6) # nop, jmp is 6 bytes\n",
    "    mem_old = 'CC' * 6\n",
    "    if not new:\n",
    "        mem_old = '90E9' + to_bin(rel_call(naddr, dest))\n",
    "    \n",
    "    if real:\n",
    "        patch = 'FF25' + to_bin(hex_to_LE(int(iat, 16)))\n",
    "    else:\n",
    "        patch = '90E9' + to_bin(rel_call(naddr, dest))\n",
    "    \n",
    "    return pl.DataFrame({\n",
    "        \"patch_addr\": patch_addr,\n",
    "        \"mem_old\": mem_old,\n",
    "        \"patch\": patch,\n",
    "    })"
   ]
  },
  {
   "cell_type": "code",
   "execution_count": 57,
   "id": "d780b497",
   "metadata": {},
   "outputs": [
    {
     "name": "stdout",
     "output_type": "stream",
     "text": [
      "(924, 3)\n"
     ]
    }
   ],
   "source": [
    "thunks_patch = pl.DataFrame(schema=schema)\n",
    "\n",
    "for addr, dest, mod, new, iat_addr in thunks.drop(\"is_thunk\", \"Function\").rows():\n",
    "    real = mod is not None\n",
    "    thunks_patch = thunks_patch.vstack(create_thunk(addr, dest, iat_addr, new, real))\n",
    "print(thunks_patch.shape)"
   ]
  },
  {
   "cell_type": "code",
   "execution_count": 58,
   "id": "76864a80",
   "metadata": {},
   "outputs": [
    {
     "data": {
      "text/html": [
       "<div><style>\n",
       ".dataframe > thead > tr,\n",
       ".dataframe > tbody > tr {\n",
       "  text-align: right;\n",
       "  white-space: pre-wrap;\n",
       "}\n",
       "</style>\n",
       "<small>shape: (5, 6)</small><table border=\"1\" class=\"dataframe\"><thead><tr><th>subroutine</th><th>Instruction</th><th>Call address</th><th>Destination</th><th>thunk address</th><th>iat address</th></tr><tr><td>str</td><td>str</td><td>str</td><td>str</td><td>str</td><td>str</td></tr></thead><tbody><tr><td>&quot;-&quot;</td><td>&quot;call&quot;</td><td>&quot;0x8fa44a&quot;</td><td>&quot;0x6f64ccc9&quot;</td><td>&quot;0x14aac16&quot;</td><td>&quot;0x015887F0&quot;</td></tr><tr><td>&quot;-&quot;</td><td>&quot;call&quot;</td><td>&quot;0xe10f2d&quot;</td><td>&quot;0x7639eb00&quot;</td><td>&quot;0xa57892&quot;</td><td>&quot;0x01588314&quot;</td></tr><tr><td>&quot;-&quot;</td><td>&quot;call&quot;</td><td>&quot;0x713789&quot;</td><td>&quot;0x6f61d377&quot;</td><td>&quot;0x14aacb8&quot;</td><td>&quot;0x01588818&quot;</td></tr><tr><td>&quot;-&quot;</td><td>&quot;call&quot;</td><td>&quot;0x9ad745&quot;</td><td>&quot;0x732f5ebb&quot;</td><td>&quot;0xf60c78&quot;</td><td>&quot;0x015884E8&quot;</td></tr><tr><td>&quot;-&quot;</td><td>&quot;call&quot;</td><td>&quot;0x7f5289&quot;</td><td>&quot;0x6f64ccc9&quot;</td><td>&quot;0x14aac16&quot;</td><td>&quot;0x015887F0&quot;</td></tr></tbody></table></div>"
      ],
      "text/plain": [
       "shape: (5, 6)\n",
       "┌────────────┬─────────────┬──────────────┬─────────────┬───────────────┬─────────────┐\n",
       "│ subroutine ┆ Instruction ┆ Call address ┆ Destination ┆ thunk address ┆ iat address │\n",
       "│ ---        ┆ ---         ┆ ---          ┆ ---         ┆ ---           ┆ ---         │\n",
       "│ str        ┆ str         ┆ str          ┆ str         ┆ str           ┆ str         │\n",
       "╞════════════╪═════════════╪══════════════╪═════════════╪═══════════════╪═════════════╡\n",
       "│ -          ┆ call        ┆ 0x8fa44a     ┆ 0x6f64ccc9  ┆ 0x14aac16     ┆ 0x015887F0  │\n",
       "│ -          ┆ call        ┆ 0xe10f2d     ┆ 0x7639eb00  ┆ 0xa57892      ┆ 0x01588314  │\n",
       "│ -          ┆ call        ┆ 0x713789     ┆ 0x6f61d377  ┆ 0x14aacb8     ┆ 0x01588818  │\n",
       "│ -          ┆ call        ┆ 0x9ad745     ┆ 0x732f5ebb  ┆ 0xf60c78      ┆ 0x015884E8  │\n",
       "│ -          ┆ call        ┆ 0x7f5289     ┆ 0x6f64ccc9  ┆ 0x14aac16     ┆ 0x015887F0  │\n",
       "└────────────┴─────────────┴──────────────┴─────────────┴───────────────┴─────────────┘"
      ]
     },
     "execution_count": 58,
     "metadata": {},
     "output_type": "execute_result"
    }
   ],
   "source": [
    "calls.head(5)"
   ]
  },
  {
   "cell_type": "code",
   "execution_count": 59,
   "id": "8f114114",
   "metadata": {},
   "outputs": [
    {
     "data": {
      "text/html": [
       "<div><style>\n",
       ".dataframe > thead > tr,\n",
       ".dataframe > tbody > tr {\n",
       "  text-align: right;\n",
       "  white-space: pre-wrap;\n",
       "}\n",
       "</style>\n",
       "<small>shape: (1, 6)</small><table border=\"1\" class=\"dataframe\"><thead><tr><th>subroutine</th><th>Instruction</th><th>Call address</th><th>Destination</th><th>thunk address</th><th>iat address</th></tr><tr><td>str</td><td>str</td><td>str</td><td>str</td><td>str</td><td>str</td></tr></thead><tbody><tr><td>&quot;-&quot;</td><td>&quot;call&quot;</td><td>&quot;0x6f6be9&quot;</td><td>&quot;0x732f7149&quot;</td><td>&quot;0xf60c90&quot;</td><td>&quot;0x01588394&quot;</td></tr></tbody></table></div>"
      ],
      "text/plain": [
       "shape: (1, 6)\n",
       "┌────────────┬─────────────┬──────────────┬─────────────┬───────────────┬─────────────┐\n",
       "│ subroutine ┆ Instruction ┆ Call address ┆ Destination ┆ thunk address ┆ iat address │\n",
       "│ ---        ┆ ---         ┆ ---          ┆ ---         ┆ ---           ┆ ---         │\n",
       "│ str        ┆ str         ┆ str          ┆ str         ┆ str           ┆ str         │\n",
       "╞════════════╪═════════════╪══════════════╪═════════════╪═══════════════╪═════════════╡\n",
       "│ -          ┆ call        ┆ 0x6f6be9     ┆ 0x732f7149  ┆ 0xf60c90      ┆ 0x01588394  │\n",
       "└────────────┴─────────────┴──────────────┴─────────────┴───────────────┴─────────────┘"
      ]
     },
     "execution_count": 59,
     "metadata": {},
     "output_type": "execute_result"
    }
   ],
   "source": [
    "calls.filter(pl.col(\"Call address\").is_in([\"0x6f6be9\"]))"
   ]
  },
  {
   "cell_type": "code",
   "execution_count": 60,
   "id": "9eb9db54",
   "metadata": {},
   "outputs": [
    {
     "name": "stderr",
     "output_type": "stream",
     "text": [
      "  0%|          | 0/30873 [00:00<?, ?it/s]"
     ]
    },
    {
     "name": "stderr",
     "output_type": "stream",
     "text": [
      "100%|██████████| 30873/30873 [00:00<00:00, 190816.78it/s]\n"
     ]
    },
    {
     "data": {
      "text/plain": [
       "(30873, 3)"
      ]
     },
     "execution_count": 60,
     "metadata": {},
     "output_type": "execute_result"
    }
   ],
   "source": [
    "patch_data = []\n",
    "\n",
    "for call in tqdm(calls.rows()):\n",
    "    sub, inst, addr, dest, thunk_addr, iat_addr = call\n",
    "\n",
    "    if thunk_addr:\n",
    "        thunk_addr = hex(int(thunk_addr, 16) - 1)\n",
    "\n",
    "    naddr = hex(int(addr, 16) + 6)  # both nop, call and call, nop are 6-bytes\n",
    "    if inst[-1] == \"2\":\n",
    "        oaddr = hex(int(addr, 16) + 6)  # call, nop, in this case, jump starts from nop\n",
    "    else:\n",
    "        oaddr = naddr  # nop, call, in this case, jump starts from next instruction\n",
    "\n",
    "    dest_rbin = to_bin(rel_call(oaddr, dest))  # rel32\n",
    "    # thunk_bin = to_bin(rel_call(naddr, hex(int(thunk_addr, 16) - 5))) # TODO: wtf - 5?\n",
    "    iat_rbin = to_bin(rel_call(naddr, iat_addr))  # rel32\n",
    "    iat_bin = to_bin(hex_to_LE(int(iat_addr, 16)))  # imm32\n",
    "\n",
    "    # Determine opcode based on instruction\n",
    "    match inst:\n",
    "        case \"call\":\n",
    "            mem_old = \"90E8\" + dest_rbin\n",
    "            patch = \"FF15\" + iat_bin\n",
    "        case \"jmp\":\n",
    "            mem_old = \"90E9\" + dest_rbin\n",
    "            patch = \"FF25\" + iat_bin\n",
    "            # raise RuntimeError(\"Shouldn't patch jumps for now\")\n",
    "        case _:\n",
    "            raise RuntimeError(f\"Unsupported instruction {inst}\")\n",
    "\n",
    "    patch_data.append(\n",
    "        {\n",
    "            \"patch_addr\": addr,\n",
    "            \"mem_old\": mem_old,\n",
    "            \"patch\": patch,\n",
    "        }\n",
    "    )\n",
    "\n",
    "# Create DataFrame in one operation\n",
    "calls_patch = pl.DataFrame(patch_data, schema=schema).sort(\"patch_addr\")\n",
    "calls_patch.shape"
   ]
  },
  {
   "cell_type": "code",
   "execution_count": 61,
   "id": "1cd98337",
   "metadata": {},
   "outputs": [],
   "source": [
    "thunks_patch.write_csv(patch_thunks_p)\n",
    "calls_patch.write_csv(patch_calls_p)"
   ]
  },
  {
   "cell_type": "markdown",
   "id": "525f9c4d",
   "metadata": {},
   "source": [
    "Now run ida_patch.py script in IDA Pro and apply changes"
   ]
  }
 ],
 "metadata": {
  "kernelspec": {
   "display_name": ".venv",
   "language": "python",
   "name": "python3"
  },
  "language_info": {
   "codemirror_mode": {
    "name": "ipython",
    "version": 3
   },
   "file_extension": ".py",
   "mimetype": "text/x-python",
   "name": "python",
   "nbconvert_exporter": "python",
   "pygments_lexer": "ipython3",
   "version": "3.12.10"
  }
 },
 "nbformat": 4,
 "nbformat_minor": 5
}
