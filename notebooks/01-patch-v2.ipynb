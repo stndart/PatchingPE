{
 "cells": [
  {
   "cell_type": "code",
   "execution_count": 1,
   "id": "481f0a04",
   "metadata": {},
   "outputs": [],
   "source": [
    "import os\n",
    "import shutil\n",
    "from pathlib import Path\n",
    "\n",
    "import lief\n",
    "from tqdm import tqdm\n",
    "import pefile\n",
    "import polars as pl\n",
    "from dotenv import load_dotenv"
   ]
  },
  {
   "cell_type": "markdown",
   "id": "a8821527",
   "metadata": {},
   "source": [
    "# Paths"
   ]
  },
  {
   "cell_type": "code",
   "execution_count": 2,
   "id": "25958747",
   "metadata": {},
   "outputs": [],
   "source": [
    "# imports csv\n",
    "base = Path(\"../game-dump/dumps\")\n",
    "base_patch = Path(\"../game-dump/patches\")\n",
    "\n",
    "dump_imports_p = base / \"dump-imports.csv\"\n",
    "old_iat_p = base / \"old-iat.csv\"\n",
    "byte_calls_p = base / \"broken-byte-calls.csv\"\n",
    "inst_calls_p = base / \"broken-analyzed-calls.csv\""
   ]
  },
  {
   "cell_type": "code",
   "execution_count": 3,
   "id": "13955441",
   "metadata": {},
   "outputs": [],
   "source": [
    "# exports csv\n",
    "patch_thunks_p = base_patch / \"thunks_patch.csv\"\n",
    "patch_calls_p = base_patch / \"calls_patch.csv\""
   ]
  },
  {
   "cell_type": "code",
   "execution_count": 4,
   "id": "593391f4",
   "metadata": {},
   "outputs": [],
   "source": [
    "names_map_p = \"../game-dump/names-map.csv\"\n",
    "names_map = pl.read_csv(names_map_p)"
   ]
  },
  {
   "cell_type": "code",
   "execution_count": 5,
   "id": "ba0b2cba",
   "metadata": {},
   "outputs": [],
   "source": [
    "load_dotenv(Path(os.path.abspath('')).parent / \".env\")\n",
    "base_to_exe = Path(os.getenv(\"BASE_TO_EXE\", \"./\"))\n",
    "original_dump_path = base_to_exe / \"GAME_dump.exe\"\n",
    "patched_path = base_to_exe / \"GAME_patched.exe\""
   ]
  },
  {
   "cell_type": "markdown",
   "id": "528a06d9",
   "metadata": {},
   "source": [
    "# Parsing import table"
   ]
  },
  {
   "cell_type": "code",
   "execution_count": 6,
   "id": "1b0322cf",
   "metadata": {},
   "outputs": [],
   "source": [
    "dump_imports = pl.read_csv(dump_imports_p).filter(pl.col(\"Module\") != \"game.exe\")"
   ]
  },
  {
   "cell_type": "code",
   "execution_count": 7,
   "id": "a9ff7f4c",
   "metadata": {},
   "outputs": [],
   "source": [
    "dump_imports = dump_imports.with_columns(pl.col(\"Function\").str.replace_all(\" \", \"\").str.slice(0,200))\n",
    "names_map = names_map.with_columns(\n",
    "    pl.col(\"undecorated\").str.replace_all(\" \", \"\").str.slice(0,200)\n",
    ")\n",
    "\n",
    "dump_imports = dump_imports.join(names_map, left_on=\"Function\", right_on=\"undecorated\", how=\"left\").with_columns(\n",
    "    pl.coalesce(\"decorated\", \"Function\").alias(\"Function\")\n",
    ").drop(\"decorated\")"
   ]
  },
  {
   "cell_type": "code",
   "execution_count": 8,
   "id": "8832c31b",
   "metadata": {},
   "outputs": [],
   "source": [
    "dump_imports = dump_imports.with_columns((\"0x\" + pl.col(\"Address\").str.to_lowercase()).alias(\"Address\"))\n",
    "dump_imports = dump_imports.unique(\"Address\", keep='first').sort(\"Address\")"
   ]
  },
  {
   "cell_type": "code",
   "execution_count": 9,
   "id": "764ca097",
   "metadata": {},
   "outputs": [
    {
     "data": {
      "text/html": [
       "<div><style>\n",
       ".dataframe > thead > tr,\n",
       ".dataframe > tbody > tr {\n",
       "  text-align: right;\n",
       "  white-space: pre-wrap;\n",
       "}\n",
       "</style>\n",
       "<small>shape: (5, 3)</small><table border=\"1\" class=\"dataframe\"><thead><tr><th>Module</th><th>Address</th><th>Function</th></tr><tr><td>str</td><td>str</td><td>str</td></tr></thead><tbody><tr><td>&quot;xinput9_1_0.dll&quot;</td><td>&quot;0x06d42730&quot;</td><td>&quot;DllMain&quot;</td></tr><tr><td>&quot;xinput9_1_0.dll&quot;</td><td>&quot;0x06d42980&quot;</td><td>&quot;XInputGetState&quot;</td></tr><tr><td>&quot;xinput9_1_0.dll&quot;</td><td>&quot;0x06d42b60&quot;</td><td>&quot;XInputSetState&quot;</td></tr><tr><td>&quot;xinput9_1_0.dll&quot;</td><td>&quot;0x06d42cd0&quot;</td><td>&quot;XInputGetCapabilities&quot;</td></tr><tr><td>&quot;xinput9_1_0.dll&quot;</td><td>&quot;0x06d42ea0&quot;</td><td>&quot;XInputGetDSoundAudioDeviceGuid…</td></tr></tbody></table></div>"
      ],
      "text/plain": [
       "shape: (5, 3)\n",
       "┌─────────────────┬────────────┬─────────────────────────────────┐\n",
       "│ Module          ┆ Address    ┆ Function                        │\n",
       "│ ---             ┆ ---        ┆ ---                             │\n",
       "│ str             ┆ str        ┆ str                             │\n",
       "╞═════════════════╪════════════╪═════════════════════════════════╡\n",
       "│ xinput9_1_0.dll ┆ 0x06d42730 ┆ DllMain                         │\n",
       "│ xinput9_1_0.dll ┆ 0x06d42980 ┆ XInputGetState                  │\n",
       "│ xinput9_1_0.dll ┆ 0x06d42b60 ┆ XInputSetState                  │\n",
       "│ xinput9_1_0.dll ┆ 0x06d42cd0 ┆ XInputGetCapabilities           │\n",
       "│ xinput9_1_0.dll ┆ 0x06d42ea0 ┆ XInputGetDSoundAudioDeviceGuid… │\n",
       "└─────────────────┴────────────┴─────────────────────────────────┘"
      ]
     },
     "execution_count": 9,
     "metadata": {},
     "output_type": "execute_result"
    }
   ],
   "source": [
    "dump_imports.head()"
   ]
  },
  {
   "cell_type": "markdown",
   "id": "61babda1",
   "metadata": {},
   "source": [
    "# Gathering imports from old IAT"
   ]
  },
  {
   "cell_type": "code",
   "execution_count": 10,
   "id": "16db17a1",
   "metadata": {},
   "outputs": [],
   "source": [
    "iat = pl.read_csv(old_iat_p)\n",
    "\n",
    "iat = iat.rename({\"Address\": \"Calladdr\", \"Destination\": \"Address\"})\n",
    "iat = iat.with_columns((\"0x\" + pl.col(\"Address\").str.to_lowercase()).alias(\"Address\"))\n",
    "\n",
    "iat = iat.join(dump_imports, on='Address', how='left')"
   ]
  },
  {
   "cell_type": "code",
   "execution_count": 11,
   "id": "46bb8731",
   "metadata": {},
   "outputs": [
    {
     "data": {
      "text/html": [
       "<div><style>\n",
       ".dataframe > thead > tr,\n",
       ".dataframe > tbody > tr {\n",
       "  text-align: right;\n",
       "  white-space: pre-wrap;\n",
       "}\n",
       "</style>\n",
       "<small>shape: (1, 4)</small><table border=\"1\" class=\"dataframe\"><thead><tr><th>Calladdr</th><th>Address</th><th>Module</th><th>Function</th></tr><tr><td>str</td><td>str</td><td>str</td><td>str</td></tr></thead><tbody><tr><td>&quot;0x01588AB0&quot;</td><td>&quot;0x023e3673&quot;</td><td>null</td><td>null</td></tr></tbody></table></div>"
      ],
      "text/plain": [
       "shape: (1, 4)\n",
       "┌────────────┬────────────┬────────┬──────────┐\n",
       "│ Calladdr   ┆ Address    ┆ Module ┆ Function │\n",
       "│ ---        ┆ ---        ┆ ---    ┆ ---      │\n",
       "│ str        ┆ str        ┆ str    ┆ str      │\n",
       "╞════════════╪════════════╪════════╪══════════╡\n",
       "│ 0x01588AB0 ┆ 0x023e3673 ┆ null   ┆ null     │\n",
       "└────────────┴────────────┴────────┴──────────┘"
      ]
     },
     "execution_count": 11,
     "metadata": {},
     "output_type": "execute_result"
    }
   ],
   "source": [
    "iat2 = iat.filter(pl.col(\"Function\").is_null())\n",
    "iat2 = iat2.filter(pl.col(\"Address\").str.slice(2).str.to_integer(base=16) != 0)\n",
    "iat2"
   ]
  },
  {
   "cell_type": "markdown",
   "id": "30eaa06f",
   "metadata": {},
   "source": [
    "<0x023e3673> points to an intermediate call which i believe, is an obfuscated jump to user32.dll!wsprintfA"
   ]
  },
  {
   "cell_type": "markdown",
   "id": "02395501",
   "metadata": {},
   "source": [
    "Cancel forwarding imports (e.g. kernel32.dll,AllocateHeap -> ntdll.dll,RtlReAllocateHeap)"
   ]
  },
  {
   "cell_type": "code",
   "execution_count": 12,
   "id": "8b7e9e02",
   "metadata": {},
   "outputs": [
    {
     "name": "stdout",
     "output_type": "stream",
     "text": [
      "For kernel32.dll there are 12 forwards\n",
      "For user32.dll there are 2 forwards\n"
     ]
    }
   ],
   "source": [
    "systemroot = \"C:/Windows/System32/\"\n",
    "forwarding_modules = [\"kernel32.dll\", \"user32.dll\"]\n",
    "\n",
    "unforward_map: dict[str, tuple[str, str]] = dict()\n",
    "\n",
    "forwarded = iat.filter(pl.col(\"Module\") == \"ntdll.dll\")\n",
    "\n",
    "for modname in forwarding_modules:\n",
    "    modpath = systemroot + modname\n",
    "    number = 0\n",
    "\n",
    "    dll = pefile.PE(modpath)\n",
    "    dll.full_load()\n",
    "    for exp in dll.DIRECTORY_ENTRY_EXPORT.symbols:\n",
    "        name = exp.name.decode() if exp.name else f\"Ordinal#{exp.ordinal}\"\n",
    "        forward_to = ''\n",
    "        if exp.forwarder:\n",
    "            forward_to = exp.forwarder.decode().removeprefix(\"NTDLL.\")\n",
    "        if forwarded.filter(pl.col(\"Function\") == forward_to).shape[0] > 0:\n",
    "            number += 1\n",
    "            unforward_map[forward_to] = (modname, name)\n",
    "    \n",
    "    print(f'For {modname} there are {number} forwards')"
   ]
  },
  {
   "cell_type": "code",
   "execution_count": 13,
   "id": "c55f549d",
   "metadata": {},
   "outputs": [
    {
     "name": "stdout",
     "output_type": "stream",
     "text": [
      "RtlInitializeCriticalSection kernel32.dll InitializeCriticalSection\n"
     ]
    }
   ],
   "source": [
    "for func in iat.filter(pl.col(\"Module\") == \"ntdll.dll\")[\"Function\"]:\n",
    "    if func not in unforward_map:\n",
    "        print(f\"Func {func} from ntdll.dll is not found in forward map\")\n",
    "        continue\n",
    "\n",
    "    origmod, origfunc = unforward_map[func]\n",
    "\n",
    "    if \"InitializeCrit\" in func:\n",
    "        print(func, origmod, origfunc)\n",
    "\n",
    "    condition = (pl.col(\"Module\") == \"ntdll.dll\") & (pl.col(\"Function\") == func)\n",
    "    iat = iat.with_columns(\n",
    "        [\n",
    "            pl.when(condition)\n",
    "            .then(pl.lit(origmod))\n",
    "            .otherwise(\"Module\")\n",
    "            .alias(\"Module\"),\n",
    "            pl.when(condition)\n",
    "            .then(pl.lit(origfunc))\n",
    "            .otherwise(\"Function\")\n",
    "            .alias(\"Function\"),\n",
    "        ]\n",
    "    )"
   ]
  },
  {
   "cell_type": "code",
   "execution_count": 14,
   "id": "a1be213f",
   "metadata": {},
   "outputs": [],
   "source": [
    "iat.write_csv(str(old_iat_p) + '2.csv')"
   ]
  },
  {
   "cell_type": "code",
   "execution_count": 15,
   "id": "370dc843",
   "metadata": {},
   "outputs": [],
   "source": [
    "iat_seg = (\n",
    "    iat.sort(\"Calladdr\").fill_null(\"\")\n",
    "    .with_columns(\n",
    "        (pl.col(\"Module\") != pl.col(\"Module\").shift(1)).cum_sum().alias(\"segment_id\")\n",
    "    )\n",
    "    .fill_null(0)\n",
    "    .filter(pl.col(\"Address\").str.slice(2).str.to_integer(base=16) != 0)\n",
    "    .filter(pl.col(\"Module\") != '')\n",
    ")\n",
    "segments = [group.drop(\"segment_id\") for _, group in iat_seg.group_by(\"segment_id\", maintain_order=True)]"
   ]
  },
  {
   "cell_type": "code",
   "execution_count": 16,
   "id": "d3533e7d",
   "metadata": {},
   "outputs": [
    {
     "data": {
      "text/html": [
       "<div><style>\n",
       ".dataframe > thead > tr,\n",
       ".dataframe > tbody > tr {\n",
       "  text-align: right;\n",
       "  white-space: pre-wrap;\n",
       "}\n",
       "</style>\n",
       "<small>shape: (1, 4)</small><table border=\"1\" class=\"dataframe\"><thead><tr><th>Calladdr</th><th>Address</th><th>Module</th><th>Function</th></tr><tr><td>str</td><td>str</td><td>str</td><td>str</td></tr></thead><tbody><tr><td>&quot;0x01588AB0&quot;</td><td>&quot;0x023e3673&quot;</td><td>null</td><td>null</td></tr></tbody></table></div>"
      ],
      "text/plain": [
       "shape: (1, 4)\n",
       "┌────────────┬────────────┬────────┬──────────┐\n",
       "│ Calladdr   ┆ Address    ┆ Module ┆ Function │\n",
       "│ ---        ┆ ---        ┆ ---    ┆ ---      │\n",
       "│ str        ┆ str        ┆ str    ┆ str      │\n",
       "╞════════════╪════════════╪════════╪══════════╡\n",
       "│ 0x01588AB0 ┆ 0x023e3673 ┆ null   ┆ null     │\n",
       "└────────────┴────────────┴────────┴──────────┘"
      ]
     },
     "execution_count": 16,
     "metadata": {},
     "output_type": "execute_result"
    }
   ],
   "source": [
    "# extract obfuscated imports for later\n",
    "obfuscated = iat.filter(pl.col(\"Module\").is_null()).filter(pl.col(\"Address\").str.slice(2).str.to_integer(base=16) != 0)\n",
    "obfuscated"
   ]
  },
  {
   "cell_type": "code",
   "execution_count": 17,
   "id": "460ae6b0",
   "metadata": {},
   "outputs": [
    {
     "name": "stdout",
     "output_type": "stream",
     "text": [
      "Filtered out 887/923 iat entries\n"
     ]
    }
   ],
   "source": [
    "# remove gaps and one obfuscated import\n",
    "w = iat.shape[0]\n",
    "iat = iat.filter(pl.col(\"Module\").is_not_null())\n",
    "print(f\"Filtered out {iat.shape[0]}/{w} iat entries\")"
   ]
  },
  {
   "cell_type": "code",
   "execution_count": 18,
   "id": "8b5753e0",
   "metadata": {},
   "outputs": [],
   "source": [
    "# confirm all names are decorated\n",
    "assert iat.filter(pl.col(\"Function\").str.contains(\"public\")).shape[0] == 0"
   ]
  },
  {
   "cell_type": "markdown",
   "id": "6cf1067b",
   "metadata": {},
   "source": [
    "# Constructing new IDT"
   ]
  },
  {
   "cell_type": "code",
   "execution_count": 19,
   "id": "8c82b3eb",
   "metadata": {},
   "outputs": [],
   "source": [
    "shutil.copy(original_dump_path, patched_path)\n",
    "\n",
    "pe_lief = lief.PE.parse(patched_path)\n",
    "pe_lief.remove_all_imports()"
   ]
  },
  {
   "cell_type": "code",
   "execution_count": 20,
   "id": "f4df9fcc",
   "metadata": {},
   "outputs": [],
   "source": [
    "def create_32bit_ordinal_import(ordinal_number: int) -> lief.PE.ImportEntry:\n",
    "    \"\"\"\n",
    "    Create a 32-bit import by ordinal\n",
    "\n",
    "    Args:\n",
    "        ordinal_number: The ordinal number (0-65535)\n",
    "    \"\"\"\n",
    "    # Validate ordinal range\n",
    "    if ordinal_number < 0 or ordinal_number > 0xFFFF:\n",
    "        raise ValueError(\"Ordinal number must be between 0 and 65535\")\n",
    "\n",
    "    # For 32-bit PE:\n",
    "    # - Set bit 31 to 1 (0x80000000)\n",
    "    # - Bits 30-16 must be 0\n",
    "    # - Bits 15-0 contain the ordinal\n",
    "    ORDINAL_MASK_32 = 0x80000000\n",
    "    data_value = ORDINAL_MASK_32 | ordinal_number\n",
    "\n",
    "    # Create the import entry\n",
    "    entry = lief.PE.ImportEntry(data_value, lief.PE.PE_TYPE.PE32)\n",
    "\n",
    "    return entry"
   ]
  },
  {
   "cell_type": "markdown",
   "id": "189b9d6f",
   "metadata": {},
   "source": [
    "Creates brand new IDT with new IAT and ILT"
   ]
  },
  {
   "cell_type": "code",
   "execution_count": 21,
   "id": "e11d7936",
   "metadata": {},
   "outputs": [],
   "source": [
    "for seg in segments:\n",
    "    dll = seg['Module'][0]\n",
    "    if dll is None or dll == '':\n",
    "        continue\n",
    "\n",
    "    mod = pe_lief.add_import(dll)\n",
    "    for calladdr, _, _, func in seg.rows():\n",
    "        if func.startswith('Ordinal#'):\n",
    "            ordinal = int(func.removeprefix(\"Ordinal#\"))\n",
    "            entry = create_32bit_ordinal_import(ordinal)\n",
    "        else:\n",
    "            entry = lief.PE.ImportEntry(func)\n",
    "        mod.add_entry(entry)"
   ]
  },
  {
   "cell_type": "code",
   "execution_count": 22,
   "id": "60798d4a",
   "metadata": {},
   "outputs": [
    {
     "name": "stderr",
     "output_type": "stream",
     "text": [
      "Can't find section with the rva: 0x0\n"
     ]
    }
   ],
   "source": [
    "config = lief.PE.Builder.config_t()\n",
    "config.imports = True\n",
    "\n",
    "bb = lief.PE.Builder(pe_lief, config)\n",
    "bb.build()\n",
    "bb.write(str(patched_path))"
   ]
  },
  {
   "cell_type": "markdown",
   "id": "b58b181f",
   "metadata": {},
   "source": [
    "Reset IAT to the old IAT address"
   ]
  },
  {
   "cell_type": "code",
   "execution_count": 23,
   "id": "1be5ba63",
   "metadata": {},
   "outputs": [],
   "source": [
    "pe = pefile.PE(patched_path)\n",
    "pe.full_load()"
   ]
  },
  {
   "cell_type": "code",
   "execution_count": 24,
   "id": "65856e00",
   "metadata": {},
   "outputs": [],
   "source": [
    "assert len(pe.DIRECTORY_ENTRY_IMPORT) == len(segments), \"Change the MAX_REPEATED_ADDRESSES to >20\""
   ]
  },
  {
   "cell_type": "code",
   "execution_count": 25,
   "id": "89263bd0",
   "metadata": {},
   "outputs": [],
   "source": [
    "for i, seg in enumerate(segments):\n",
    "    first_thunk = int(seg[\"Calladdr\"][0], 16)\n",
    "\n",
    "    pe.DIRECTORY_ENTRY_IMPORT[i].struct.FirstThunk = (\n",
    "        first_thunk - pe.OPTIONAL_HEADER.ImageBase\n",
    "    )"
   ]
  },
  {
   "cell_type": "code",
   "execution_count": 26,
   "id": "37ac88ff",
   "metadata": {},
   "outputs": [
    {
     "data": {
      "text/plain": [
       "WindowsPath('C:/Games/FA-EMU/Shipping/GAME_patched.exe')"
      ]
     },
     "execution_count": 26,
     "metadata": {},
     "output_type": "execute_result"
    }
   ],
   "source": [
    "temp = \"exe.exe\"\n",
    "pe.write(filename=temp)\n",
    "pe.close()\n",
    "shutil.move(temp, patched_path)"
   ]
  },
  {
   "cell_type": "markdown",
   "id": "e5c29dc3",
   "metadata": {},
   "source": [
    "# Fix thunks"
   ]
  },
  {
   "cell_type": "markdown",
   "id": "5200d894",
   "metadata": {},
   "source": [
    "Suspect thunks are searched via <e9 ? ? ? ?> wildcard"
   ]
  },
  {
   "cell_type": "code",
   "execution_count": 27,
   "id": "c3017ff0",
   "metadata": {},
   "outputs": [
    {
     "data": {
      "text/plain": [
       "(4246, 3)"
      ]
     },
     "execution_count": 27,
     "metadata": {},
     "output_type": "execute_result"
    }
   ],
   "source": [
    "thunks = pl.read_csv(byte_calls_p)\n",
    "thunks = thunks.filter(pl.col(\"Instruction\") == \"jmp\")\n",
    "thunks = thunks.with_columns(pl.col(\"Call address\").str.slice(2).str.to_integer(base=16).alias(\"Int_addr\"))\n",
    "thunks = thunks.drop('subroutine', 'Instruction', 'Resolved name')\n",
    "thunks.shape"
   ]
  },
  {
   "cell_type": "code",
   "execution_count": 28,
   "id": "842ae605",
   "metadata": {},
   "outputs": [
    {
     "name": "stdout",
     "output_type": "stream",
     "text": [
      "(3234, 3)\n"
     ]
    }
   ],
   "source": [
    "valid_addresses = set(dump_imports[\"Address\"].to_list())\n",
    "thunks = thunks.filter(pl.col(\"Destination\").is_in(valid_addresses))\n",
    "print(thunks.shape)"
   ]
  },
  {
   "cell_type": "markdown",
   "id": "74452d93",
   "metadata": {},
   "source": [
    "jmp is considered a thunk as long as it has at least two neighbouring jmps. Both neighbours would be counted as thunks as well."
   ]
  },
  {
   "cell_type": "code",
   "execution_count": 29,
   "id": "1132f919",
   "metadata": {},
   "outputs": [
    {
     "data": {
      "text/plain": [
       "868"
      ]
     },
     "execution_count": 29,
     "metadata": {},
     "output_type": "execute_result"
    }
   ],
   "source": [
    "get_addr = pl.col(\"Call address\").str.slice(2).str.to_integer(base=16)\n",
    "is_prev = pl.col(\"Int_addr\").shift(1) + 6 == pl.col(\"Int_addr\")\n",
    "is_next = pl.col(\"Int_addr\").shift(-1) - 6 == pl.col(\"Int_addr\")\n",
    "\n",
    "# thunks = thunks.with_columns([is_prev.alias('is_prev'), is_next.alias('is_next')])\n",
    "\n",
    "thunks = thunks.with_columns(get_addr.alias(\"Int_addr\"))\n",
    "thunks = thunks.with_columns((is_next & is_prev).alias(\"is_thunk\"))\n",
    "thunks = thunks.with_columns(pl.col(\"is_thunk\") | pl.col(\"is_thunk\").shift(1) | pl.col(\"is_thunk\").shift(-1))\n",
    "thunks.filter(\"is_thunk\").shape[0]"
   ]
  },
  {
   "cell_type": "code",
   "execution_count": 30,
   "id": "191ea511",
   "metadata": {},
   "outputs": [],
   "source": [
    "# additional thunks\n",
    "thunks = thunks.with_columns(pl.col(\"is_thunk\") | (pl.col(\"Call address\") == \"0x14aaadb\"))\n",
    "thunks = thunks.with_columns(pl.col(\"is_thunk\") | (pl.col(\"Call address\") == \"0x14aaad5\"))\n",
    "\n",
    "thunks = thunks.with_columns(pl.col(\"is_thunk\") | (pl.col(\"Call address\") == \"0x14aa9f5\"))\n",
    "thunks = thunks.with_columns(pl.col(\"is_thunk\") | (pl.col(\"Call address\") == \"0x14aa9fb\"))\n",
    "\n",
    "thunks = thunks.with_columns(pl.col(\"is_thunk\") | (pl.col(\"Call address\") == \"0x14aab3d\"))\n",
    "\n",
    "thunks = thunks.with_columns(pl.col(\"is_thunk\") | (pl.col(\"Call address\") == \"0x14ab35d\"))\n",
    "thunks = thunks.with_columns(pl.col(\"is_thunk\") | (pl.col(\"Call address\") == \"0x14ab363\"))\n",
    "\n",
    "thunks = thunks.with_columns(pl.col(\"is_thunk\") | (pl.col(\"Call address\") == \"0x14ab405\"))\n",
    "thunks = thunks.with_columns(pl.col(\"is_thunk\") | (pl.col(\"Call address\") == \"0x14ab40b\"))\n",
    "\n",
    "thunks = thunks.with_columns(pl.col(\"is_thunk\") | (pl.col(\"Call address\") == \"0x14ab767\"))\n",
    "thunks = thunks.with_columns(pl.col(\"is_thunk\") | (pl.col(\"Call address\") == \"0x14ab76d\"))\n",
    "\n",
    "thunks = thunks.with_columns(pl.col(\"is_thunk\") | (pl.col(\"Call address\") == \"0x14abc33\"))\n",
    "thunks = thunks.with_columns(pl.col(\"is_thunk\") | (pl.col(\"Call address\") == \"0x14abc39\"))\n",
    "\n",
    "thunks = thunks.with_columns(pl.col(\"is_thunk\") | (pl.col(\"Call address\") == \"0x14abe61\"))\n",
    "\n",
    "thunks = thunks.with_columns(pl.col(\"is_thunk\") | (pl.col(\"Call address\") == \"0xcedcb1\"))\n",
    "\n",
    "thunks = thunks.with_columns(pl.col(\"is_thunk\") | (pl.col(\"Call address\") == \"0xcedcf1\"))"
   ]
  },
  {
   "cell_type": "code",
   "execution_count": 31,
   "id": "febf2ef4",
   "metadata": {},
   "outputs": [
    {
     "name": "stdout",
     "output_type": "stream",
     "text": [
      "Found 870 thunks and 874 imports\n"
     ]
    }
   ],
   "source": [
    "thunks = thunks.filter(\"is_thunk\").drop(\"Int_addr\")\n",
    "print(f\"Found {thunks.filter(\"is_thunk\").unique(\"Destination\").shape[0]} thunks and {iat.unique(\"Address\").shape[0]} imports\")"
   ]
  },
  {
   "cell_type": "code",
   "execution_count": 32,
   "id": "0a3b5cb8",
   "metadata": {},
   "outputs": [
    {
     "data": {
      "text/html": [
       "<div><style>\n",
       ".dataframe > thead > tr,\n",
       ".dataframe > tbody > tr {\n",
       "  text-align: right;\n",
       "  white-space: pre-wrap;\n",
       "}\n",
       "</style>\n",
       "<small>shape: (3, 5)</small><table border=\"1\" class=\"dataframe\"><thead><tr><th>Call address</th><th>Destination</th><th>is_thunk</th><th>Module</th><th>Function</th></tr><tr><td>str</td><td>str</td><td>bool</td><td>str</td><td>str</td></tr></thead><tbody><tr><td>&quot;0xa577e5&quot;</td><td>&quot;0x7358b730&quot;</td><td>true</td><td>&quot;umbraoptimizer32.dll&quot;</td><td>&quot;?getOptimizerInfoValue@Umbra@@…</td></tr><tr><td>&quot;0xa577eb&quot;</td><td>&quot;0x7358cbb0&quot;</td><td>true</td><td>&quot;umbraoptimizer32.dll&quot;</td><td>&quot;?insertObject@Scene@Umbra@@QAE…</td></tr><tr><td>&quot;0xa577f1&quot;</td><td>&quot;0x7358dbd0&quot;</td><td>true</td><td>&quot;umbraoptimizer32.dll&quot;</td><td>&quot;?insertModel@Scene@Umbra@@QAEP…</td></tr></tbody></table></div>"
      ],
      "text/plain": [
       "shape: (3, 5)\n",
       "┌──────────────┬─────────────┬──────────┬──────────────────────┬─────────────────────────────────┐\n",
       "│ Call address ┆ Destination ┆ is_thunk ┆ Module               ┆ Function                        │\n",
       "│ ---          ┆ ---         ┆ ---      ┆ ---                  ┆ ---                             │\n",
       "│ str          ┆ str         ┆ bool     ┆ str                  ┆ str                             │\n",
       "╞══════════════╪═════════════╪══════════╪══════════════════════╪═════════════════════════════════╡\n",
       "│ 0xa577e5     ┆ 0x7358b730  ┆ true     ┆ umbraoptimizer32.dll ┆ ?getOptimizerInfoValue@Umbra@@… │\n",
       "│ 0xa577eb     ┆ 0x7358cbb0  ┆ true     ┆ umbraoptimizer32.dll ┆ ?insertObject@Scene@Umbra@@QAE… │\n",
       "│ 0xa577f1     ┆ 0x7358dbd0  ┆ true     ┆ umbraoptimizer32.dll ┆ ?insertModel@Scene@Umbra@@QAEP… │\n",
       "└──────────────┴─────────────┴──────────┴──────────────────────┴─────────────────────────────────┘"
      ]
     },
     "execution_count": 32,
     "metadata": {},
     "output_type": "execute_result"
    }
   ],
   "source": [
    "thunks = thunks.join(iat.select(\"Module\", \"Function\", \"Address\"), left_on=\"Destination\", right_on=\"Address\", how='left')\n",
    "thunks.head(3)"
   ]
  },
  {
   "cell_type": "code",
   "execution_count": 33,
   "id": "c2701b49",
   "metadata": {},
   "outputs": [],
   "source": [
    "# For the rest, we'll create new thunks\n",
    "\n",
    "available_thunk_places = [\n",
    "    [\"0x014AB2A4\", 12],\n",
    "    [\"0x014AB368\", 8],\n",
    "    [\"0x014AB3C2\", 14],\n",
    "    [\"0x014AB5B6\", 10],\n",
    "    [\"0x014AB602\", 14],\n",
    "]\n",
    "\n",
    "def find_next_addr(size: int = 6) -> str | None:\n",
    "    global available_thunk_places\n",
    "    for i in range(len(available_thunk_places)):\n",
    "        e = available_thunk_places[i]\n",
    "        if e[1] >= size:\n",
    "            e[1] -= size\n",
    "            retval = int(e[0], 16)\n",
    "            e[0] = hex(retval + size)\n",
    "            return hex(retval)\n",
    "    return None"
   ]
  },
  {
   "cell_type": "code",
   "execution_count": 34,
   "id": "6cb21d46",
   "metadata": {},
   "outputs": [
    {
     "name": "stdout",
     "output_type": "stream",
     "text": [
      "Using 0x14ab2a4 to place a new thunk to 0x6f67ba2c\n",
      "Using 0x14ab2aa to place a new thunk to 0x6f64ce5a\n",
      "Using 0x14ab368 to place a new thunk to 0x023e3673\n",
      "Using 0x14ab3c2 to place a new thunk to 0x6f67c618\n",
      "Using 0x14ab3c8 to place a new thunk to 0x732f132c\n",
      "(923, 6)\n"
     ]
    }
   ],
   "source": [
    "to_thunk = iat.vstack(obfuscated)\n",
    "unfound = to_thunk.filter(\n",
    "    ~pl.col(\"Address\").is_in(thunks.filter(\"is_thunk\")[\"Destination\"].to_list())\n",
    ").unique(\"Address\")\n",
    "\n",
    "thunks = thunks.with_columns(pl.lit(False).alias(\"new\"))\n",
    "for dest in unfound[\"Address\"]:\n",
    "    addr = find_next_addr()\n",
    "    print(f\"Using {addr} to place a new thunk to {dest}\")\n",
    "    if addr is None:\n",
    "        raise RuntimeError(\"Can't place new thunk: no available space\")\n",
    "\n",
    "    func = iat.filter(pl.col(\"Address\") == dest)\n",
    "    if func.shape[0] > 0:\n",
    "        modname = func[\"Module\"][0]\n",
    "        funname = func[\"Function\"][0]\n",
    "    else:\n",
    "        modname, funname = None, None\n",
    "\n",
    "    thunks = thunks.vstack(\n",
    "        pl.DataFrame(\n",
    "            {\n",
    "                \"Call address\": hex(int(addr, 16)),\n",
    "                \"Destination\": hex(int(dest, 16)),\n",
    "                \"is_thunk\": True,\n",
    "                \"Module\": modname,\n",
    "                \"Function\": funname,\n",
    "                \"new\": True,\n",
    "            }\n",
    "        )\n",
    "    )\n",
    "\n",
    "unfound = unfound.clear()\n",
    "print(thunks.shape)"
   ]
  },
  {
   "cell_type": "code",
   "execution_count": 35,
   "id": "18f0474f",
   "metadata": {},
   "outputs": [
    {
     "data": {
      "text/plain": [
       "(923, 7)"
      ]
     },
     "execution_count": 35,
     "metadata": {},
     "output_type": "execute_result"
    }
   ],
   "source": [
    "# setting thunks to renewed iat\n",
    "thunks = thunks.join(to_thunk.select(\"Calladdr\", \"Address\").rename({\"Calladdr\": \"iat_addr\"}).unique(\"Address\"), left_on=\"Destination\", right_on=\"Address\", how='left')\n",
    "thunks.shape"
   ]
  },
  {
   "cell_type": "code",
   "execution_count": 36,
   "id": "75f8591c",
   "metadata": {},
   "outputs": [
    {
     "data": {
      "text/html": [
       "<div><style>\n",
       ".dataframe > thead > tr,\n",
       ".dataframe > tbody > tr {\n",
       "  text-align: right;\n",
       "  white-space: pre-wrap;\n",
       "}\n",
       "</style>\n",
       "<small>shape: (6, 7)</small><table border=\"1\" class=\"dataframe\"><thead><tr><th>Call address</th><th>Destination</th><th>is_thunk</th><th>Module</th><th>Function</th><th>new</th><th>iat_addr</th></tr><tr><td>str</td><td>str</td><td>bool</td><td>str</td><td>str</td><td>bool</td><td>str</td></tr></thead><tbody><tr><td>&quot;0x14fc183&quot;</td><td>&quot;0x763a3dd0&quot;</td><td>true</td><td>&quot;kernel32.dll&quot;</td><td>&quot;SetConsoleTextAttribute&quot;</td><td>false</td><td>&quot;0x01588388&quot;</td></tr><tr><td>&quot;0x14ab2a4&quot;</td><td>&quot;0x6f67ba2c&quot;</td><td>true</td><td>&quot;msvcr90.dll&quot;</td><td>&quot;_acmdln&quot;</td><td>true</td><td>&quot;0x01588558&quot;</td></tr><tr><td>&quot;0x14ab2aa&quot;</td><td>&quot;0x6f64ce5a&quot;</td><td>true</td><td>&quot;msvcr90.dll&quot;</td><td>&quot;_onexit&quot;</td><td>true</td><td>&quot;0x01588578&quot;</td></tr><tr><td>&quot;0x14ab368&quot;</td><td>&quot;0x23e3673&quot;</td><td>true</td><td>null</td><td>null</td><td>true</td><td>null</td></tr><tr><td>&quot;0x14ab3c2&quot;</td><td>&quot;0x6f67c618&quot;</td><td>true</td><td>&quot;msvcr90.dll&quot;</td><td>&quot;_adjust_fdiv&quot;</td><td>true</td><td>&quot;0x01588544&quot;</td></tr><tr><td>&quot;0x14ab3c8&quot;</td><td>&quot;0x732f132c&quot;</td><td>true</td><td>&quot;msvcp90.dll&quot;</td><td>&quot;?npos@?$basic_string@DU?$char_…</td><td>true</td><td>&quot;0x0158839C&quot;</td></tr></tbody></table></div>"
      ],
      "text/plain": [
       "shape: (6, 7)\n",
       "┌──────────────┬─────────────┬──────────┬──────────────┬──────────────────────┬───────┬────────────┐\n",
       "│ Call address ┆ Destination ┆ is_thunk ┆ Module       ┆ Function             ┆ new   ┆ iat_addr   │\n",
       "│ ---          ┆ ---         ┆ ---      ┆ ---          ┆ ---                  ┆ ---   ┆ ---        │\n",
       "│ str          ┆ str         ┆ bool     ┆ str          ┆ str                  ┆ bool  ┆ str        │\n",
       "╞══════════════╪═════════════╪══════════╪══════════════╪══════════════════════╪═══════╪════════════╡\n",
       "│ 0x14fc183    ┆ 0x763a3dd0  ┆ true     ┆ kernel32.dll ┆ SetConsoleTextAttrib ┆ false ┆ 0x01588388 │\n",
       "│              ┆             ┆          ┆              ┆ ute                  ┆       ┆            │\n",
       "│ 0x14ab2a4    ┆ 0x6f67ba2c  ┆ true     ┆ msvcr90.dll  ┆ _acmdln              ┆ true  ┆ 0x01588558 │\n",
       "│ 0x14ab2aa    ┆ 0x6f64ce5a  ┆ true     ┆ msvcr90.dll  ┆ _onexit              ┆ true  ┆ 0x01588578 │\n",
       "│ 0x14ab368    ┆ 0x23e3673   ┆ true     ┆ null         ┆ null                 ┆ true  ┆ null       │\n",
       "│ 0x14ab3c2    ┆ 0x6f67c618  ┆ true     ┆ msvcr90.dll  ┆ _adjust_fdiv         ┆ true  ┆ 0x01588544 │\n",
       "│ 0x14ab3c8    ┆ 0x732f132c  ┆ true     ┆ msvcp90.dll  ┆ ?npos@?$basic_string ┆ true  ┆ 0x0158839C │\n",
       "│              ┆             ┆          ┆              ┆ @DU?$char_…          ┆       ┆            │\n",
       "└──────────────┴─────────────┴──────────┴──────────────┴──────────────────────┴───────┴────────────┘"
      ]
     },
     "execution_count": 36,
     "metadata": {},
     "output_type": "execute_result"
    }
   ],
   "source": [
    "thunks.tail(6)"
   ]
  },
  {
   "cell_type": "markdown",
   "id": "a48264a4",
   "metadata": {},
   "source": [
    "# Fix calls"
   ]
  },
  {
   "cell_type": "markdown",
   "id": "99080ea7",
   "metadata": {},
   "source": [
    "Suspect calls are <90 e8 ? ? ? ?> and <e8 ? ? ? ? 90>, as well as analyzed calls by disassembler (IDA Pro)"
   ]
  },
  {
   "cell_type": "code",
   "execution_count": 37,
   "id": "a26d8a2b",
   "metadata": {},
   "outputs": [
    {
     "data": {
      "text/plain": [
       "(32791, 4)"
      ]
     },
     "execution_count": 37,
     "metadata": {},
     "output_type": "execute_result"
    }
   ],
   "source": [
    "calls = pl.read_csv(byte_calls_p)\n",
    "calls_inst = pl.read_csv(inst_calls_p)\n",
    "calls = calls.vstack(calls_inst).unique(\"Call address\")\n",
    "calls = calls.drop(\"Resolved name\")\n",
    "calls.shape"
   ]
  },
  {
   "cell_type": "code",
   "execution_count": 38,
   "id": "08b356c3",
   "metadata": {},
   "outputs": [
    {
     "data": {
      "text/plain": [
       "(31907, 4)"
      ]
     },
     "execution_count": 38,
     "metadata": {},
     "output_type": "execute_result"
    }
   ],
   "source": [
    "thunk_int_addr = thunks.select(pl.col(\"Call address\").str.slice(2).str.to_integer(base=16))\n",
    "thunk_int_addr_1 = thunk_int_addr.select(pl.col(\"Call address\") - 1)\n",
    "thunk_addrs = set(thunk_int_addr[\"Call address\"].to_list() + thunk_int_addr_1[\"Call address\"].to_list())\n",
    "\n",
    "calls = calls.filter(~pl.col(\"Call address\").str.slice(2).str.to_integer(base=16).is_in(thunk_addrs))\n",
    "calls.shape"
   ]
  },
  {
   "cell_type": "code",
   "execution_count": 39,
   "id": "3608e946",
   "metadata": {},
   "outputs": [
    {
     "data": {
      "text/plain": [
       "(30879, 4)"
      ]
     },
     "execution_count": 39,
     "metadata": {},
     "output_type": "execute_result"
    }
   ],
   "source": [
    "valid_addresses = set(dump_imports[\"Address\"].to_list())\n",
    "calls = calls.filter(pl.col(\"Destination\").is_in(valid_addresses))\n",
    "calls.shape"
   ]
  },
  {
   "cell_type": "code",
   "execution_count": 40,
   "id": "099cfda7",
   "metadata": {},
   "outputs": [
    {
     "data": {
      "text/plain": [
       "(30879, 5)"
      ]
     },
     "execution_count": 40,
     "metadata": {},
     "output_type": "execute_result"
    }
   ],
   "source": [
    "thunks_to_join = thunks.select(pl.col(\"Destination\"), pl.col(\"Call address\").alias(\"thunk address\")).unique(\"Destination\")\n",
    "calls = calls.join(thunks_to_join, on=\"Destination\", how='left')\n",
    "calls.shape"
   ]
  },
  {
   "cell_type": "code",
   "execution_count": 41,
   "id": "282c93df",
   "metadata": {},
   "outputs": [],
   "source": [
    "# all calls have their thunk\n",
    "assert calls.filter(pl.col(\"thunk address\").is_null()).shape[0] == 0"
   ]
  },
  {
   "cell_type": "markdown",
   "id": "f0eb8311",
   "metadata": {},
   "source": [
    "# Patch PE"
   ]
  },
  {
   "cell_type": "code",
   "execution_count": 42,
   "id": "55c3af93",
   "metadata": {},
   "outputs": [],
   "source": [
    "from addr_helpers import hex_to_LE, to_bin, rel_call\n",
    "\n",
    "schema = {\n",
    "    \"patch_addr\": pl.String,\n",
    "    \"mem_old\": pl.String,\n",
    "    \"patch\": pl.String,\n",
    "}"
   ]
  },
  {
   "cell_type": "code",
   "execution_count": 43,
   "id": "b2b37222",
   "metadata": {},
   "outputs": [],
   "source": [
    "def create_thunk(addr: str, dest: str, iat: str, new: bool, real: bool = True) -> pl.DataFrame:\n",
    "    patch_addr = hex(int(addr, 16) - 1 + int(new))\n",
    "    mem_old = 'CC' * 6\n",
    "    if not new:\n",
    "        mem_old = '90E9' + to_bin(rel_call(addr, dest))\n",
    "    if real:\n",
    "        patch = 'FF25' + to_bin(hex_to_LE(int(iat, 16)))\n",
    "    else:\n",
    "        patch = '90E9' + to_bin(rel_call(addr, dest))\n",
    "    return pl.DataFrame({\n",
    "        \"patch_addr\": patch_addr,\n",
    "        \"mem_old\": mem_old,\n",
    "        \"patch\": patch,\n",
    "    })"
   ]
  },
  {
   "cell_type": "code",
   "execution_count": 44,
   "id": "d780b497",
   "metadata": {},
   "outputs": [
    {
     "name": "stdout",
     "output_type": "stream",
     "text": [
      "(923, 3)\n"
     ]
    }
   ],
   "source": [
    "thunks_patch = pl.DataFrame(schema=schema)\n",
    "\n",
    "for addr, dest, mod, new, iat_addr in thunks.drop(\"is_thunk\", \"Function\").rows():\n",
    "    real = mod is not None\n",
    "    thunks_patch = thunks_patch.vstack(create_thunk(addr, dest, iat_addr, new, real))\n",
    "print(thunks_patch.shape)"
   ]
  },
  {
   "cell_type": "code",
   "execution_count": 45,
   "id": "9eb9db54",
   "metadata": {},
   "outputs": [
    {
     "name": "stderr",
     "output_type": "stream",
     "text": [
      "100%|██████████| 30879/30879 [00:00<00:00, 154211.50it/s]\n"
     ]
    },
    {
     "data": {
      "text/plain": [
       "(30879, 3)"
      ]
     },
     "execution_count": 45,
     "metadata": {},
     "output_type": "execute_result"
    }
   ],
   "source": [
    "patch_data = []\n",
    "\n",
    "for call in tqdm(calls.rows()):\n",
    "    sub, inst, addr, dest, thunk_addr = call\n",
    "\n",
    "    # Determine opcode based on instruction\n",
    "    match inst:\n",
    "        case 'call':\n",
    "            opcode = 'E8'\n",
    "        case \"jmp\":\n",
    "            opcode = \"E9\"\n",
    "        case _:\n",
    "            raise RuntimeError(f\"Unsupported instruction {inst}\")\n",
    "    \n",
    "    if thunk_addr:\n",
    "        thunk_addr = hex(int(thunk_addr, 16) - 1)\n",
    "    \n",
    "    naddr = hex(int(addr, 16) - 5)\n",
    "\n",
    "    dest_bin = to_bin(rel_call(addr, dest))\n",
    "    thunk_bin = to_bin(rel_call(naddr, hex(int(thunk_addr, 16) - 5)))\n",
    "\n",
    "    patch_data.append(\n",
    "        {\n",
    "            \"patch_addr\": addr,\n",
    "            \"mem_old\": opcode + dest_bin,\n",
    "            \"patch\": opcode + thunk_bin,\n",
    "        }\n",
    "    )\n",
    "\n",
    "# Create DataFrame in one operation\n",
    "calls_patch = pl.DataFrame(patch_data, schema=schema)\n",
    "calls_patch.shape"
   ]
  },
  {
   "cell_type": "code",
   "execution_count": 46,
   "id": "1cd98337",
   "metadata": {},
   "outputs": [],
   "source": [
    "thunks_patch.write_csv(patch_thunks_p)\n",
    "calls_patch.write_csv(patch_calls_p)"
   ]
  },
  {
   "cell_type": "markdown",
   "id": "525f9c4d",
   "metadata": {},
   "source": [
    "Now run ida_patch.py script in IDA Pro and apply changes"
   ]
  }
 ],
 "metadata": {
  "kernelspec": {
   "display_name": ".venv",
   "language": "python",
   "name": "python3"
  },
  "language_info": {
   "codemirror_mode": {
    "name": "ipython",
    "version": 3
   },
   "file_extension": ".py",
   "mimetype": "text/x-python",
   "name": "python",
   "nbconvert_exporter": "python",
   "pygments_lexer": "ipython3",
   "version": "3.12.10"
  }
 },
 "nbformat": 4,
 "nbformat_minor": 5
}
