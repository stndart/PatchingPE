{
 "cells": [
  {
   "cell_type": "code",
   "execution_count": null,
   "id": "481f0a04",
   "metadata": {},
   "outputs": [],
   "source": [
    "import os\n",
    "from pathlib import Path\n",
    "import shutil\n",
    "\n",
    "import lief\n",
    "import pefile\n",
    "import polars as pl\n",
    "from dotenv import load_dotenv\n"
   ]
  },
  {
   "cell_type": "markdown",
   "id": "a8821527",
   "metadata": {},
   "source": [
    "# Paths"
   ]
  },
  {
   "cell_type": "code",
   "execution_count": null,
   "id": "25958747",
   "metadata": {},
   "outputs": [],
   "source": [
    "# imports csv\n",
    "base = Path(\"../game-dump/dumps\")\n",
    "dump_imports_p = base / \"dump-imports.csv\"\n",
    "old_iat_p = base / \"old-iat.csv\"\n",
    "byte_calls_p = base / \"broken-byte-calls.csv\"\n",
    "inst_calls_p = base / \"broken-analyzed-calls.csv\""
   ]
  },
  {
   "cell_type": "code",
   "execution_count": null,
   "id": "593391f4",
   "metadata": {},
   "outputs": [],
   "source": [
    "names_map_p = \"../game-dump/names-map.csv\"\n",
    "names_map = pl.read_csv(names_map_p)"
   ]
  },
  {
   "cell_type": "code",
   "execution_count": null,
   "id": "ba0b2cba",
   "metadata": {},
   "outputs": [],
   "source": [
    "load_dotenv(Path(os.path.abspath('')).parent / \".env\")\n",
    "base_to_exe = Path(os.getenv(\"BASE_TO_EXE\", \"./\"))\n",
    "original_dump_path = base_to_exe / \"GAME_dump.exe\"\n",
    "patched_path = base_to_exe / \"GAME_patched.exe\""
   ]
  },
  {
   "cell_type": "markdown",
   "id": "528a06d9",
   "metadata": {},
   "source": [
    "# Parsing import table"
   ]
  },
  {
   "cell_type": "code",
   "execution_count": null,
   "id": "1b0322cf",
   "metadata": {},
   "outputs": [],
   "source": [
    "dump_imports = pl.read_csv(dump_imports_p).filter(pl.col(\"Module\") != \"game.exe\")"
   ]
  },
  {
   "cell_type": "code",
   "execution_count": null,
   "id": "82c7b0ee",
   "metadata": {},
   "outputs": [],
   "source": [
    "dump_imports.head(5)"
   ]
  },
  {
   "cell_type": "code",
   "execution_count": null,
   "id": "a9ff7f4c",
   "metadata": {},
   "outputs": [],
   "source": [
    "dump_imports = dump_imports.with_columns(pl.col(\"Function\").str.replace_all(\" \", \"\").str.slice(0,200))\n",
    "names_map = names_map.with_columns(\n",
    "    pl.col(\"undecorated\").str.replace_all(\" \", \"\").str.slice(0,200)\n",
    ")\n",
    "\n",
    "dump_imports = dump_imports.join(names_map, left_on=\"Function\", right_on=\"undecorated\", how=\"left\").with_columns(\n",
    "    pl.coalesce(\"decorated\", \"Function\").alias(\"Function\")\n",
    ").drop(\"decorated\")"
   ]
  },
  {
   "cell_type": "code",
   "execution_count": null,
   "id": "8832c31b",
   "metadata": {},
   "outputs": [],
   "source": [
    "dump_imports = dump_imports.with_columns((\"0x\" + pl.col(\"Address\").str.to_lowercase()).alias(\"Address\"))\n",
    "dump_imports = dump_imports.unique(\"Address\", keep='first').sort(\"Address\")"
   ]
  },
  {
   "cell_type": "code",
   "execution_count": null,
   "id": "764ca097",
   "metadata": {},
   "outputs": [],
   "source": [
    "dump_imports.head()"
   ]
  },
  {
   "cell_type": "markdown",
   "id": "61babda1",
   "metadata": {},
   "source": [
    "# Gathering imports from old IAT"
   ]
  },
  {
   "cell_type": "code",
   "execution_count": null,
   "id": "16db17a1",
   "metadata": {},
   "outputs": [],
   "source": [
    "iat = pl.read_csv(old_iat_p)\n",
    "\n",
    "iat = iat.rename({\"Address\": \"Calladdr\", \"Destination\": \"Address\"})\n",
    "iat = iat.with_columns((\"0x\" + pl.col(\"Address\").str.to_lowercase()).alias(\"Address\"))\n",
    "\n",
    "# iat = iat.with_columns((pl.col(\"Address\").shift(+1).str.slice(2).str.to_integer(base=16) == 0).alias(\"first\").fill_null(True))\n",
    "# iat = iat.with_columns((pl.col(\"Address\").shift(-1).str.slice(2).str.to_integer(base=16) == 0).alias(\"last\").fill_null(True))\n",
    "\n",
    "iat = iat.join(dump_imports, on='Address', how='left')"
   ]
  },
  {
   "cell_type": "code",
   "execution_count": null,
   "id": "46bb8731",
   "metadata": {},
   "outputs": [],
   "source": [
    "iat2 = iat.filter(pl.col(\"Function\").is_null())\n",
    "iat2 = iat2.filter(pl.col(\"Address\").str.slice(2).str.to_integer(base=16) != 0)\n",
    "iat2"
   ]
  },
  {
   "cell_type": "markdown",
   "id": "30eaa06f",
   "metadata": {},
   "source": [
    "<0x023e3673> points to an intermediate call which i believe, is an obfuscated jump to user32.dll!wsprintfA"
   ]
  },
  {
   "cell_type": "markdown",
   "id": "02395501",
   "metadata": {},
   "source": [
    "Cancel forwarding imports (e.g. kernel32.dll,AllocateHeap -> ntdll.dll,RtlReAllocateHeap)"
   ]
  },
  {
   "cell_type": "code",
   "execution_count": null,
   "id": "8b7e9e02",
   "metadata": {},
   "outputs": [],
   "source": [
    "systemroot = \"C:/Windows/System32/\"\n",
    "forwarding_modules = [\"kernel32.dll\", \"user32.dll\"]\n",
    "\n",
    "unforward_map: dict[str, tuple[str, str]] = dict()\n",
    "\n",
    "forwarded = iat.filter(pl.col(\"Module\") == \"ntdll.dll\")\n",
    "\n",
    "for modname in forwarding_modules:\n",
    "    modpath = systemroot + modname\n",
    "    number = 0\n",
    "\n",
    "    dll = pefile.PE(modpath)\n",
    "    dll.full_load()\n",
    "    for exp in dll.DIRECTORY_ENTRY_EXPORT.symbols:\n",
    "        name = exp.name.decode() if exp.name else f\"Ordinal#{exp.ordinal}\"\n",
    "        forward_to = ''\n",
    "        if exp.forwarder:\n",
    "            forward_to = exp.forwarder.decode().removeprefix(\"NTDLL.\")\n",
    "        if forwarded.filter(pl.col(\"Function\") == forward_to).shape[0] > 0:\n",
    "            number += 1\n",
    "            unforward_map[forward_to] = (modname, name)\n",
    "    \n",
    "    print(f'For {modname} there are {number} forwards')"
   ]
  },
  {
   "cell_type": "code",
   "execution_count": null,
   "id": "c55f549d",
   "metadata": {},
   "outputs": [],
   "source": [
    "for func in iat.filter(pl.col(\"Module\") == \"ntdll.dll\")[\"Function\"]:\n",
    "    if func not in unforward_map:\n",
    "        print(f\"Func {func} from ntdll.dll is not found in forward map\")\n",
    "        continue\n",
    "\n",
    "    origmod, origfunc = unforward_map[func]\n",
    "\n",
    "    if \"InitializeCrit\" in func:\n",
    "        print(func, origmod, origfunc)\n",
    "\n",
    "    condition = (pl.col(\"Module\") == \"ntdll.dll\") & (pl.col(\"Function\") == func)\n",
    "    iat = iat.with_columns(\n",
    "        [\n",
    "            pl.when(condition)\n",
    "            .then(pl.lit(origmod))\n",
    "            .otherwise(\"Module\")\n",
    "            .alias(\"Module\"),\n",
    "            pl.when(condition)\n",
    "            .then(pl.lit(origfunc))\n",
    "            .otherwise(\"Function\")\n",
    "            .alias(\"Function\"),\n",
    "        ]\n",
    "    )"
   ]
  },
  {
   "cell_type": "code",
   "execution_count": null,
   "id": "a1be213f",
   "metadata": {},
   "outputs": [],
   "source": [
    "iat.write_csv(str(old_iat_p) + '2.csv')"
   ]
  },
  {
   "cell_type": "code",
   "execution_count": null,
   "id": "370dc843",
   "metadata": {},
   "outputs": [],
   "source": [
    "iat_seg = (\n",
    "    iat.sort(\"Calladdr\").fill_null(\"\")\n",
    "    .with_columns(\n",
    "        (pl.col(\"Module\") != pl.col(\"Module\").shift(1)).cum_sum().alias(\"segment_id\")\n",
    "    )\n",
    "    .fill_null(0)\n",
    "    .filter(pl.col(\"Address\").str.slice(2).str.to_integer(base=16) != 0)\n",
    "    .filter(pl.col(\"Module\") != '')\n",
    ")\n",
    "segments = [group.drop(\"segment_id\") for _, group in iat_seg.group_by(\"segment_id\", maintain_order=True)]"
   ]
  },
  {
   "cell_type": "code",
   "execution_count": null,
   "id": "8b5753e0",
   "metadata": {},
   "outputs": [],
   "source": [
    "iat.filter(pl.col(\"Function\").str.contains(\"public\"))"
   ]
  },
  {
   "cell_type": "markdown",
   "id": "6cf1067b",
   "metadata": {},
   "source": [
    "# Constructing new IDT"
   ]
  },
  {
   "cell_type": "code",
   "execution_count": null,
   "id": "8c82b3eb",
   "metadata": {},
   "outputs": [],
   "source": [
    "shutil.copy(original_dump_path, patched_path)\n",
    "\n",
    "pe_lief = lief.PE.parse(patched_path)\n",
    "pe_lief.remove_all_imports()"
   ]
  },
  {
   "cell_type": "code",
   "execution_count": null,
   "id": "f4df9fcc",
   "metadata": {},
   "outputs": [],
   "source": [
    "def create_32bit_ordinal_import(ordinal_number: int) -> lief.PE.ImportEntry:\n",
    "    \"\"\"\n",
    "    Create a 32-bit import by ordinal\n",
    "\n",
    "    Args:\n",
    "        ordinal_number: The ordinal number (0-65535)\n",
    "    \"\"\"\n",
    "    # Validate ordinal range\n",
    "    if ordinal_number < 0 or ordinal_number > 0xFFFF:\n",
    "        raise ValueError(\"Ordinal number must be between 0 and 65535\")\n",
    "\n",
    "    # For 32-bit PE:\n",
    "    # - Set bit 31 to 1 (0x80000000)\n",
    "    # - Bits 30-16 must be 0\n",
    "    # - Bits 15-0 contain the ordinal\n",
    "    ORDINAL_MASK_32 = 0x80000000\n",
    "    data_value = ORDINAL_MASK_32 | ordinal_number\n",
    "\n",
    "    # Create the import entry\n",
    "    entry = lief.PE.ImportEntry(data_value, lief.PE.PE_TYPE.PE32)\n",
    "\n",
    "    return entry"
   ]
  },
  {
   "cell_type": "markdown",
   "id": "189b9d6f",
   "metadata": {},
   "source": [
    "Creates brand new IDT with new IAT and ILT"
   ]
  },
  {
   "cell_type": "code",
   "execution_count": null,
   "id": "bc3053a7",
   "metadata": {},
   "outputs": [],
   "source": [
    "# segments[7].write_csv(base/'temp/msvcp90.csv')"
   ]
  },
  {
   "cell_type": "code",
   "execution_count": null,
   "id": "e11d7936",
   "metadata": {},
   "outputs": [],
   "source": [
    "for seg in segments:\n",
    "    dll = seg['Module'][0]\n",
    "    if dll is None or dll == '':\n",
    "        continue\n",
    "\n",
    "    mod = pe_lief.add_import(dll)\n",
    "    for calladdr, _, _, func in seg.rows():\n",
    "        if func.startswith('Ordinal#'):\n",
    "            ordinal = int(func.removeprefix(\"Ordinal#\"))\n",
    "            entry = create_32bit_ordinal_import(ordinal)\n",
    "        else:\n",
    "            entry = lief.PE.ImportEntry(func)\n",
    "        mod.add_entry(entry)"
   ]
  },
  {
   "cell_type": "code",
   "execution_count": null,
   "id": "60798d4a",
   "metadata": {},
   "outputs": [],
   "source": [
    "config = lief.PE.Builder.config_t()\n",
    "config.imports = True\n",
    "\n",
    "bb = lief.PE.Builder(pe_lief, config)\n",
    "bb.build()\n",
    "bb.write(str(patched_path))"
   ]
  },
  {
   "cell_type": "markdown",
   "id": "b58b181f",
   "metadata": {},
   "source": [
    "Reset IAT to the old IAT address"
   ]
  },
  {
   "cell_type": "code",
   "execution_count": null,
   "id": "eb63c314",
   "metadata": {},
   "outputs": [],
   "source": [
    "p2 = str(patched_path)"
   ]
  },
  {
   "cell_type": "code",
   "execution_count": null,
   "id": "93ee3d72",
   "metadata": {},
   "outputs": [],
   "source": [
    "p2 = \"G:/Games/FA/FA-EMU/Shipping/GAME_dump_mod_SCY.exe\""
   ]
  },
  {
   "cell_type": "code",
   "execution_count": null,
   "id": "1be5ba63",
   "metadata": {},
   "outputs": [],
   "source": [
    "pe = pefile.PE(patched_path)\n",
    "pe.full_load()"
   ]
  },
  {
   "cell_type": "code",
   "execution_count": null,
   "id": "65856e00",
   "metadata": {},
   "outputs": [],
   "source": [
    "assert len(pe.DIRECTORY_ENTRY_IMPORT) == len(segments), \"Change the MAX_REPEATED_ADDRESSES to >20\""
   ]
  },
  {
   "cell_type": "code",
   "execution_count": null,
   "id": "89263bd0",
   "metadata": {},
   "outputs": [],
   "source": [
    "for i, seg in enumerate(segments):\n",
    "    first_thunk = int(seg[\"Calladdr\"][0], 16)\n",
    "\n",
    "    pe.DIRECTORY_ENTRY_IMPORT[i].struct.FirstThunk = (\n",
    "        first_thunk - pe.OPTIONAL_HEADER.ImageBase\n",
    "    )"
   ]
  },
  {
   "cell_type": "code",
   "execution_count": null,
   "id": "37ac88ff",
   "metadata": {},
   "outputs": [],
   "source": [
    "temp = \"exe.exe\"\n",
    "pe.write(filename=temp)\n",
    "pe.close()\n",
    "shutil.move(temp, patched_path)"
   ]
  },
  {
   "cell_type": "code",
   "execution_count": null,
   "id": "be2c4e1f",
   "metadata": {},
   "outputs": [],
   "source": []
  },
  {
   "cell_type": "code",
   "execution_count": null,
   "id": "4d3dc134",
   "metadata": {},
   "outputs": [],
   "source": []
  },
  {
   "cell_type": "code",
   "execution_count": null,
   "id": "db6f273d",
   "metadata": {},
   "outputs": [],
   "source": []
  },
  {
   "cell_type": "markdown",
   "id": "e5c29dc3",
   "metadata": {},
   "source": [
    "# Fix thunks"
   ]
  },
  {
   "cell_type": "code",
   "execution_count": null,
   "id": "c3017ff0",
   "metadata": {},
   "outputs": [],
   "source": []
  },
  {
   "cell_type": "markdown",
   "id": "a48264a4",
   "metadata": {},
   "source": [
    "# Fix calls"
   ]
  },
  {
   "cell_type": "code",
   "execution_count": null,
   "id": "99080ea7",
   "metadata": {},
   "outputs": [],
   "source": []
  },
  {
   "cell_type": "markdown",
   "id": "f0eb8311",
   "metadata": {},
   "source": [
    "# Patch PE"
   ]
  },
  {
   "cell_type": "code",
   "execution_count": null,
   "id": "1cd98337",
   "metadata": {},
   "outputs": [],
   "source": []
  }
 ],
 "metadata": {
  "kernelspec": {
   "display_name": ".venv",
   "language": "python",
   "name": "python3"
  },
  "language_info": {
   "codemirror_mode": {
    "name": "ipython",
    "version": 3
   },
   "file_extension": ".py",
   "mimetype": "text/x-python",
   "name": "python",
   "nbconvert_exporter": "python",
   "pygments_lexer": "ipython3",
   "version": "3.12.10"
  }
 },
 "nbformat": 4,
 "nbformat_minor": 5
}
