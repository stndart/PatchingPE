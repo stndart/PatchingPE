{
 "cells": [
  {
   "cell_type": "code",
   "execution_count": null,
   "id": "481f0a04",
   "metadata": {},
   "outputs": [],
   "source": [
    "import polars as pl"
   ]
  },
  {
   "cell_type": "markdown",
   "id": "a8821527",
   "metadata": {},
   "source": [
    "# Paths"
   ]
  },
  {
   "cell_type": "code",
   "execution_count": null,
   "id": "25958747",
   "metadata": {},
   "outputs": [],
   "source": [
    "# imports csv\n",
    "base = \"../game-dump/dumps/\"\n",
    "dump_imports_p = base + \"dump-imports.csv\"\n",
    "old_iat_p = base + \"old-iat.csv\"\n",
    "byte_calls_p = base + \"broken-byte-calls.csv\"\n",
    "inst_calls_p = base + \"broken-analyzed-calls.csv\""
   ]
  },
  {
   "cell_type": "code",
   "execution_count": null,
   "id": "593391f4",
   "metadata": {},
   "outputs": [],
   "source": [
    "names_map_p = \"../game-dump/names-map.csv\"\n",
    "names_map = pl.read_csv(names_map_p)"
   ]
  },
  {
   "cell_type": "markdown",
   "id": "528a06d9",
   "metadata": {},
   "source": [
    "# Parsing import table"
   ]
  },
  {
   "cell_type": "code",
   "execution_count": null,
   "id": "1b0322cf",
   "metadata": {},
   "outputs": [],
   "source": [
    "dump_imports = pl.read_csv(dump_imports_p).filter(pl.col(\"Module\") != \"game.exe\")"
   ]
  },
  {
   "cell_type": "code",
   "execution_count": null,
   "id": "a9ff7f4c",
   "metadata": {},
   "outputs": [],
   "source": [
    "dump_imports = dump_imports.with_columns(pl.col(\"Function\").str.replace_all(\" \", \"\"))\n",
    "names_map = names_map.with_columns(\n",
    "    pl.col(\"undecorated\").str.replace_all(\" \", \"\").alias(\"Function\")\n",
    ")\n",
    "\n",
    "dump_imports = dump_imports.join(names_map.drop(\"undecorated\"), on=\"Function\", how=\"left\").with_columns(\n",
    "    pl.coalesce(\"decorated\", \"Function\").alias(\"Function\")\n",
    ").drop(\"decorated\")"
   ]
  },
  {
   "cell_type": "code",
   "execution_count": null,
   "id": "8832c31b",
   "metadata": {},
   "outputs": [],
   "source": [
    "dump_imports = dump_imports.with_columns((\"0x\" + pl.col(\"Address\").str.to_lowercase()).alias(\"Address\"))\n",
    "dump_imports = dump_imports.unique(\"Address\", keep='first')"
   ]
  },
  {
   "cell_type": "code",
   "execution_count": null,
   "id": "52198b64",
   "metadata": {},
   "outputs": [],
   "source": [
    "dump_imports.head()"
   ]
  },
  {
   "cell_type": "markdown",
   "id": "61babda1",
   "metadata": {},
   "source": [
    "# Gathering imports from old IAT"
   ]
  },
  {
   "cell_type": "code",
   "execution_count": null,
   "id": "16db17a1",
   "metadata": {},
   "outputs": [],
   "source": [
    "iat = pl.read_csv(old_iat_p)\n",
    "\n",
    "iat = iat.rename({\"Address\": \"Calladdr\", \"Destination\": \"Address\"})\n",
    "iat = iat.with_columns((\"0x\" + pl.col(\"Address\").str.to_lowercase()).alias(\"Address\"))\n",
    "\n",
    "iat = iat.with_columns((pl.col(\"Address\").shift(+1).str.slice(2).str.to_integer(base=16) == 0).alias(\"first\").fill_null(True))\n",
    "iat = iat.with_columns((pl.col(\"Address\").shift(-1).str.slice(2).str.to_integer(base=16) == 0).alias(\"last\").fill_null(True))\n",
    "\n",
    "iat = iat.join(dump_imports, on='Address', how='left')"
   ]
  },
  {
   "cell_type": "code",
   "execution_count": null,
   "id": "06f564c9",
   "metadata": {},
   "outputs": [],
   "source": [
    "iat.drop(\"first\", \"last\").write_csv(old_iat_p + '2.csv')"
   ]
  },
  {
   "cell_type": "code",
   "execution_count": null,
   "id": "2e1bc729",
   "metadata": {},
   "outputs": [],
   "source": [
    "pl.Config(tbl_rows=40)"
   ]
  },
  {
   "cell_type": "code",
   "execution_count": null,
   "id": "46bb8731",
   "metadata": {},
   "outputs": [],
   "source": [
    "iat2 = iat.filter(pl.col(\"Function\").is_null())\n",
    "iat2 = iat2.filter(pl.col(\"Address\").str.slice(2).str.to_integer(base=16) != 0)"
   ]
  },
  {
   "cell_type": "markdown",
   "id": "30eaa06f",
   "metadata": {},
   "source": [
    "<0x023e3673> points to an intermediate call which i believe, is an obfuscated jump to user32.dll!wsprintfA"
   ]
  },
  {
   "cell_type": "code",
   "execution_count": null,
   "id": "02395501",
   "metadata": {},
   "outputs": [],
   "source": [
    "iat.head()"
   ]
  },
  {
   "cell_type": "code",
   "execution_count": null,
   "id": "8b7e9e02",
   "metadata": {},
   "outputs": [],
   "source": []
  }
 ],
 "metadata": {
  "kernelspec": {
   "display_name": ".venv",
   "language": "python",
   "name": "python3"
  },
  "language_info": {
   "codemirror_mode": {
    "name": "ipython",
    "version": 3
   },
   "file_extension": ".py",
   "mimetype": "text/x-python",
   "name": "python",
   "nbconvert_exporter": "python",
   "pygments_lexer": "ipython3",
   "version": "3.12.10"
  }
 },
 "nbformat": 4,
 "nbformat_minor": 5
}
