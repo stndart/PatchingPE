{
 "cells": [
  {
   "cell_type": "markdown",
   "id": "f9d08c88",
   "metadata": {},
   "source": [
    "# Patching calls (and jumps)"
   ]
  },
  {
   "cell_type": "markdown",
   "id": "c10b02e7",
   "metadata": {},
   "source": [
    "Copy-paste that in IDA Pro with loaded \"Game_dump_mod.exe\""
   ]
  },
  {
   "cell_type": "code",
   "execution_count": null,
   "id": "e8ac4f97",
   "metadata": {},
   "outputs": [],
   "source": [
    "import polars as pl\n",
    "\n",
    "import ida_bytes\n",
    "import ida_kernwin\n",
    "\n",
    "\n",
    "def patch_bytes(patch_addr: str, mem_old: str, mem_new: str, verbose=False):\n",
    "    \"\"\"\n",
    "    Replaces bytes at the given address in IDA memory if they match expected bytes.\n",
    "\n",
    "    Args:\n",
    "        patch_addr (str): Address in hex, e.g. \"0x401000\" or \"401000\".\n",
    "        mem_old (str): Expected bytes in uppercase hex, e.g. \"E9CA1E375D\".\n",
    "        mem_new (str): Replacement bytes in uppercase hex, same length as mem_old.\n",
    "    \"\"\"\n",
    "\n",
    "    # Convert inputs\n",
    "    ea = int(patch_addr, 16)\n",
    "    old_bytes = bytes.fromhex(mem_old)\n",
    "    new_bytes = bytes.fromhex(mem_new)\n",
    "    size = len(old_bytes)\n",
    "\n",
    "    # Read current memory\n",
    "    current_bytes = ida_bytes.get_bytes(ea, size)\n",
    "    if current_bytes is None:\n",
    "        ida_kernwin.msg(f\"[!] Failed to read memory at {patch_addr}\\n\")\n",
    "        return False\n",
    "\n",
    "    # Compare\n",
    "    if current_bytes != old_bytes:\n",
    "        if patch == current_bytes.hex().upper() and not verbose:\n",
    "            return True\n",
    "\n",
    "        ida_kernwin.msg(\n",
    "            f\"[!] Memory at {patch_addr} does not match expected old bytes.\\n\"\n",
    "        )\n",
    "        ida_kernwin.msg(f\"    Expected: {mem_old}\\n\")\n",
    "        ida_kernwin.msg(f\"    Found:    {current_bytes.hex().upper()}\\n\")\n",
    "        ida_kernwin.msg(f\"    Wanted:   {patch}\\n\")\n",
    "        return patch == current_bytes.hex().upper()\n",
    "\n",
    "    # Patch\n",
    "    for i in range(size):\n",
    "        ida_bytes.patch_byte(ea + i, new_bytes[i])\n",
    "\n",
    "    if verbose:\n",
    "        ida_kernwin.msg(\n",
    "            f\"[+] Patched {size} bytes at {patch_addr}: {mem_old} → {mem_new}\\n\"\n",
    "        )\n",
    "    return True\n",
    "\n",
    "\n",
    "base = \"C:/Users/Svyat/Desktop/RE/PatchingPE/game-dump/\"\n",
    "fn0 = base + \"calls_patch.csv\"\n",
    "calls_patch = pl.read_csv(fn0)\n",
    "\n",
    "counter = 0\n",
    "for patch_addr, mem_old, patch in calls_patch.rows():\n",
    "    if \"VERBOSE\" not in locals() and \"VERBOSE\" not in globals():\n",
    "        VERBOSE = False\n",
    "\n",
    "    if patch_bytes(patch_addr, mem_old, patch, verbose=VERBOSE):\n",
    "        counter += 1\n",
    "\n",
    "print(f\"Patched {counter}/{calls_patch.shape[0]} calls\")"
   ]
  },
  {
   "cell_type": "markdown",
   "id": "43b00a9a",
   "metadata": {},
   "source": [
    "# Patching thunks"
   ]
  },
  {
   "cell_type": "code",
   "execution_count": null,
   "id": "280ada9f",
   "metadata": {},
   "outputs": [],
   "source": [
    "fn1 = base + \"thunks_patch.csv\"\n",
    "thunks_patch = pl.read_csv(fn1)\n",
    "\n",
    "counter = 0\n",
    "for patch_addr, mem_old, patch in thunks_patch.rows():\n",
    "    if patch_bytes(patch_addr, mem_old, patch):\n",
    "        counter += 1\n",
    "\n",
    "print(f\"Patched {counter}/{thunks_patch.shape[0]} thunks\")"
   ]
  },
  {
   "cell_type": "markdown",
   "id": "96412363",
   "metadata": {},
   "source": [
    "# Patching old IAT"
   ]
  },
  {
   "cell_type": "code",
   "execution_count": null,
   "id": "eb0c7be1",
   "metadata": {},
   "outputs": [],
   "source": [
    "fn2 = base + \"old_iat_patch.csv\"\n",
    "iat_patch = pl.read_csv(fn2)\n",
    "\n",
    "counter = 0\n",
    "for patch_addr, mem_old, patch in iat_patch.rows():\n",
    "    if patch_bytes(patch_addr, mem_old, patch):\n",
    "        counter += 1\n",
    "\n",
    "print(f\"Patched {counter}/{iat_patch.shape[0]} old iat entries\")"
   ]
  },
  {
   "cell_type": "markdown",
   "id": "a210c34b",
   "metadata": {},
   "source": [
    "# Troubleshooting"
   ]
  },
  {
   "cell_type": "code",
   "execution_count": null,
   "id": "b5113cfa",
   "metadata": {},
   "outputs": [],
   "source": []
  }
 ],
 "metadata": {
  "kernelspec": {
   "display_name": ".venv",
   "language": "python",
   "name": "python3"
  },
  "language_info": {
   "codemirror_mode": {
    "name": "ipython",
    "version": 3
   },
   "file_extension": ".py",
   "mimetype": "text/x-python",
   "name": "python",
   "nbconvert_exporter": "python",
   "pygments_lexer": "ipython3",
   "version": "3.12.10"
  }
 },
 "nbformat": 4,
 "nbformat_minor": 5
}
