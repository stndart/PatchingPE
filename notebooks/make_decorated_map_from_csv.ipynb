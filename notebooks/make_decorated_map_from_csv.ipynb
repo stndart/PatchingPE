{
 "cells": [
  {
   "cell_type": "code",
   "execution_count": 8,
   "id": "8a2613e5",
   "metadata": {},
   "outputs": [],
   "source": [
    "import polars as pl"
   ]
  },
  {
   "cell_type": "code",
   "execution_count": 9,
   "id": "d8dbc9f5",
   "metadata": {},
   "outputs": [],
   "source": [
    "output_csv = \"../game-dump/names-map.csv\""
   ]
  },
  {
   "cell_type": "code",
   "execution_count": 10,
   "id": "c3dae034",
   "metadata": {},
   "outputs": [],
   "source": [
    "exports = pl.read_csv(\"../game-dump/game.exe.export.full.csv\")"
   ]
  },
  {
   "cell_type": "code",
   "execution_count": 11,
   "id": "869c8bdf",
   "metadata": {},
   "outputs": [
    {
     "data": {
      "text/html": [
       "<div><style>\n",
       ".dataframe > thead > tr,\n",
       ".dataframe > tbody > tr {\n",
       "  text-align: right;\n",
       "  white-space: pre-wrap;\n",
       "}\n",
       "</style>\n",
       "<small>shape: (36_995, 2)</small><table border=\"1\" class=\"dataframe\"><thead><tr><th>decorated</th><th>undecorated</th></tr><tr><td>str</td><td>str</td></tr></thead><tbody><tr><td>&quot;??_FSysAllocStatic@Scaleform@@…</td><td>&quot;public: void __thiscall Scalef…</td></tr><tr><td>&quot;??1AcquireInterface@Scaleform@…</td><td>&quot;public: virtual __thiscall Sca…</td></tr><tr><td>&quot;??1DefaultAcquireInterface@Sca…</td><td>&quot;public: virtual __thiscall Sca…</td></tr><tr><td>&quot;??_FMutex@Scaleform@@QAEXXZ&quot;</td><td>&quot;public: void __thiscall Scalef…</td></tr><tr><td>&quot;??_FEvent@Scaleform@@QAEXXZ&quot;</td><td>&quot;public: void __thiscall Scalef…</td></tr><tr><td>&hellip;</td><td>&hellip;</td></tr><tr><td>&quot;LdrParentInterlockedPopEntrySL…</td><td>&quot;LdrParentInterlockedPopEntrySL…</td></tr><tr><td>&quot;Wow64Transition&quot;</td><td>&quot;Wow64Transition&quot;</td></tr><tr><td>&quot;LdrSystemDllInitBlock&quot;</td><td>&quot;LdrSystemDllInitBlock&quot;</td></tr><tr><td>&quot;??_D?$basic_ofstream@DU?$char_…</td><td>&quot;public: void __thiscall std::b…</td></tr><tr><td>&quot;??_D?$basic_ifstream@DU?$char_…</td><td>&quot;public: void __thiscall std::b…</td></tr></tbody></table></div>"
      ],
      "text/plain": [
       "shape: (36_995, 2)\n",
       "┌─────────────────────────────────┬─────────────────────────────────┐\n",
       "│ decorated                       ┆ undecorated                     │\n",
       "│ ---                             ┆ ---                             │\n",
       "│ str                             ┆ str                             │\n",
       "╞═════════════════════════════════╪═════════════════════════════════╡\n",
       "│ ??_FSysAllocStatic@Scaleform@@… ┆ public: void __thiscall Scalef… │\n",
       "│ ??1AcquireInterface@Scaleform@… ┆ public: virtual __thiscall Sca… │\n",
       "│ ??1DefaultAcquireInterface@Sca… ┆ public: virtual __thiscall Sca… │\n",
       "│ ??_FMutex@Scaleform@@QAEXXZ     ┆ public: void __thiscall Scalef… │\n",
       "│ ??_FEvent@Scaleform@@QAEXXZ     ┆ public: void __thiscall Scalef… │\n",
       "│ …                               ┆ …                               │\n",
       "│ LdrParentInterlockedPopEntrySL… ┆ LdrParentInterlockedPopEntrySL… │\n",
       "│ Wow64Transition                 ┆ Wow64Transition                 │\n",
       "│ LdrSystemDllInitBlock           ┆ LdrSystemDllInitBlock           │\n",
       "│ ??_D?$basic_ofstream@DU?$char_… ┆ public: void __thiscall std::b… │\n",
       "│ ??_D?$basic_ifstream@DU?$char_… ┆ public: void __thiscall std::b… │\n",
       "└─────────────────────────────────┴─────────────────────────────────┘"
      ]
     },
     "execution_count": 11,
     "metadata": {},
     "output_type": "execute_result"
    }
   ],
   "source": [
    "schema = {\n",
    "    \"decorated\": pl.String,\n",
    "    \"undecorated\": pl.String,\n",
    "}\n",
    "\n",
    "df = pl.DataFrame(schema=schema)\n",
    "\n",
    "df = df.vstack(\n",
    "    exports.filter(pl.col(\"Type\") == \"Export\").select(\n",
    "        pl.col(\"Symbol\").alias(\"decorated\"),\n",
    "        pl.coalesce(\"Symbol (undecorated)\", \"Symbol\").alias(\"undecorated\")\n",
    "    )\n",
    ")\n",
    "\n",
    "df = df.vstack(\n",
    "    pl.DataFrame(\n",
    "        {\n",
    "            \"decorated\": [\n",
    "                \"??_D?$basic_ofstream@DU?$char_traits@D@std@@@std@@QAEXXZ\",\n",
    "                \"??_D?$basic_ifstream@DU?$char_traits@D@std@@@std@@QAEXXZ\",\n",
    "            ],\n",
    "            \"undecorated\": [\n",
    "                \"public: void __thiscall std::basic_ofstream<char, struct std::char_traits<char>>::`vbase dtor'(void)\",\n",
    "                \"public: void __thiscall std::basic_ifstream<char, struct std::char_traits<char>>::`vbase dtor'(void)\",\n",
    "            ],\n",
    "        }\n",
    "    )\n",
    ")\n",
    "\n",
    "df"
   ]
  },
  {
   "cell_type": "code",
   "execution_count": 12,
   "id": "877a148d",
   "metadata": {},
   "outputs": [],
   "source": [
    "df.write_csv(output_csv)"
   ]
  },
  {
   "cell_type": "markdown",
   "id": "8280eef6",
   "metadata": {},
   "source": [
    "# Troubleshooting"
   ]
  },
  {
   "cell_type": "code",
   "execution_count": 13,
   "id": "c7ca5dee",
   "metadata": {},
   "outputs": [],
   "source": [
    "# Адрес=57148D56\n",
    "# Тип=Экспорт\n",
    "# Порядковый номер=1030\n",
    "# Символ=??_D?$basic_ofstream@DU?$char_traits@D@std@@@std@@QAEXXZ\n",
    "# Символ (undecorated)=public: void __thiscall std::basic_ofstream<char, struct std::char_traits<char>>::`vbase dtor'(void)\n"
   ]
  },
  {
   "cell_type": "code",
   "execution_count": 14,
   "id": "ab6aab76",
   "metadata": {},
   "outputs": [],
   "source": [
    "# Адрес=57148CF3\n",
    "# Тип=Экспорт\n",
    "# Порядковый номер=1018\n",
    "# Символ=??_D?$basic_ifstream@DU?$char_traits@D@std@@@std@@QAEXXZ\n",
    "# Символ (undecorated)=public: void __thiscall std::basic_ifstream<char, struct std::char_traits<char>>::`vbase dtor'(void)\n"
   ]
  }
 ],
 "metadata": {
  "kernelspec": {
   "display_name": ".venv",
   "language": "python",
   "name": "python3"
  },
  "language_info": {
   "codemirror_mode": {
    "name": "ipython",
    "version": 3
   },
   "file_extension": ".py",
   "mimetype": "text/x-python",
   "name": "python",
   "nbconvert_exporter": "python",
   "pygments_lexer": "ipython3",
   "version": "3.12.10"
  }
 },
 "nbformat": 4,
 "nbformat_minor": 5
}
